{
  "nbformat": 4,
  "nbformat_minor": 0,
  "metadata": {
    "colab": {
      "provenance": [],
      "authorship_tag": "ABX9TyPkUQ0nnw1JRnCI4biylhaL",
      "include_colab_link": true
    },
    "kernelspec": {
      "name": "python3",
      "display_name": "Python 3"
    },
    "language_info": {
      "name": "python"
    }
  },
  "cells": [
    {
      "cell_type": "markdown",
      "metadata": {
        "id": "view-in-github",
        "colab_type": "text"
      },
      "source": [
        "<a href=\"https://colab.research.google.com/github/JoeBwonKenobi/Project-2/blob/main/Project2_Part_2.ipynb\" target=\"_parent\"><img src=\"https://colab.research.google.com/assets/colab-badge.svg\" alt=\"Open In Colab\"/></a>"
      ]
    },
    {
      "cell_type": "markdown",
      "source": [
        "#**Project2 Part2**"
      ],
      "metadata": {
        "id": "rc2MXZ2iuQTw"
      }
    },
    {
      "cell_type": "markdown",
      "source": [
        "Joe Lardie\n",
        "\n",
        "Jan 2023"
      ],
      "metadata": {
        "id": "ke0N_ytnuVvj"
      }
    },
    {
      "cell_type": "markdown",
      "source": [
        "##**Objective Review**"
      ],
      "metadata": {
        "id": "LpkiAQVAuhrf"
      }
    },
    {
      "cell_type": "markdown",
      "source": [
        "- Requirements:\n",
        "\n",
        "- Deleted unnecessary columns.\n",
        "- Deleted duplicate rows.\n",
        "- Identified and addressed missing values.\n",
        "- Identified and corrected inconsistencies in data for categorical values (i.e. Cat, cat, cats).\n",
        "- Produced univariate visuals for the target and all features.\n",
        "- Identified outliers.\n",
        "- Clearly commented all of your cleaning steps and described any decisions you made."
      ],
      "metadata": {
        "id": "5jXRTpdGuzIY"
      }
    },
    {
      "cell_type": "markdown",
      "source": [
        "##**Imports**"
      ],
      "metadata": {
        "id": "Chrpnu-hCEwQ"
      }
    },
    {
      "cell_type": "code",
      "execution_count": null,
      "metadata": {
        "id": "gDovWetafdJi"
      },
      "outputs": [],
      "source": [
        "#Numpy\n",
        "import numpy as np\n",
        "\n",
        "#Pandas\n",
        "import pandas as pd\n",
        "\n",
        "#Seaborn\n",
        "import seaborn as sns\n",
        "\n",
        "#matplotlib\n",
        "import matplotlib.pyplot as plt\n",
        "\n",
        "#Sklearn\n",
        "from sklearn.model_selection import train_test_split\n",
        "from sklearn.pipeline import Pipeline, make_pipeline\n",
        "from sklearn.impute import SimpleImputer\n",
        "from sklearn import preprocessing\n",
        "from sklearn import set_config\n",
        "set_config(display = 'diagram')"
      ]
    },
    {
      "cell_type": "markdown",
      "source": [
        "##**Loading Data**"
      ],
      "metadata": {
        "id": "zsz5FqhOCmKN"
      }
    },
    {
      "cell_type": "code",
      "source": [
        "from google.colab import drive\n",
        "drive.mount('/content/drive/')"
      ],
      "metadata": {
        "colab": {
          "base_uri": "https://localhost:8080/"
        },
        "id": "Xbh4lSsSBSq9",
        "outputId": "e2a008fb-e1ce-4f54-cd32-b0230679a833"
      },
      "execution_count": null,
      "outputs": [
        {
          "output_type": "stream",
          "name": "stdout",
          "text": [
            "Drive already mounted at /content/drive/; to attempt to forcibly remount, call drive.mount(\"/content/drive/\", force_remount=True).\n"
          ]
        }
      ]
    },
    {
      "cell_type": "code",
      "source": [
        "# Load Data for Car Insurance Data\n",
        "card = '/content/drive/MyDrive/CodingDojo/Colab Notebooks/Stack 2/Data/Car Insurance Data.csv'\n",
        "df = pd.read_csv(card)\n",
        "df.head()"
      ],
      "metadata": {
        "colab": {
          "base_uri": "https://localhost:8080/",
          "height": 357
        },
        "id": "Il0JRpLZBVae",
        "outputId": "670b4216-f917-4afe-d7c6-39792498cd1b"
      },
      "execution_count": null,
      "outputs": [
        {
          "output_type": "execute_result",
          "data": {
            "text/plain": [
              "       ID    AGE  GENDER      RACE DRIVING_EXPERIENCE    EDUCATION  \\\n",
              "0  569520    65+  female  majority               0-9y  high school   \n",
              "1  750365  16-25    male  majority               0-9y         none   \n",
              "2  199901  16-25  female  majority               0-9y  high school   \n",
              "3  478866  16-25    male  majority               0-9y   university   \n",
              "4  731664  26-39    male  majority             10-19y         none   \n",
              "\n",
              "          INCOME  CREDIT_SCORE  VEHICLE_OWNERSHIP VEHICLE_YEAR  MARRIED  \\\n",
              "0    upper class      0.629027                  1   after 2015        0   \n",
              "1        poverty      0.357757                  0  before 2015        0   \n",
              "2  working class      0.493146                  1  before 2015        0   \n",
              "3  working class      0.206013                  1  before 2015        0   \n",
              "4  working class      0.388366                  1  before 2015        0   \n",
              "\n",
              "   CHILDREN  POSTAL_CODE  ANNUAL_MILEAGE VEHICLE_TYPE  SPEEDING_VIOLATIONS  \\\n",
              "0         1        10238         12000.0        sedan                    0   \n",
              "1         0        10238         16000.0        sedan                    0   \n",
              "2         0        10238         11000.0        sedan                    0   \n",
              "3         1        32765         11000.0        sedan                    0   \n",
              "4         0        32765         12000.0        sedan                    2   \n",
              "\n",
              "   DUIS  PAST_ACCIDENTS  OUTCOME  \n",
              "0     0               0        0  \n",
              "1     0               0        1  \n",
              "2     0               0        0  \n",
              "3     0               0        0  \n",
              "4     0               1        1  "
            ],
            "text/html": [
              "\n",
              "  <div id=\"df-17aae7a6-3a53-469b-9c70-ed303a37fe15\">\n",
              "    <div class=\"colab-df-container\">\n",
              "      <div>\n",
              "<style scoped>\n",
              "    .dataframe tbody tr th:only-of-type {\n",
              "        vertical-align: middle;\n",
              "    }\n",
              "\n",
              "    .dataframe tbody tr th {\n",
              "        vertical-align: top;\n",
              "    }\n",
              "\n",
              "    .dataframe thead th {\n",
              "        text-align: right;\n",
              "    }\n",
              "</style>\n",
              "<table border=\"1\" class=\"dataframe\">\n",
              "  <thead>\n",
              "    <tr style=\"text-align: right;\">\n",
              "      <th></th>\n",
              "      <th>ID</th>\n",
              "      <th>AGE</th>\n",
              "      <th>GENDER</th>\n",
              "      <th>RACE</th>\n",
              "      <th>DRIVING_EXPERIENCE</th>\n",
              "      <th>EDUCATION</th>\n",
              "      <th>INCOME</th>\n",
              "      <th>CREDIT_SCORE</th>\n",
              "      <th>VEHICLE_OWNERSHIP</th>\n",
              "      <th>VEHICLE_YEAR</th>\n",
              "      <th>MARRIED</th>\n",
              "      <th>CHILDREN</th>\n",
              "      <th>POSTAL_CODE</th>\n",
              "      <th>ANNUAL_MILEAGE</th>\n",
              "      <th>VEHICLE_TYPE</th>\n",
              "      <th>SPEEDING_VIOLATIONS</th>\n",
              "      <th>DUIS</th>\n",
              "      <th>PAST_ACCIDENTS</th>\n",
              "      <th>OUTCOME</th>\n",
              "    </tr>\n",
              "  </thead>\n",
              "  <tbody>\n",
              "    <tr>\n",
              "      <th>0</th>\n",
              "      <td>569520</td>\n",
              "      <td>65+</td>\n",
              "      <td>female</td>\n",
              "      <td>majority</td>\n",
              "      <td>0-9y</td>\n",
              "      <td>high school</td>\n",
              "      <td>upper class</td>\n",
              "      <td>0.629027</td>\n",
              "      <td>1</td>\n",
              "      <td>after 2015</td>\n",
              "      <td>0</td>\n",
              "      <td>1</td>\n",
              "      <td>10238</td>\n",
              "      <td>12000.0</td>\n",
              "      <td>sedan</td>\n",
              "      <td>0</td>\n",
              "      <td>0</td>\n",
              "      <td>0</td>\n",
              "      <td>0</td>\n",
              "    </tr>\n",
              "    <tr>\n",
              "      <th>1</th>\n",
              "      <td>750365</td>\n",
              "      <td>16-25</td>\n",
              "      <td>male</td>\n",
              "      <td>majority</td>\n",
              "      <td>0-9y</td>\n",
              "      <td>none</td>\n",
              "      <td>poverty</td>\n",
              "      <td>0.357757</td>\n",
              "      <td>0</td>\n",
              "      <td>before 2015</td>\n",
              "      <td>0</td>\n",
              "      <td>0</td>\n",
              "      <td>10238</td>\n",
              "      <td>16000.0</td>\n",
              "      <td>sedan</td>\n",
              "      <td>0</td>\n",
              "      <td>0</td>\n",
              "      <td>0</td>\n",
              "      <td>1</td>\n",
              "    </tr>\n",
              "    <tr>\n",
              "      <th>2</th>\n",
              "      <td>199901</td>\n",
              "      <td>16-25</td>\n",
              "      <td>female</td>\n",
              "      <td>majority</td>\n",
              "      <td>0-9y</td>\n",
              "      <td>high school</td>\n",
              "      <td>working class</td>\n",
              "      <td>0.493146</td>\n",
              "      <td>1</td>\n",
              "      <td>before 2015</td>\n",
              "      <td>0</td>\n",
              "      <td>0</td>\n",
              "      <td>10238</td>\n",
              "      <td>11000.0</td>\n",
              "      <td>sedan</td>\n",
              "      <td>0</td>\n",
              "      <td>0</td>\n",
              "      <td>0</td>\n",
              "      <td>0</td>\n",
              "    </tr>\n",
              "    <tr>\n",
              "      <th>3</th>\n",
              "      <td>478866</td>\n",
              "      <td>16-25</td>\n",
              "      <td>male</td>\n",
              "      <td>majority</td>\n",
              "      <td>0-9y</td>\n",
              "      <td>university</td>\n",
              "      <td>working class</td>\n",
              "      <td>0.206013</td>\n",
              "      <td>1</td>\n",
              "      <td>before 2015</td>\n",
              "      <td>0</td>\n",
              "      <td>1</td>\n",
              "      <td>32765</td>\n",
              "      <td>11000.0</td>\n",
              "      <td>sedan</td>\n",
              "      <td>0</td>\n",
              "      <td>0</td>\n",
              "      <td>0</td>\n",
              "      <td>0</td>\n",
              "    </tr>\n",
              "    <tr>\n",
              "      <th>4</th>\n",
              "      <td>731664</td>\n",
              "      <td>26-39</td>\n",
              "      <td>male</td>\n",
              "      <td>majority</td>\n",
              "      <td>10-19y</td>\n",
              "      <td>none</td>\n",
              "      <td>working class</td>\n",
              "      <td>0.388366</td>\n",
              "      <td>1</td>\n",
              "      <td>before 2015</td>\n",
              "      <td>0</td>\n",
              "      <td>0</td>\n",
              "      <td>32765</td>\n",
              "      <td>12000.0</td>\n",
              "      <td>sedan</td>\n",
              "      <td>2</td>\n",
              "      <td>0</td>\n",
              "      <td>1</td>\n",
              "      <td>1</td>\n",
              "    </tr>\n",
              "  </tbody>\n",
              "</table>\n",
              "</div>\n",
              "      <button class=\"colab-df-convert\" onclick=\"convertToInteractive('df-17aae7a6-3a53-469b-9c70-ed303a37fe15')\"\n",
              "              title=\"Convert this dataframe to an interactive table.\"\n",
              "              style=\"display:none;\">\n",
              "        \n",
              "  <svg xmlns=\"http://www.w3.org/2000/svg\" height=\"24px\"viewBox=\"0 0 24 24\"\n",
              "       width=\"24px\">\n",
              "    <path d=\"M0 0h24v24H0V0z\" fill=\"none\"/>\n",
              "    <path d=\"M18.56 5.44l.94 2.06.94-2.06 2.06-.94-2.06-.94-.94-2.06-.94 2.06-2.06.94zm-11 1L8.5 8.5l.94-2.06 2.06-.94-2.06-.94L8.5 2.5l-.94 2.06-2.06.94zm10 10l.94 2.06.94-2.06 2.06-.94-2.06-.94-.94-2.06-.94 2.06-2.06.94z\"/><path d=\"M17.41 7.96l-1.37-1.37c-.4-.4-.92-.59-1.43-.59-.52 0-1.04.2-1.43.59L10.3 9.45l-7.72 7.72c-.78.78-.78 2.05 0 2.83L4 21.41c.39.39.9.59 1.41.59.51 0 1.02-.2 1.41-.59l7.78-7.78 2.81-2.81c.8-.78.8-2.07 0-2.86zM5.41 20L4 18.59l7.72-7.72 1.47 1.35L5.41 20z\"/>\n",
              "  </svg>\n",
              "      </button>\n",
              "      \n",
              "  <style>\n",
              "    .colab-df-container {\n",
              "      display:flex;\n",
              "      flex-wrap:wrap;\n",
              "      gap: 12px;\n",
              "    }\n",
              "\n",
              "    .colab-df-convert {\n",
              "      background-color: #E8F0FE;\n",
              "      border: none;\n",
              "      border-radius: 50%;\n",
              "      cursor: pointer;\n",
              "      display: none;\n",
              "      fill: #1967D2;\n",
              "      height: 32px;\n",
              "      padding: 0 0 0 0;\n",
              "      width: 32px;\n",
              "    }\n",
              "\n",
              "    .colab-df-convert:hover {\n",
              "      background-color: #E2EBFA;\n",
              "      box-shadow: 0px 1px 2px rgba(60, 64, 67, 0.3), 0px 1px 3px 1px rgba(60, 64, 67, 0.15);\n",
              "      fill: #174EA6;\n",
              "    }\n",
              "\n",
              "    [theme=dark] .colab-df-convert {\n",
              "      background-color: #3B4455;\n",
              "      fill: #D2E3FC;\n",
              "    }\n",
              "\n",
              "    [theme=dark] .colab-df-convert:hover {\n",
              "      background-color: #434B5C;\n",
              "      box-shadow: 0px 1px 3px 1px rgba(0, 0, 0, 0.15);\n",
              "      filter: drop-shadow(0px 1px 2px rgba(0, 0, 0, 0.3));\n",
              "      fill: #FFFFFF;\n",
              "    }\n",
              "  </style>\n",
              "\n",
              "      <script>\n",
              "        const buttonEl =\n",
              "          document.querySelector('#df-17aae7a6-3a53-469b-9c70-ed303a37fe15 button.colab-df-convert');\n",
              "        buttonEl.style.display =\n",
              "          google.colab.kernel.accessAllowed ? 'block' : 'none';\n",
              "\n",
              "        async function convertToInteractive(key) {\n",
              "          const element = document.querySelector('#df-17aae7a6-3a53-469b-9c70-ed303a37fe15');\n",
              "          const dataTable =\n",
              "            await google.colab.kernel.invokeFunction('convertToInteractive',\n",
              "                                                     [key], {});\n",
              "          if (!dataTable) return;\n",
              "\n",
              "          const docLinkHtml = 'Like what you see? Visit the ' +\n",
              "            '<a target=\"_blank\" href=https://colab.research.google.com/notebooks/data_table.ipynb>data table notebook</a>'\n",
              "            + ' to learn more about interactive tables.';\n",
              "          element.innerHTML = '';\n",
              "          dataTable['output_type'] = 'display_data';\n",
              "          await google.colab.output.renderOutput(dataTable, element);\n",
              "          const docLink = document.createElement('div');\n",
              "          docLink.innerHTML = docLinkHtml;\n",
              "          element.appendChild(docLink);\n",
              "        }\n",
              "      </script>\n",
              "    </div>\n",
              "  </div>\n",
              "  "
            ]
          },
          "metadata": {},
          "execution_count": 3
        }
      ]
    },
    {
      "cell_type": "code",
      "source": [
        "#Making a copy of data frame\n",
        "cid = df.copy()"
      ],
      "metadata": {
        "id": "s9QRasbhCwc4"
      },
      "execution_count": null,
      "outputs": []
    },
    {
      "cell_type": "code",
      "source": [
        "# Display the number of rows and columns for the dataframe\n",
        "cid.shape\n",
        "print(f'There are {cid.shape[0]} rows, and {cid.shape[1]} columns.')\n",
        "print(f'The rows represent {cid.shape[0]} observations, and the columns represent {df.shape[1]-1} features and 1 target variable.')"
      ],
      "metadata": {
        "colab": {
          "base_uri": "https://localhost:8080/"
        },
        "id": "bezkAHuvLbzb",
        "outputId": "a26e1af7-4a0a-4033-e357-c8ee2a803cc2"
      },
      "execution_count": null,
      "outputs": [
        {
          "output_type": "stream",
          "name": "stdout",
          "text": [
            "There are 10000 rows, and 19 columns.\n",
            "The rows represent 10000 observations, and the columns represent 18 features and 1 target variable.\n"
          ]
        }
      ]
    },
    {
      "cell_type": "code",
      "source": [
        "#Retreiveing basic info about our data\n",
        "cid.info()"
      ],
      "metadata": {
        "colab": {
          "base_uri": "https://localhost:8080/"
        },
        "id": "Yt2wirEkDFY3",
        "outputId": "c32b37a9-de59-4283-e8c7-ce99a6ea9698"
      },
      "execution_count": null,
      "outputs": [
        {
          "output_type": "stream",
          "name": "stdout",
          "text": [
            "<class 'pandas.core.frame.DataFrame'>\n",
            "RangeIndex: 10000 entries, 0 to 9999\n",
            "Data columns (total 19 columns):\n",
            " #   Column               Non-Null Count  Dtype  \n",
            "---  ------               --------------  -----  \n",
            " 0   ID                   10000 non-null  int64  \n",
            " 1   AGE                  10000 non-null  object \n",
            " 2   GENDER               10000 non-null  object \n",
            " 3   RACE                 10000 non-null  object \n",
            " 4   DRIVING_EXPERIENCE   10000 non-null  object \n",
            " 5   EDUCATION            10000 non-null  object \n",
            " 6   INCOME               10000 non-null  object \n",
            " 7   CREDIT_SCORE         9018 non-null   float64\n",
            " 8   VEHICLE_OWNERSHIP    10000 non-null  int64  \n",
            " 9   VEHICLE_YEAR         10000 non-null  object \n",
            " 10  MARRIED              10000 non-null  int64  \n",
            " 11  CHILDREN             10000 non-null  int64  \n",
            " 12  POSTAL_CODE          10000 non-null  int64  \n",
            " 13  ANNUAL_MILEAGE       9043 non-null   float64\n",
            " 14  VEHICLE_TYPE         10000 non-null  object \n",
            " 15  SPEEDING_VIOLATIONS  10000 non-null  int64  \n",
            " 16  DUIS                 10000 non-null  int64  \n",
            " 17  PAST_ACCIDENTS       10000 non-null  int64  \n",
            " 18  OUTCOME              10000 non-null  int64  \n",
            "dtypes: float64(2), int64(9), object(8)\n",
            "memory usage: 1.4+ MB\n"
          ]
        }
      ]
    },
    {
      "cell_type": "code",
      "source": [
        "cid.describe(include='all')"
      ],
      "metadata": {
        "colab": {
          "base_uri": "https://localhost:8080/",
          "height": 475
        },
        "id": "eFK-ZHXKMI42",
        "outputId": "940d0706-7b65-417d-d06b-846472616473"
      },
      "execution_count": null,
      "outputs": [
        {
          "output_type": "execute_result",
          "data": {
            "text/plain": [
              "                   ID    AGE  GENDER      RACE DRIVING_EXPERIENCE  \\\n",
              "count    10000.000000  10000   10000     10000              10000   \n",
              "unique            NaN      4       2         2                  4   \n",
              "top               NaN  26-39  female  majority               0-9y   \n",
              "freq              NaN   3063    5010      9012               3530   \n",
              "mean    500521.906800    NaN     NaN       NaN                NaN   \n",
              "std     290030.768758    NaN     NaN       NaN                NaN   \n",
              "min        101.000000    NaN     NaN       NaN                NaN   \n",
              "25%     249638.500000    NaN     NaN       NaN                NaN   \n",
              "50%     501777.000000    NaN     NaN       NaN                NaN   \n",
              "75%     753974.500000    NaN     NaN       NaN                NaN   \n",
              "max     999976.000000    NaN     NaN       NaN                NaN   \n",
              "\n",
              "          EDUCATION       INCOME  CREDIT_SCORE  VEHICLE_OWNERSHIP  \\\n",
              "count         10000        10000   9018.000000       10000.000000   \n",
              "unique            3            4           NaN                NaN   \n",
              "top     high school  upper class           NaN                NaN   \n",
              "freq           4157         4336           NaN                NaN   \n",
              "mean            NaN          NaN      0.515813           0.697000   \n",
              "std             NaN          NaN      0.137688           0.459578   \n",
              "min             NaN          NaN      0.053358           0.000000   \n",
              "25%             NaN          NaN      0.417191           0.000000   \n",
              "50%             NaN          NaN      0.525033           1.000000   \n",
              "75%             NaN          NaN      0.618312           1.000000   \n",
              "max             NaN          NaN      0.960819           1.000000   \n",
              "\n",
              "       VEHICLE_YEAR       MARRIED      CHILDREN   POSTAL_CODE  ANNUAL_MILEAGE  \\\n",
              "count         10000  10000.000000  10000.000000  10000.000000     9043.000000   \n",
              "unique            2           NaN           NaN           NaN             NaN   \n",
              "top     before 2015           NaN           NaN           NaN             NaN   \n",
              "freq           6967           NaN           NaN           NaN             NaN   \n",
              "mean            NaN      0.498200      0.688800  19864.548400    11697.003207   \n",
              "std             NaN      0.500022      0.463008  18915.613855     2818.434528   \n",
              "min             NaN      0.000000      0.000000  10238.000000     2000.000000   \n",
              "25%             NaN      0.000000      0.000000  10238.000000    10000.000000   \n",
              "50%             NaN      0.000000      1.000000  10238.000000    12000.000000   \n",
              "75%             NaN      1.000000      1.000000  32765.000000    14000.000000   \n",
              "max             NaN      1.000000      1.000000  92101.000000    22000.000000   \n",
              "\n",
              "       VEHICLE_TYPE  SPEEDING_VIOLATIONS         DUIS  PAST_ACCIDENTS  \\\n",
              "count         10000         10000.000000  10000.00000    10000.000000   \n",
              "unique            2                  NaN          NaN             NaN   \n",
              "top           sedan                  NaN          NaN             NaN   \n",
              "freq           9523                  NaN          NaN             NaN   \n",
              "mean            NaN             1.482900      0.23920        1.056300   \n",
              "std             NaN             2.241966      0.55499        1.652454   \n",
              "min             NaN             0.000000      0.00000        0.000000   \n",
              "25%             NaN             0.000000      0.00000        0.000000   \n",
              "50%             NaN             0.000000      0.00000        0.000000   \n",
              "75%             NaN             2.000000      0.00000        2.000000   \n",
              "max             NaN            22.000000      6.00000       15.000000   \n",
              "\n",
              "             OUTCOME  \n",
              "count   10000.000000  \n",
              "unique           NaN  \n",
              "top              NaN  \n",
              "freq             NaN  \n",
              "mean        0.313300  \n",
              "std         0.463858  \n",
              "min         0.000000  \n",
              "25%         0.000000  \n",
              "50%         0.000000  \n",
              "75%         1.000000  \n",
              "max         1.000000  "
            ],
            "text/html": [
              "\n",
              "  <div id=\"df-93285e59-811d-4ae9-8a0d-fff0312dc67e\">\n",
              "    <div class=\"colab-df-container\">\n",
              "      <div>\n",
              "<style scoped>\n",
              "    .dataframe tbody tr th:only-of-type {\n",
              "        vertical-align: middle;\n",
              "    }\n",
              "\n",
              "    .dataframe tbody tr th {\n",
              "        vertical-align: top;\n",
              "    }\n",
              "\n",
              "    .dataframe thead th {\n",
              "        text-align: right;\n",
              "    }\n",
              "</style>\n",
              "<table border=\"1\" class=\"dataframe\">\n",
              "  <thead>\n",
              "    <tr style=\"text-align: right;\">\n",
              "      <th></th>\n",
              "      <th>ID</th>\n",
              "      <th>AGE</th>\n",
              "      <th>GENDER</th>\n",
              "      <th>RACE</th>\n",
              "      <th>DRIVING_EXPERIENCE</th>\n",
              "      <th>EDUCATION</th>\n",
              "      <th>INCOME</th>\n",
              "      <th>CREDIT_SCORE</th>\n",
              "      <th>VEHICLE_OWNERSHIP</th>\n",
              "      <th>VEHICLE_YEAR</th>\n",
              "      <th>MARRIED</th>\n",
              "      <th>CHILDREN</th>\n",
              "      <th>POSTAL_CODE</th>\n",
              "      <th>ANNUAL_MILEAGE</th>\n",
              "      <th>VEHICLE_TYPE</th>\n",
              "      <th>SPEEDING_VIOLATIONS</th>\n",
              "      <th>DUIS</th>\n",
              "      <th>PAST_ACCIDENTS</th>\n",
              "      <th>OUTCOME</th>\n",
              "    </tr>\n",
              "  </thead>\n",
              "  <tbody>\n",
              "    <tr>\n",
              "      <th>count</th>\n",
              "      <td>10000.000000</td>\n",
              "      <td>10000</td>\n",
              "      <td>10000</td>\n",
              "      <td>10000</td>\n",
              "      <td>10000</td>\n",
              "      <td>10000</td>\n",
              "      <td>10000</td>\n",
              "      <td>9018.000000</td>\n",
              "      <td>10000.000000</td>\n",
              "      <td>10000</td>\n",
              "      <td>10000.000000</td>\n",
              "      <td>10000.000000</td>\n",
              "      <td>10000.000000</td>\n",
              "      <td>9043.000000</td>\n",
              "      <td>10000</td>\n",
              "      <td>10000.000000</td>\n",
              "      <td>10000.00000</td>\n",
              "      <td>10000.000000</td>\n",
              "      <td>10000.000000</td>\n",
              "    </tr>\n",
              "    <tr>\n",
              "      <th>unique</th>\n",
              "      <td>NaN</td>\n",
              "      <td>4</td>\n",
              "      <td>2</td>\n",
              "      <td>2</td>\n",
              "      <td>4</td>\n",
              "      <td>3</td>\n",
              "      <td>4</td>\n",
              "      <td>NaN</td>\n",
              "      <td>NaN</td>\n",
              "      <td>2</td>\n",
              "      <td>NaN</td>\n",
              "      <td>NaN</td>\n",
              "      <td>NaN</td>\n",
              "      <td>NaN</td>\n",
              "      <td>2</td>\n",
              "      <td>NaN</td>\n",
              "      <td>NaN</td>\n",
              "      <td>NaN</td>\n",
              "      <td>NaN</td>\n",
              "    </tr>\n",
              "    <tr>\n",
              "      <th>top</th>\n",
              "      <td>NaN</td>\n",
              "      <td>26-39</td>\n",
              "      <td>female</td>\n",
              "      <td>majority</td>\n",
              "      <td>0-9y</td>\n",
              "      <td>high school</td>\n",
              "      <td>upper class</td>\n",
              "      <td>NaN</td>\n",
              "      <td>NaN</td>\n",
              "      <td>before 2015</td>\n",
              "      <td>NaN</td>\n",
              "      <td>NaN</td>\n",
              "      <td>NaN</td>\n",
              "      <td>NaN</td>\n",
              "      <td>sedan</td>\n",
              "      <td>NaN</td>\n",
              "      <td>NaN</td>\n",
              "      <td>NaN</td>\n",
              "      <td>NaN</td>\n",
              "    </tr>\n",
              "    <tr>\n",
              "      <th>freq</th>\n",
              "      <td>NaN</td>\n",
              "      <td>3063</td>\n",
              "      <td>5010</td>\n",
              "      <td>9012</td>\n",
              "      <td>3530</td>\n",
              "      <td>4157</td>\n",
              "      <td>4336</td>\n",
              "      <td>NaN</td>\n",
              "      <td>NaN</td>\n",
              "      <td>6967</td>\n",
              "      <td>NaN</td>\n",
              "      <td>NaN</td>\n",
              "      <td>NaN</td>\n",
              "      <td>NaN</td>\n",
              "      <td>9523</td>\n",
              "      <td>NaN</td>\n",
              "      <td>NaN</td>\n",
              "      <td>NaN</td>\n",
              "      <td>NaN</td>\n",
              "    </tr>\n",
              "    <tr>\n",
              "      <th>mean</th>\n",
              "      <td>500521.906800</td>\n",
              "      <td>NaN</td>\n",
              "      <td>NaN</td>\n",
              "      <td>NaN</td>\n",
              "      <td>NaN</td>\n",
              "      <td>NaN</td>\n",
              "      <td>NaN</td>\n",
              "      <td>0.515813</td>\n",
              "      <td>0.697000</td>\n",
              "      <td>NaN</td>\n",
              "      <td>0.498200</td>\n",
              "      <td>0.688800</td>\n",
              "      <td>19864.548400</td>\n",
              "      <td>11697.003207</td>\n",
              "      <td>NaN</td>\n",
              "      <td>1.482900</td>\n",
              "      <td>0.23920</td>\n",
              "      <td>1.056300</td>\n",
              "      <td>0.313300</td>\n",
              "    </tr>\n",
              "    <tr>\n",
              "      <th>std</th>\n",
              "      <td>290030.768758</td>\n",
              "      <td>NaN</td>\n",
              "      <td>NaN</td>\n",
              "      <td>NaN</td>\n",
              "      <td>NaN</td>\n",
              "      <td>NaN</td>\n",
              "      <td>NaN</td>\n",
              "      <td>0.137688</td>\n",
              "      <td>0.459578</td>\n",
              "      <td>NaN</td>\n",
              "      <td>0.500022</td>\n",
              "      <td>0.463008</td>\n",
              "      <td>18915.613855</td>\n",
              "      <td>2818.434528</td>\n",
              "      <td>NaN</td>\n",
              "      <td>2.241966</td>\n",
              "      <td>0.55499</td>\n",
              "      <td>1.652454</td>\n",
              "      <td>0.463858</td>\n",
              "    </tr>\n",
              "    <tr>\n",
              "      <th>min</th>\n",
              "      <td>101.000000</td>\n",
              "      <td>NaN</td>\n",
              "      <td>NaN</td>\n",
              "      <td>NaN</td>\n",
              "      <td>NaN</td>\n",
              "      <td>NaN</td>\n",
              "      <td>NaN</td>\n",
              "      <td>0.053358</td>\n",
              "      <td>0.000000</td>\n",
              "      <td>NaN</td>\n",
              "      <td>0.000000</td>\n",
              "      <td>0.000000</td>\n",
              "      <td>10238.000000</td>\n",
              "      <td>2000.000000</td>\n",
              "      <td>NaN</td>\n",
              "      <td>0.000000</td>\n",
              "      <td>0.00000</td>\n",
              "      <td>0.000000</td>\n",
              "      <td>0.000000</td>\n",
              "    </tr>\n",
              "    <tr>\n",
              "      <th>25%</th>\n",
              "      <td>249638.500000</td>\n",
              "      <td>NaN</td>\n",
              "      <td>NaN</td>\n",
              "      <td>NaN</td>\n",
              "      <td>NaN</td>\n",
              "      <td>NaN</td>\n",
              "      <td>NaN</td>\n",
              "      <td>0.417191</td>\n",
              "      <td>0.000000</td>\n",
              "      <td>NaN</td>\n",
              "      <td>0.000000</td>\n",
              "      <td>0.000000</td>\n",
              "      <td>10238.000000</td>\n",
              "      <td>10000.000000</td>\n",
              "      <td>NaN</td>\n",
              "      <td>0.000000</td>\n",
              "      <td>0.00000</td>\n",
              "      <td>0.000000</td>\n",
              "      <td>0.000000</td>\n",
              "    </tr>\n",
              "    <tr>\n",
              "      <th>50%</th>\n",
              "      <td>501777.000000</td>\n",
              "      <td>NaN</td>\n",
              "      <td>NaN</td>\n",
              "      <td>NaN</td>\n",
              "      <td>NaN</td>\n",
              "      <td>NaN</td>\n",
              "      <td>NaN</td>\n",
              "      <td>0.525033</td>\n",
              "      <td>1.000000</td>\n",
              "      <td>NaN</td>\n",
              "      <td>0.000000</td>\n",
              "      <td>1.000000</td>\n",
              "      <td>10238.000000</td>\n",
              "      <td>12000.000000</td>\n",
              "      <td>NaN</td>\n",
              "      <td>0.000000</td>\n",
              "      <td>0.00000</td>\n",
              "      <td>0.000000</td>\n",
              "      <td>0.000000</td>\n",
              "    </tr>\n",
              "    <tr>\n",
              "      <th>75%</th>\n",
              "      <td>753974.500000</td>\n",
              "      <td>NaN</td>\n",
              "      <td>NaN</td>\n",
              "      <td>NaN</td>\n",
              "      <td>NaN</td>\n",
              "      <td>NaN</td>\n",
              "      <td>NaN</td>\n",
              "      <td>0.618312</td>\n",
              "      <td>1.000000</td>\n",
              "      <td>NaN</td>\n",
              "      <td>1.000000</td>\n",
              "      <td>1.000000</td>\n",
              "      <td>32765.000000</td>\n",
              "      <td>14000.000000</td>\n",
              "      <td>NaN</td>\n",
              "      <td>2.000000</td>\n",
              "      <td>0.00000</td>\n",
              "      <td>2.000000</td>\n",
              "      <td>1.000000</td>\n",
              "    </tr>\n",
              "    <tr>\n",
              "      <th>max</th>\n",
              "      <td>999976.000000</td>\n",
              "      <td>NaN</td>\n",
              "      <td>NaN</td>\n",
              "      <td>NaN</td>\n",
              "      <td>NaN</td>\n",
              "      <td>NaN</td>\n",
              "      <td>NaN</td>\n",
              "      <td>0.960819</td>\n",
              "      <td>1.000000</td>\n",
              "      <td>NaN</td>\n",
              "      <td>1.000000</td>\n",
              "      <td>1.000000</td>\n",
              "      <td>92101.000000</td>\n",
              "      <td>22000.000000</td>\n",
              "      <td>NaN</td>\n",
              "      <td>22.000000</td>\n",
              "      <td>6.00000</td>\n",
              "      <td>15.000000</td>\n",
              "      <td>1.000000</td>\n",
              "    </tr>\n",
              "  </tbody>\n",
              "</table>\n",
              "</div>\n",
              "      <button class=\"colab-df-convert\" onclick=\"convertToInteractive('df-93285e59-811d-4ae9-8a0d-fff0312dc67e')\"\n",
              "              title=\"Convert this dataframe to an interactive table.\"\n",
              "              style=\"display:none;\">\n",
              "        \n",
              "  <svg xmlns=\"http://www.w3.org/2000/svg\" height=\"24px\"viewBox=\"0 0 24 24\"\n",
              "       width=\"24px\">\n",
              "    <path d=\"M0 0h24v24H0V0z\" fill=\"none\"/>\n",
              "    <path d=\"M18.56 5.44l.94 2.06.94-2.06 2.06-.94-2.06-.94-.94-2.06-.94 2.06-2.06.94zm-11 1L8.5 8.5l.94-2.06 2.06-.94-2.06-.94L8.5 2.5l-.94 2.06-2.06.94zm10 10l.94 2.06.94-2.06 2.06-.94-2.06-.94-.94-2.06-.94 2.06-2.06.94z\"/><path d=\"M17.41 7.96l-1.37-1.37c-.4-.4-.92-.59-1.43-.59-.52 0-1.04.2-1.43.59L10.3 9.45l-7.72 7.72c-.78.78-.78 2.05 0 2.83L4 21.41c.39.39.9.59 1.41.59.51 0 1.02-.2 1.41-.59l7.78-7.78 2.81-2.81c.8-.78.8-2.07 0-2.86zM5.41 20L4 18.59l7.72-7.72 1.47 1.35L5.41 20z\"/>\n",
              "  </svg>\n",
              "      </button>\n",
              "      \n",
              "  <style>\n",
              "    .colab-df-container {\n",
              "      display:flex;\n",
              "      flex-wrap:wrap;\n",
              "      gap: 12px;\n",
              "    }\n",
              "\n",
              "    .colab-df-convert {\n",
              "      background-color: #E8F0FE;\n",
              "      border: none;\n",
              "      border-radius: 50%;\n",
              "      cursor: pointer;\n",
              "      display: none;\n",
              "      fill: #1967D2;\n",
              "      height: 32px;\n",
              "      padding: 0 0 0 0;\n",
              "      width: 32px;\n",
              "    }\n",
              "\n",
              "    .colab-df-convert:hover {\n",
              "      background-color: #E2EBFA;\n",
              "      box-shadow: 0px 1px 2px rgba(60, 64, 67, 0.3), 0px 1px 3px 1px rgba(60, 64, 67, 0.15);\n",
              "      fill: #174EA6;\n",
              "    }\n",
              "\n",
              "    [theme=dark] .colab-df-convert {\n",
              "      background-color: #3B4455;\n",
              "      fill: #D2E3FC;\n",
              "    }\n",
              "\n",
              "    [theme=dark] .colab-df-convert:hover {\n",
              "      background-color: #434B5C;\n",
              "      box-shadow: 0px 1px 3px 1px rgba(0, 0, 0, 0.15);\n",
              "      filter: drop-shadow(0px 1px 2px rgba(0, 0, 0, 0.3));\n",
              "      fill: #FFFFFF;\n",
              "    }\n",
              "  </style>\n",
              "\n",
              "      <script>\n",
              "        const buttonEl =\n",
              "          document.querySelector('#df-93285e59-811d-4ae9-8a0d-fff0312dc67e button.colab-df-convert');\n",
              "        buttonEl.style.display =\n",
              "          google.colab.kernel.accessAllowed ? 'block' : 'none';\n",
              "\n",
              "        async function convertToInteractive(key) {\n",
              "          const element = document.querySelector('#df-93285e59-811d-4ae9-8a0d-fff0312dc67e');\n",
              "          const dataTable =\n",
              "            await google.colab.kernel.invokeFunction('convertToInteractive',\n",
              "                                                     [key], {});\n",
              "          if (!dataTable) return;\n",
              "\n",
              "          const docLinkHtml = 'Like what you see? Visit the ' +\n",
              "            '<a target=\"_blank\" href=https://colab.research.google.com/notebooks/data_table.ipynb>data table notebook</a>'\n",
              "            + ' to learn more about interactive tables.';\n",
              "          element.innerHTML = '';\n",
              "          dataTable['output_type'] = 'display_data';\n",
              "          await google.colab.output.renderOutput(dataTable, element);\n",
              "          const docLink = document.createElement('div');\n",
              "          docLink.innerHTML = docLinkHtml;\n",
              "          element.appendChild(docLink);\n",
              "        }\n",
              "      </script>\n",
              "    </div>\n",
              "  </div>\n",
              "  "
            ]
          },
          "metadata": {},
          "execution_count": 7
        }
      ]
    },
    {
      "cell_type": "markdown",
      "source": [
        "###**Taking out Unecessary columns**"
      ],
      "metadata": {
        "id": "slKWEHSwEOZC"
      }
    },
    {
      "cell_type": "code",
      "source": [
        "#The 'ID' column is not relevant to our target, therefore we will get rid if it\n",
        "cid.drop('ID', axis=1, inplace=True)"
      ],
      "metadata": {
        "id": "zEU8n_ZIEc4T"
      },
      "execution_count": null,
      "outputs": []
    },
    {
      "cell_type": "markdown",
      "source": [
        "###**Dropping Duplicate Rows**"
      ],
      "metadata": {
        "id": "JaIe1w_FFXWK"
      }
    },
    {
      "cell_type": "code",
      "source": [
        "# Display the number of duplicate rows in the dataset\n",
        "print(f'There are {cid.duplicated().sum()} duplicate rows.')"
      ],
      "metadata": {
        "colab": {
          "base_uri": "https://localhost:8080/"
        },
        "id": "cVJohpW2FcyD",
        "outputId": "6b64df53-6c83-4ac0-e035-aa63afb81a80"
      },
      "execution_count": null,
      "outputs": [
        {
          "output_type": "stream",
          "name": "stdout",
          "text": [
            "There are 12 duplicate rows.\n"
          ]
        }
      ]
    },
    {
      "cell_type": "code",
      "source": [
        "#Dropping duplicated Rows\n",
        "cid = cid.drop_duplicates()"
      ],
      "metadata": {
        "id": "HtCSsPXXF5iB"
      },
      "execution_count": null,
      "outputs": []
    },
    {
      "cell_type": "code",
      "source": [
        "# Comfirming there are no more duplicates \n",
        "print(f'There are {df.duplicated().sum()} duplicate rows.')"
      ],
      "metadata": {
        "colab": {
          "base_uri": "https://localhost:8080/"
        },
        "id": "97V28qgTGMEA",
        "outputId": "2699152b-e9aa-4e96-fd60-fe0064c1f4a2"
      },
      "execution_count": null,
      "outputs": [
        {
          "output_type": "stream",
          "name": "stdout",
          "text": [
            "There are 0 duplicate rows.\n"
          ]
        }
      ]
    },
    {
      "cell_type": "markdown",
      "source": [
        "##**Checking for Missing Values**"
      ],
      "metadata": {
        "id": "d9xtnQclHYRA"
      }
    },
    {
      "cell_type": "code",
      "source": [
        "#Checking for missing values\n",
        "cid[cid.isna().any(axis=1)].shape"
      ],
      "metadata": {
        "colab": {
          "base_uri": "https://localhost:8080/"
        },
        "id": "4rqHh8oNHcqy",
        "outputId": "3e54b510-0d6b-4689-dfc1-d5bbf018c177"
      },
      "execution_count": null,
      "outputs": [
        {
          "output_type": "execute_result",
          "data": {
            "text/plain": [
              "(1839, 18)"
            ]
          },
          "metadata": {},
          "execution_count": 12
        }
      ]
    },
    {
      "cell_type": "code",
      "source": [
        "#Identifying the columns containing missing values\n",
        "cid.isna().sum()"
      ],
      "metadata": {
        "colab": {
          "base_uri": "https://localhost:8080/"
        },
        "id": "GKD7bPzUHnwo",
        "outputId": "4085b2f2-04dd-4989-f67f-35982daa2ddb"
      },
      "execution_count": null,
      "outputs": [
        {
          "output_type": "execute_result",
          "data": {
            "text/plain": [
              "AGE                      0\n",
              "GENDER                   0\n",
              "RACE                     0\n",
              "DRIVING_EXPERIENCE       0\n",
              "EDUCATION                0\n",
              "INCOME                   0\n",
              "CREDIT_SCORE           970\n",
              "VEHICLE_OWNERSHIP        0\n",
              "VEHICLE_YEAR             0\n",
              "MARRIED                  0\n",
              "CHILDREN                 0\n",
              "POSTAL_CODE              0\n",
              "ANNUAL_MILEAGE         954\n",
              "VEHICLE_TYPE             0\n",
              "SPEEDING_VIOLATIONS      0\n",
              "DUIS                     0\n",
              "PAST_ACCIDENTS           0\n",
              "OUTCOME                  0\n",
              "dtype: int64"
            ]
          },
          "metadata": {},
          "execution_count": 13
        }
      ]
    },
    {
      "cell_type": "markdown",
      "source": [
        "- These missing values can be imputed using a simple imputer strategy 'mean'"
      ],
      "metadata": {
        "id": "ru9n1BUcJFPR"
      }
    },
    {
      "cell_type": "code",
      "source": [
        "#Imputer\n",
        "imputer= SimpleImputer(strategy='mean')\n",
        "imputer"
      ],
      "metadata": {
        "colab": {
          "base_uri": "https://localhost:8080/",
          "height": 74
        },
        "id": "tmdsVdmHrnV9",
        "outputId": "4eea8b5a-94fe-421d-d16e-9f3a3a0cef98"
      },
      "execution_count": null,
      "outputs": [
        {
          "output_type": "execute_result",
          "data": {
            "text/plain": [
              "SimpleImputer()"
            ],
            "text/html": [
              "<style>#sk-fba97787-8fa1-4b5e-bc16-a5b2a1175d09 {color: black;background-color: white;}#sk-fba97787-8fa1-4b5e-bc16-a5b2a1175d09 pre{padding: 0;}#sk-fba97787-8fa1-4b5e-bc16-a5b2a1175d09 div.sk-toggleable {background-color: white;}#sk-fba97787-8fa1-4b5e-bc16-a5b2a1175d09 label.sk-toggleable__label {cursor: pointer;display: block;width: 100%;margin-bottom: 0;padding: 0.3em;box-sizing: border-box;text-align: center;}#sk-fba97787-8fa1-4b5e-bc16-a5b2a1175d09 label.sk-toggleable__label-arrow:before {content: \"▸\";float: left;margin-right: 0.25em;color: #696969;}#sk-fba97787-8fa1-4b5e-bc16-a5b2a1175d09 label.sk-toggleable__label-arrow:hover:before {color: black;}#sk-fba97787-8fa1-4b5e-bc16-a5b2a1175d09 div.sk-estimator:hover label.sk-toggleable__label-arrow:before {color: black;}#sk-fba97787-8fa1-4b5e-bc16-a5b2a1175d09 div.sk-toggleable__content {max-height: 0;max-width: 0;overflow: hidden;text-align: left;background-color: #f0f8ff;}#sk-fba97787-8fa1-4b5e-bc16-a5b2a1175d09 div.sk-toggleable__content pre {margin: 0.2em;color: black;border-radius: 0.25em;background-color: #f0f8ff;}#sk-fba97787-8fa1-4b5e-bc16-a5b2a1175d09 input.sk-toggleable__control:checked~div.sk-toggleable__content {max-height: 200px;max-width: 100%;overflow: auto;}#sk-fba97787-8fa1-4b5e-bc16-a5b2a1175d09 input.sk-toggleable__control:checked~label.sk-toggleable__label-arrow:before {content: \"▾\";}#sk-fba97787-8fa1-4b5e-bc16-a5b2a1175d09 div.sk-estimator input.sk-toggleable__control:checked~label.sk-toggleable__label {background-color: #d4ebff;}#sk-fba97787-8fa1-4b5e-bc16-a5b2a1175d09 div.sk-label input.sk-toggleable__control:checked~label.sk-toggleable__label {background-color: #d4ebff;}#sk-fba97787-8fa1-4b5e-bc16-a5b2a1175d09 input.sk-hidden--visually {border: 0;clip: rect(1px 1px 1px 1px);clip: rect(1px, 1px, 1px, 1px);height: 1px;margin: -1px;overflow: hidden;padding: 0;position: absolute;width: 1px;}#sk-fba97787-8fa1-4b5e-bc16-a5b2a1175d09 div.sk-estimator {font-family: monospace;background-color: #f0f8ff;border: 1px dotted black;border-radius: 0.25em;box-sizing: border-box;margin-bottom: 0.5em;}#sk-fba97787-8fa1-4b5e-bc16-a5b2a1175d09 div.sk-estimator:hover {background-color: #d4ebff;}#sk-fba97787-8fa1-4b5e-bc16-a5b2a1175d09 div.sk-parallel-item::after {content: \"\";width: 100%;border-bottom: 1px solid gray;flex-grow: 1;}#sk-fba97787-8fa1-4b5e-bc16-a5b2a1175d09 div.sk-label:hover label.sk-toggleable__label {background-color: #d4ebff;}#sk-fba97787-8fa1-4b5e-bc16-a5b2a1175d09 div.sk-serial::before {content: \"\";position: absolute;border-left: 1px solid gray;box-sizing: border-box;top: 2em;bottom: 0;left: 50%;}#sk-fba97787-8fa1-4b5e-bc16-a5b2a1175d09 div.sk-serial {display: flex;flex-direction: column;align-items: center;background-color: white;padding-right: 0.2em;padding-left: 0.2em;}#sk-fba97787-8fa1-4b5e-bc16-a5b2a1175d09 div.sk-item {z-index: 1;}#sk-fba97787-8fa1-4b5e-bc16-a5b2a1175d09 div.sk-parallel {display: flex;align-items: stretch;justify-content: center;background-color: white;}#sk-fba97787-8fa1-4b5e-bc16-a5b2a1175d09 div.sk-parallel::before {content: \"\";position: absolute;border-left: 1px solid gray;box-sizing: border-box;top: 2em;bottom: 0;left: 50%;}#sk-fba97787-8fa1-4b5e-bc16-a5b2a1175d09 div.sk-parallel-item {display: flex;flex-direction: column;position: relative;background-color: white;}#sk-fba97787-8fa1-4b5e-bc16-a5b2a1175d09 div.sk-parallel-item:first-child::after {align-self: flex-end;width: 50%;}#sk-fba97787-8fa1-4b5e-bc16-a5b2a1175d09 div.sk-parallel-item:last-child::after {align-self: flex-start;width: 50%;}#sk-fba97787-8fa1-4b5e-bc16-a5b2a1175d09 div.sk-parallel-item:only-child::after {width: 0;}#sk-fba97787-8fa1-4b5e-bc16-a5b2a1175d09 div.sk-dashed-wrapped {border: 1px dashed gray;margin: 0 0.4em 0.5em 0.4em;box-sizing: border-box;padding-bottom: 0.4em;background-color: white;position: relative;}#sk-fba97787-8fa1-4b5e-bc16-a5b2a1175d09 div.sk-label label {font-family: monospace;font-weight: bold;background-color: white;display: inline-block;line-height: 1.2em;}#sk-fba97787-8fa1-4b5e-bc16-a5b2a1175d09 div.sk-label-container {position: relative;z-index: 2;text-align: center;}#sk-fba97787-8fa1-4b5e-bc16-a5b2a1175d09 div.sk-container {/* jupyter's `normalize.less` sets `[hidden] { display: none; }` but bootstrap.min.css set `[hidden] { display: none !important; }` so we also need the `!important` here to be able to override the default hidden behavior on the sphinx rendered scikit-learn.org. See: https://github.com/scikit-learn/scikit-learn/issues/21755 */display: inline-block !important;position: relative;}#sk-fba97787-8fa1-4b5e-bc16-a5b2a1175d09 div.sk-text-repr-fallback {display: none;}</style><div id=\"sk-fba97787-8fa1-4b5e-bc16-a5b2a1175d09\" class=\"sk-top-container\"><div class=\"sk-text-repr-fallback\"><pre>SimpleImputer()</pre><b>Please rerun this cell to show the HTML repr or trust the notebook.</b></div><div class=\"sk-container\" hidden><div class=\"sk-item\"><div class=\"sk-estimator sk-toggleable\"><input class=\"sk-toggleable__control sk-hidden--visually\" id=\"74a32726-25a2-4e35-8610-cf823a2599e3\" type=\"checkbox\" checked><label for=\"74a32726-25a2-4e35-8610-cf823a2599e3\" class=\"sk-toggleable__label sk-toggleable__label-arrow\">SimpleImputer</label><div class=\"sk-toggleable__content\"><pre>SimpleImputer()</pre></div></div></div></div></div>"
            ]
          },
          "metadata": {},
          "execution_count": 24
        }
      ]
    },
    {
      "cell_type": "code",
      "source": [
        "cid['CREDIT_SCORE']= imputer.fit_transform(cid[['CREDIT_SCORE']])"
      ],
      "metadata": {
        "id": "LCrMIUatsok4"
      },
      "execution_count": null,
      "outputs": []
    },
    {
      "cell_type": "code",
      "source": [
        "cid['ANNUAL_MILEAGE']= imputer.fit_transform(cid[['ANNUAL_MILEAGE']])"
      ],
      "metadata": {
        "id": "H_J_SdDatrBd"
      },
      "execution_count": null,
      "outputs": []
    },
    {
      "cell_type": "markdown",
      "source": [
        "###**Checking Vaule Counts**"
      ],
      "metadata": {
        "id": "xBKp2JzaKLml"
      }
    },
    {
      "cell_type": "code",
      "source": [
        "for col in cid.columns:\n",
        "    print(cid[col].value_counts())"
      ],
      "metadata": {
        "colab": {
          "base_uri": "https://localhost:8080/"
        },
        "id": "k91eVAzrIv3t",
        "outputId": "7c82c44f-8268-4937-8686-ff92de046f1d"
      },
      "execution_count": null,
      "outputs": [
        {
          "output_type": "stream",
          "name": "stdout",
          "text": [
            "26-39    3062\n",
            "40-64    2931\n",
            "16-25    2005\n",
            "65+      1990\n",
            "Name: AGE, dtype: int64\n",
            "female    5003\n",
            "male      4985\n",
            "Name: GENDER, dtype: int64\n",
            "majority    9000\n",
            "minority     988\n",
            "Name: RACE, dtype: int64\n",
            "0-9y      3519\n",
            "10-19y    3298\n",
            "20-29y    2119\n",
            "30y+      1052\n",
            "Name: DRIVING_EXPERIENCE, dtype: int64\n",
            "high school    4151\n",
            "university     3927\n",
            "none           1910\n",
            "Name: EDUCATION, dtype: int64\n",
            "upper class      4335\n",
            "middle class     2138\n",
            "poverty          1804\n",
            "working class    1711\n",
            "Name: INCOME, dtype: int64\n",
            "0.629027    1\n",
            "0.618094    1\n",
            "0.396540    1\n",
            "0.578306    1\n",
            "0.633275    1\n",
            "           ..\n",
            "0.309272    1\n",
            "0.847325    1\n",
            "0.432080    1\n",
            "0.527041    1\n",
            "0.435225    1\n",
            "Name: CREDIT_SCORE, Length: 9018, dtype: int64\n",
            "1    6967\n",
            "0    3021\n",
            "Name: VEHICLE_OWNERSHIP, dtype: int64\n",
            "before 2015    6955\n",
            "after 2015     3033\n",
            "Name: VEHICLE_YEAR, dtype: int64\n",
            "0    5007\n",
            "1    4981\n",
            "Name: MARRIED, dtype: int64\n",
            "1    6885\n",
            "0    3103\n",
            "Name: CHILDREN, dtype: int64\n",
            "10238    6929\n",
            "32765    2455\n",
            "92101     484\n",
            "21217     120\n",
            "Name: POSTAL_CODE, dtype: int64\n",
            "11000.0    1253\n",
            "12000.0    1218\n",
            "13000.0    1136\n",
            "10000.0    1071\n",
            "14000.0     891\n",
            "9000.0      855\n",
            "15000.0     630\n",
            "8000.0      557\n",
            "16000.0     418\n",
            "7000.0      322\n",
            "17000.0     245\n",
            "6000.0      165\n",
            "18000.0     103\n",
            "5000.0       65\n",
            "19000.0      48\n",
            "4000.0       27\n",
            "20000.0      13\n",
            "3000.0       10\n",
            "21000.0       3\n",
            "2000.0        2\n",
            "22000.0       2\n",
            "Name: ANNUAL_MILEAGE, dtype: int64\n",
            "sedan         9511\n",
            "sports car     477\n",
            "Name: VEHICLE_TYPE, dtype: int64\n",
            "0     5017\n",
            "1     1543\n",
            "2     1161\n",
            "3      830\n",
            "4      530\n",
            "5      319\n",
            "6      188\n",
            "7      140\n",
            "8       75\n",
            "10      50\n",
            "9       49\n",
            "11      30\n",
            "12      20\n",
            "13      12\n",
            "15       8\n",
            "14       5\n",
            "16       4\n",
            "17       3\n",
            "19       2\n",
            "18       1\n",
            "22       1\n",
            "Name: SPEEDING_VIOLATIONS, dtype: int64\n",
            "0    8106\n",
            "1    1470\n",
            "2     331\n",
            "3      68\n",
            "4      10\n",
            "5       2\n",
            "6       1\n",
            "Name: DUIS, dtype: int64\n",
            "0     5573\n",
            "1     1783\n",
            "2     1103\n",
            "3      646\n",
            "4      366\n",
            "5      232\n",
            "6      144\n",
            "7       61\n",
            "8       41\n",
            "9       19\n",
            "10       9\n",
            "11       7\n",
            "12       2\n",
            "14       1\n",
            "15       1\n",
            "Name: PAST_ACCIDENTS, dtype: int64\n",
            "0    6864\n",
            "1    3124\n",
            "Name: OUTCOME, dtype: int64\n"
          ]
        }
      ]
    },
    {
      "cell_type": "code",
      "source": [
        "value_counts = cid.apply(pd.value_counts).stack()"
      ],
      "metadata": {
        "id": "6Z3ymP67K4rd"
      },
      "execution_count": null,
      "outputs": []
    },
    {
      "cell_type": "code",
      "source": [
        "cid.value_counts('CREDIT_SCORE')"
      ],
      "metadata": {
        "colab": {
          "base_uri": "https://localhost:8080/"
        },
        "id": "dorg9pVjMrAK",
        "outputId": "fad63bec-c192-48e8-c1d5-747bcefc278b"
      },
      "execution_count": null,
      "outputs": [
        {
          "output_type": "execute_result",
          "data": {
            "text/plain": [
              "CREDIT_SCORE\n",
              "0.053358    1\n",
              "0.586604    1\n",
              "0.586321    1\n",
              "0.586345    1\n",
              "0.586356    1\n",
              "           ..\n",
              "0.457110    1\n",
              "0.457073    1\n",
              "0.456999    1\n",
              "0.456883    1\n",
              "0.960819    1\n",
              "Length: 9018, dtype: int64"
            ]
          },
          "metadata": {},
          "execution_count": 17
        }
      ]
    },
    {
      "cell_type": "code",
      "source": [
        "cid['CREDIT_SCORE'] = cid['CREDIT_SCORE'] * 10**3"
      ],
      "metadata": {
        "id": "0qRNGh_ZNOj2"
      },
      "execution_count": null,
      "outputs": []
    },
    {
      "cell_type": "code",
      "source": [
        "cid.value_counts('CREDIT_SCORE')"
      ],
      "metadata": {
        "colab": {
          "base_uri": "https://localhost:8080/"
        },
        "id": "VhOCKxFlNayt",
        "outputId": "d3b8c74d-0bc4-4614-e5e5-c4730f6575a4"
      },
      "execution_count": null,
      "outputs": [
        {
          "output_type": "execute_result",
          "data": {
            "text/plain": [
              "CREDIT_SCORE\n",
              "53.357545     1\n",
              "586.603537    1\n",
              "586.320546    1\n",
              "586.344861    1\n",
              "586.355767    1\n",
              "             ..\n",
              "457.110218    1\n",
              "457.072833    1\n",
              "456.998546    1\n",
              "456.883465    1\n",
              "960.818828    1\n",
              "Length: 9018, dtype: int64"
            ]
          },
          "metadata": {},
          "execution_count": 19
        }
      ]
    },
    {
      "cell_type": "code",
      "source": [
        "x= cid.drop('OUTCOME', axis=1)\n",
        "y=cid['OUTCOME']"
      ],
      "metadata": {
        "id": "D2-CHe6Et4gz"
      },
      "execution_count": null,
      "outputs": []
    },
    {
      "cell_type": "code",
      "source": [
        "x_train, x_test, y_train, y_test = train_test_split(x, y, random_state= 42)"
      ],
      "metadata": {
        "id": "liIALOwbucxO"
      },
      "execution_count": null,
      "outputs": []
    },
    {
      "cell_type": "markdown",
      "source": [
        "##**Univariate Visualization**"
      ],
      "metadata": {
        "id": "eWUK9QLgOv7G"
      }
    },
    {
      "cell_type": "code",
      "source": [
        "sns.boxplot(data=cid, x='CREDIT_SCORE');"
      ],
      "metadata": {
        "colab": {
          "base_uri": "https://localhost:8080/",
          "height": 280
        },
        "id": "9OKJqVybPUZX",
        "outputId": "4e767f20-25c3-4bba-c67a-fe12460e7732"
      },
      "execution_count": null,
      "outputs": [
        {
          "output_type": "display_data",
          "data": {
            "text/plain": [
              "<Figure size 432x288 with 1 Axes>"
            ],
            "image/png": "[encoded data removed]"
          },
          "metadata": {
            "needs_background": "light"
          }
        }
      ]
    },
    {
      "cell_type": "markdown",
      "source": [
        "- Above we see the median credit score is about 520"
      ],
      "metadata": {
        "id": "en20oKhtu-vp"
      }
    },
    {
      "cell_type": "code",
      "source": [
        "sns.barplot(\n",
        "    x=\"VEHICLE_OWNERSHIP\", \n",
        "    y=\"INCOME\", \n",
        "    data=df, \n",
        "    estimator=sum, \n",
        "    ci=None)"
      ],
      "metadata": {
        "colab": {
          "base_uri": "https://localhost:8080/",
          "height": 298
        },
        "id": "EXgJWi0v7fvT",
        "outputId": "d766a173-1b3c-44da-fdbb-4bb5f695e304"
      },
      "execution_count": null,
      "outputs": [
        {
          "output_type": "execute_result",
          "data": {
            "text/plain": [
              "<matplotlib.axes._subplots.AxesSubplot at 0x7f1475657ee0>"
            ]
          },
          "metadata": {},
          "execution_count": 21
        },
        {
          "output_type": "display_data",
          "data": {
            "text/plain": [
              "<Figure size 432x288 with 1 Axes>"
            ],
            "image/png": "[encoded data removed]"
          },
          "metadata": {
            "needs_background": "light"
          }
        }
      ]
    },
    {
      "cell_type": "code",
      "source": [
        "# Set the figure size\n",
        "plt.figure(figsize=(25, 10));\n",
        "sns.barplot(\n",
        "    x=\"SPEEDING_VIOLATIONS\", \n",
        "    y=\"ANNUAL_MILEAGE\", \n",
        "    data=df, \n",
        "    estimator=sum, \n",
        "    ci=None)\n",
        "# Add title and axis names\n",
        "plt.xticks(rotation=45, fontsize = 12, fontweight = 'bold', ha = 'right');\n",
        "plt.title('Annual Mileage for Speeding Violations',fontweight='bold', color = 'Black', fontsize='30', horizontalalignment='center');\n",
        "plt.xlabel('Speeding Violations',fontweight='bold', fontsize='17', horizontalalignment='right');\n",
        "plt.ylabel('Annual_Mileage',fontweight='bold', fontsize='17', horizontalalignment='right');\n",
        "plt.show()"
      ],
      "metadata": {
        "colab": {
          "base_uri": "https://localhost:8080/",
          "height": 511
        },
        "id": "yyptK4PX9CBE",
        "outputId": "437cc6ff-72be-486d-fb0b-c9f14b4706c4"
      },
      "execution_count": null,
      "outputs": [
        {
          "output_type": "display_data",
          "data": {
            "text/plain": [
              "<Figure size 1800x720 with 1 Axes>"
            ],
            "image/png": "[encoded data removed]"
          },
          "metadata": {
            "needs_background": "light"
          }
        }
      ]
    }
  ]
}