{
  "nbformat": 4,
  "nbformat_minor": 0,
  "metadata": {
    "colab": {
      "provenance": [],
      "authorship_tag": "ABX9TyPCn/guSKZvp1hAt3FdNZhn",
      "include_colab_link": true
    },
    "kernelspec": {
      "name": "python3",
      "display_name": "Python 3"
    },
    "language_info": {
      "name": "python"
    }
  },
  "cells": [
    {
      "cell_type": "markdown",
      "metadata": {
        "id": "view-in-github",
        "colab_type": "text"
      },
      "source": [
        "<a href=\"https://colab.research.google.com/github/JoeBwonKenobi/Project-2/blob/main/Project2_Part_4.ipynb\" target=\"_parent\"><img src=\"https://colab.research.google.com/assets/colab-badge.svg\" alt=\"Open In Colab\"/></a>"
      ]
    },
    {
      "cell_type": "markdown",
      "source": [
        "**Project2 Part 4**"
      ],
      "metadata": {
        "id": "rc2MXZ2iuQTw"
      }
    },
    {
      "cell_type": "markdown",
      "source": [
        "Joe Lardie\n",
        "\n",
        "Jan 2023"
      ],
      "metadata": {
        "id": "ke0N_ytnuVvj"
      }
    },
    {
      "cell_type": "markdown",
      "source": [
        "Objective Overview:"
      ],
      "metadata": {
        "id": "DIEZ_KqBx2Kp"
      }
    },
    {
      "cell_type": "markdown",
      "source": [
        "The overall objective of the project is to predict the probability of customers making a claim on their insurance based on a number of different factors."
      ],
      "metadata": {
        "id": "YjU0PvQSxXMY"
      }
    },
    {
      "cell_type": "markdown",
      "source": [
        "##**Objectives part 2**"
      ],
      "metadata": {
        "id": "LpkiAQVAuhrf"
      }
    },
    {
      "cell_type": "markdown",
      "source": [
        "- Requirements:\n",
        "\n",
        "- Deleted unnecessary columns.\n",
        "- Deleted duplicate rows.\n",
        "- Identified and addressed missing values.\n",
        "- Identified and corrected inconsistencies in data for categorical values (i.e. Cat, cat, cats).\n",
        "- Produced univariate visuals for the target and all features.\n",
        "- Identified outliers.\n",
        "- Clearly commented all of your cleaning steps and described any decisions you made."
      ],
      "metadata": {
        "id": "5jXRTpdGuzIY"
      }
    },
    {
      "cell_type": "markdown",
      "source": [
        "##**Objectives part 3**"
      ],
      "metadata": {
        "id": "VUa6c9nM6LVv"
      }
    },
    {
      "cell_type": "markdown",
      "source": [
        "-For this part of the project, you will continue your data exploration by:\n",
        "\n",
        "- Identifying any moderate or strong correlations between your target and your features and/or between one feature and another using a correlation heatmap.\n",
        "\n",
        "- Creating multivariate (multiple variables) exploratory visualizations to further understand your data and search for trends.\n",
        "\n",
        "- Then, choose two visualizations from your analysis that demonstrate key trends you found that will be of interest to a stakeholder.\n",
        "- These visuals should be reporting quality with titles, labels, and a short explanation of the trend. \n",
        "\n",
        "- Be sure to explain in a text cell the finding associated with each visual.\n",
        "\n",
        "- Both of these visualizations should be easily understood by a non-technical audience (Neither should be histograms, boxplots, or correlation plots)."
      ],
      "metadata": {
        "id": "H91WQDZB6H9n"
      }
    },
    {
      "cell_type": "markdown",
      "source": [
        "##**Objectives part 4**"
      ],
      "metadata": {
        "id": "5sFQcKuQKP1r"
      }
    },
    {
      "cell_type": "markdown",
      "source": [
        "-Ensure that you complete the appropriate pre-processing steps.\n",
        "\n",
        "-Try multiple models and tune the hyperparameters of each model to optimize model performance (include all models and hyperparameters tested in addition to the final model).\n",
        "\n",
        "-Perform PCA or another feature engineering technique on your dataset to see how this impacts your results. (We encourage you to try multiple techniques depending on your data!).\n",
        "\n",
        "-Evaluate model performance with appropriate metrics for the model.\n",
        "Choose your \"production\" model and justify this decision.\n",
        "\n",
        "-Go back through your code and ensure that you have provided clear comments (remember this is for your portfolio!).\n",
        "\n",
        "-Update your project readme and describe your final model, your final model evaluation metrics, and explain whether or not your model would be useful in production and if so, how it should be used.\n",
        "\n",
        "-Commit your code to GitHub."
      ],
      "metadata": {
        "id": "M0kqOIexKb1G"
      }
    },
    {
      "cell_type": "markdown",
      "source": [
        "##**Imports**"
      ],
      "metadata": {
        "id": "Chrpnu-hCEwQ"
      }
    },
    {
      "cell_type": "code",
      "execution_count": 1,
      "metadata": {
        "id": "gDovWetafdJi"
      },
      "outputs": [],
      "source": [
        "#Numpy\n",
        "import numpy as np\n",
        "\n",
        "#Pandas\n",
        "import pandas as pd\n",
        "\n",
        "#Seaborn\n",
        "import seaborn as sns\n",
        "\n",
        "#matplotlib\n",
        "import matplotlib.pyplot as plt\n",
        "\n",
        "#Sklearn preprocessing\n",
        "from sklearn.preprocessing import OrdinalEncoder\n",
        "from sklearn.preprocessing import OneHotEncoder\n",
        "from sklearn import preprocessing\n",
        "from sklearn.preprocessing import StandardScaler\n",
        "\n",
        "#Sklearn Models\n",
        "from sklearn.model_selection import train_test_split\n",
        "from sklearn.pipeline import Pipeline, make_pipeline\n",
        "from sklearn.impute import SimpleImputer\n",
        "from sklearn import preprocessing\n",
        "from sklearn import set_config\n",
        "from sklearn.pipeline import Pipeline, make_pipeline\n",
        "from sklearn.impute import SimpleImputer\n",
        "from sklearn.compose import ColumnTransformer\n",
        "from sklearn.compose import make_column_selector\n",
        "from sklearn.compose import make_column_transformer\n",
        "from sklearn.ensemble import RandomForestClassifier\n",
        "from sklearn.linear_model import LogisticRegression\n",
        "set_config(display = 'diagram')\n",
        "\n",
        "#Sklearn Metrics\n",
        "from sklearn.metrics import accuracy_score, recall_score, precision_score, f1_score, confusion_matrix, roc_auc_score, roc_curve\n",
        "from sklearn.model_selection import GridSearchCV\n"
      ]
    },
    {
      "cell_type": "markdown",
      "source": [
        "-Here is the link to the orignal data source:\n",
        "\n",
        "https://www.kaggle.com/datasets/sagnik1511/car-insurance-data"
      ],
      "metadata": {
        "id": "ej5T0lKmcWsF"
      }
    },
    {
      "cell_type": "markdown",
      "source": [
        "##**Loading Data**"
      ],
      "metadata": {
        "id": "zsz5FqhOCmKN"
      }
    },
    {
      "cell_type": "code",
      "source": [
        "from google.colab import drive\n",
        "drive.mount('/content/drive/')"
      ],
      "metadata": {
        "colab": {
          "base_uri": "https://localhost:8080/"
        },
        "id": "Xbh4lSsSBSq9",
        "outputId": "d50c7230-91e3-41ea-b0c2-ccfde8274dda"
      },
      "execution_count": 2,
      "outputs": [
        {
          "output_type": "stream",
          "name": "stdout",
          "text": [
            "Drive already mounted at /content/drive/; to attempt to forcibly remount, call drive.mount(\"/content/drive/\", force_remount=True).\n"
          ]
        }
      ]
    },
    {
      "cell_type": "code",
      "source": [
        "# Load Data for Car Insurance Data\n",
        "card = '/content/drive/MyDrive/CodingDojo/Colab Notebooks/Stack 2/Data/Car Insurance Data.csv'\n",
        "df = pd.read_csv(card)\n",
        "df.head()"
      ],
      "metadata": {
        "colab": {
          "base_uri": "https://localhost:8080/",
          "height": 357
        },
        "id": "Il0JRpLZBVae",
        "outputId": "dacec158-20ce-4fed-b07d-0f3699597634"
      },
      "execution_count": 3,
      "outputs": [
        {
          "output_type": "execute_result",
          "data": {
            "text/plain": [
              "       ID    AGE  GENDER      RACE DRIVING_EXPERIENCE    EDUCATION  \\\n",
              "0  569520    65+  female  majority               0-9y  high school   \n",
              "1  750365  16-25    male  majority               0-9y         none   \n",
              "2  199901  16-25  female  majority               0-9y  high school   \n",
              "3  478866  16-25    male  majority               0-9y   university   \n",
              "4  731664  26-39    male  majority             10-19y         none   \n",
              "\n",
              "          INCOME  CREDIT_SCORE  VEHICLE_OWNERSHIP VEHICLE_YEAR  MARRIED  \\\n",
              "0    upper class      0.629027                  1   after 2015        0   \n",
              "1        poverty      0.357757                  0  before 2015        0   \n",
              "2  working class      0.493146                  1  before 2015        0   \n",
              "3  working class      0.206013                  1  before 2015        0   \n",
              "4  working class      0.388366                  1  before 2015        0   \n",
              "\n",
              "   CHILDREN  POSTAL_CODE  ANNUAL_MILEAGE VEHICLE_TYPE  SPEEDING_VIOLATIONS  \\\n",
              "0         1        10238         12000.0        sedan                    0   \n",
              "1         0        10238         16000.0        sedan                    0   \n",
              "2         0        10238         11000.0        sedan                    0   \n",
              "3         1        32765         11000.0        sedan                    0   \n",
              "4         0        32765         12000.0        sedan                    2   \n",
              "\n",
              "   DUIS  PAST_ACCIDENTS  OUTCOME  \n",
              "0     0               0        0  \n",
              "1     0               0        1  \n",
              "2     0               0        0  \n",
              "3     0               0        0  \n",
              "4     0               1        1  "
            ],
            "text/html": [
              "\n",
              "  <div id=\"df-97445458-d06b-4921-98e2-07c605bcea04\">\n",
              "    <div class=\"colab-df-container\">\n",
              "      <div>\n",
              "<style scoped>\n",
              "    .dataframe tbody tr th:only-of-type {\n",
              "        vertical-align: middle;\n",
              "    }\n",
              "\n",
              "    .dataframe tbody tr th {\n",
              "        vertical-align: top;\n",
              "    }\n",
              "\n",
              "    .dataframe thead th {\n",
              "        text-align: right;\n",
              "    }\n",
              "</style>\n",
              "<table border=\"1\" class=\"dataframe\">\n",
              "  <thead>\n",
              "    <tr style=\"text-align: right;\">\n",
              "      <th></th>\n",
              "      <th>ID</th>\n",
              "      <th>AGE</th>\n",
              "      <th>GENDER</th>\n",
              "      <th>RACE</th>\n",
              "      <th>DRIVING_EXPERIENCE</th>\n",
              "      <th>EDUCATION</th>\n",
              "      <th>INCOME</th>\n",
              "      <th>CREDIT_SCORE</th>\n",
              "      <th>VEHICLE_OWNERSHIP</th>\n",
              "      <th>VEHICLE_YEAR</th>\n",
              "      <th>MARRIED</th>\n",
              "      <th>CHILDREN</th>\n",
              "      <th>POSTAL_CODE</th>\n",
              "      <th>ANNUAL_MILEAGE</th>\n",
              "      <th>VEHICLE_TYPE</th>\n",
              "      <th>SPEEDING_VIOLATIONS</th>\n",
              "      <th>DUIS</th>\n",
              "      <th>PAST_ACCIDENTS</th>\n",
              "      <th>OUTCOME</th>\n",
              "    </tr>\n",
              "  </thead>\n",
              "  <tbody>\n",
              "    <tr>\n",
              "      <th>0</th>\n",
              "      <td>569520</td>\n",
              "      <td>65+</td>\n",
              "      <td>female</td>\n",
              "      <td>majority</td>\n",
              "      <td>0-9y</td>\n",
              "      <td>high school</td>\n",
              "      <td>upper class</td>\n",
              "      <td>0.629027</td>\n",
              "      <td>1</td>\n",
              "      <td>after 2015</td>\n",
              "      <td>0</td>\n",
              "      <td>1</td>\n",
              "      <td>10238</td>\n",
              "      <td>12000.0</td>\n",
              "      <td>sedan</td>\n",
              "      <td>0</td>\n",
              "      <td>0</td>\n",
              "      <td>0</td>\n",
              "      <td>0</td>\n",
              "    </tr>\n",
              "    <tr>\n",
              "      <th>1</th>\n",
              "      <td>750365</td>\n",
              "      <td>16-25</td>\n",
              "      <td>male</td>\n",
              "      <td>majority</td>\n",
              "      <td>0-9y</td>\n",
              "      <td>none</td>\n",
              "      <td>poverty</td>\n",
              "      <td>0.357757</td>\n",
              "      <td>0</td>\n",
              "      <td>before 2015</td>\n",
              "      <td>0</td>\n",
              "      <td>0</td>\n",
              "      <td>10238</td>\n",
              "      <td>16000.0</td>\n",
              "      <td>sedan</td>\n",
              "      <td>0</td>\n",
              "      <td>0</td>\n",
              "      <td>0</td>\n",
              "      <td>1</td>\n",
              "    </tr>\n",
              "    <tr>\n",
              "      <th>2</th>\n",
              "      <td>199901</td>\n",
              "      <td>16-25</td>\n",
              "      <td>female</td>\n",
              "      <td>majority</td>\n",
              "      <td>0-9y</td>\n",
              "      <td>high school</td>\n",
              "      <td>working class</td>\n",
              "      <td>0.493146</td>\n",
              "      <td>1</td>\n",
              "      <td>before 2015</td>\n",
              "      <td>0</td>\n",
              "      <td>0</td>\n",
              "      <td>10238</td>\n",
              "      <td>11000.0</td>\n",
              "      <td>sedan</td>\n",
              "      <td>0</td>\n",
              "      <td>0</td>\n",
              "      <td>0</td>\n",
              "      <td>0</td>\n",
              "    </tr>\n",
              "    <tr>\n",
              "      <th>3</th>\n",
              "      <td>478866</td>\n",
              "      <td>16-25</td>\n",
              "      <td>male</td>\n",
              "      <td>majority</td>\n",
              "      <td>0-9y</td>\n",
              "      <td>university</td>\n",
              "      <td>working class</td>\n",
              "      <td>0.206013</td>\n",
              "      <td>1</td>\n",
              "      <td>before 2015</td>\n",
              "      <td>0</td>\n",
              "      <td>1</td>\n",
              "      <td>32765</td>\n",
              "      <td>11000.0</td>\n",
              "      <td>sedan</td>\n",
              "      <td>0</td>\n",
              "      <td>0</td>\n",
              "      <td>0</td>\n",
              "      <td>0</td>\n",
              "    </tr>\n",
              "    <tr>\n",
              "      <th>4</th>\n",
              "      <td>731664</td>\n",
              "      <td>26-39</td>\n",
              "      <td>male</td>\n",
              "      <td>majority</td>\n",
              "      <td>10-19y</td>\n",
              "      <td>none</td>\n",
              "      <td>working class</td>\n",
              "      <td>0.388366</td>\n",
              "      <td>1</td>\n",
              "      <td>before 2015</td>\n",
              "      <td>0</td>\n",
              "      <td>0</td>\n",
              "      <td>32765</td>\n",
              "      <td>12000.0</td>\n",
              "      <td>sedan</td>\n",
              "      <td>2</td>\n",
              "      <td>0</td>\n",
              "      <td>1</td>\n",
              "      <td>1</td>\n",
              "    </tr>\n",
              "  </tbody>\n",
              "</table>\n",
              "</div>\n",
              "      <button class=\"colab-df-convert\" onclick=\"convertToInteractive('df-97445458-d06b-4921-98e2-07c605bcea04')\"\n",
              "              title=\"Convert this dataframe to an interactive table.\"\n",
              "              style=\"display:none;\">\n",
              "        \n",
              "  <svg xmlns=\"http://www.w3.org/2000/svg\" height=\"24px\"viewBox=\"0 0 24 24\"\n",
              "       width=\"24px\">\n",
              "    <path d=\"M0 0h24v24H0V0z\" fill=\"none\"/>\n",
              "    <path d=\"M18.56 5.44l.94 2.06.94-2.06 2.06-.94-2.06-.94-.94-2.06-.94 2.06-2.06.94zm-11 1L8.5 8.5l.94-2.06 2.06-.94-2.06-.94L8.5 2.5l-.94 2.06-2.06.94zm10 10l.94 2.06.94-2.06 2.06-.94-2.06-.94-.94-2.06-.94 2.06-2.06.94z\"/><path d=\"M17.41 7.96l-1.37-1.37c-.4-.4-.92-.59-1.43-.59-.52 0-1.04.2-1.43.59L10.3 9.45l-7.72 7.72c-.78.78-.78 2.05 0 2.83L4 21.41c.39.39.9.59 1.41.59.51 0 1.02-.2 1.41-.59l7.78-7.78 2.81-2.81c.8-.78.8-2.07 0-2.86zM5.41 20L4 18.59l7.72-7.72 1.47 1.35L5.41 20z\"/>\n",
              "  </svg>\n",
              "      </button>\n",
              "      \n",
              "  <style>\n",
              "    .colab-df-container {\n",
              "      display:flex;\n",
              "      flex-wrap:wrap;\n",
              "      gap: 12px;\n",
              "    }\n",
              "\n",
              "    .colab-df-convert {\n",
              "      background-color: #E8F0FE;\n",
              "      border: none;\n",
              "      border-radius: 50%;\n",
              "      cursor: pointer;\n",
              "      display: none;\n",
              "      fill: #1967D2;\n",
              "      height: 32px;\n",
              "      padding: 0 0 0 0;\n",
              "      width: 32px;\n",
              "    }\n",
              "\n",
              "    .colab-df-convert:hover {\n",
              "      background-color: #E2EBFA;\n",
              "      box-shadow: 0px 1px 2px rgba(60, 64, 67, 0.3), 0px 1px 3px 1px rgba(60, 64, 67, 0.15);\n",
              "      fill: #174EA6;\n",
              "    }\n",
              "\n",
              "    [theme=dark] .colab-df-convert {\n",
              "      background-color: #3B4455;\n",
              "      fill: #D2E3FC;\n",
              "    }\n",
              "\n",
              "    [theme=dark] .colab-df-convert:hover {\n",
              "      background-color: #434B5C;\n",
              "      box-shadow: 0px 1px 3px 1px rgba(0, 0, 0, 0.15);\n",
              "      filter: drop-shadow(0px 1px 2px rgba(0, 0, 0, 0.3));\n",
              "      fill: #FFFFFF;\n",
              "    }\n",
              "  </style>\n",
              "\n",
              "      <script>\n",
              "        const buttonEl =\n",
              "          document.querySelector('#df-97445458-d06b-4921-98e2-07c605bcea04 button.colab-df-convert');\n",
              "        buttonEl.style.display =\n",
              "          google.colab.kernel.accessAllowed ? 'block' : 'none';\n",
              "\n",
              "        async function convertToInteractive(key) {\n",
              "          const element = document.querySelector('#df-97445458-d06b-4921-98e2-07c605bcea04');\n",
              "          const dataTable =\n",
              "            await google.colab.kernel.invokeFunction('convertToInteractive',\n",
              "                                                     [key], {});\n",
              "          if (!dataTable) return;\n",
              "\n",
              "          const docLinkHtml = 'Like what you see? Visit the ' +\n",
              "            '<a target=\"_blank\" href=https://colab.research.google.com/notebooks/data_table.ipynb>data table notebook</a>'\n",
              "            + ' to learn more about interactive tables.';\n",
              "          element.innerHTML = '';\n",
              "          dataTable['output_type'] = 'display_data';\n",
              "          await google.colab.output.renderOutput(dataTable, element);\n",
              "          const docLink = document.createElement('div');\n",
              "          docLink.innerHTML = docLinkHtml;\n",
              "          element.appendChild(docLink);\n",
              "        }\n",
              "      </script>\n",
              "    </div>\n",
              "  </div>\n",
              "  "
            ]
          },
          "metadata": {},
          "execution_count": 3
        }
      ]
    },
    {
      "cell_type": "code",
      "source": [
        "#Making a copy of data frame\n",
        "cid = df.copy()"
      ],
      "metadata": {
        "id": "s9QRasbhCwc4"
      },
      "execution_count": 4,
      "outputs": []
    },
    {
      "cell_type": "code",
      "source": [
        "# Display the number of rows and columns for the dataframe\n",
        "cid.shape\n",
        "print(f'There are {cid.shape[0]} rows, and {cid.shape[1]} columns.')\n",
        "print(f'The rows represent {cid.shape[0]} observations, and the columns represent {df.shape[1]-1} features and 1 target variable.')"
      ],
      "metadata": {
        "colab": {
          "base_uri": "https://localhost:8080/"
        },
        "id": "bezkAHuvLbzb",
        "outputId": "d091a9e6-ac6a-4c43-b2e4-82c19b10cdb0"
      },
      "execution_count": 5,
      "outputs": [
        {
          "output_type": "stream",
          "name": "stdout",
          "text": [
            "There are 10000 rows, and 19 columns.\n",
            "The rows represent 10000 observations, and the columns represent 18 features and 1 target variable.\n"
          ]
        }
      ]
    },
    {
      "cell_type": "code",
      "source": [
        "#Retreiveing basic info about our data\n",
        "cid.info()"
      ],
      "metadata": {
        "colab": {
          "base_uri": "https://localhost:8080/"
        },
        "id": "Yt2wirEkDFY3",
        "outputId": "bd161119-2782-406a-9dfc-5b5b35f25c72"
      },
      "execution_count": 6,
      "outputs": [
        {
          "output_type": "stream",
          "name": "stdout",
          "text": [
            "<class 'pandas.core.frame.DataFrame'>\n",
            "RangeIndex: 10000 entries, 0 to 9999\n",
            "Data columns (total 19 columns):\n",
            " #   Column               Non-Null Count  Dtype  \n",
            "---  ------               --------------  -----  \n",
            " 0   ID                   10000 non-null  int64  \n",
            " 1   AGE                  10000 non-null  object \n",
            " 2   GENDER               10000 non-null  object \n",
            " 3   RACE                 10000 non-null  object \n",
            " 4   DRIVING_EXPERIENCE   10000 non-null  object \n",
            " 5   EDUCATION            10000 non-null  object \n",
            " 6   INCOME               10000 non-null  object \n",
            " 7   CREDIT_SCORE         9018 non-null   float64\n",
            " 8   VEHICLE_OWNERSHIP    10000 non-null  int64  \n",
            " 9   VEHICLE_YEAR         10000 non-null  object \n",
            " 10  MARRIED              10000 non-null  int64  \n",
            " 11  CHILDREN             10000 non-null  int64  \n",
            " 12  POSTAL_CODE          10000 non-null  int64  \n",
            " 13  ANNUAL_MILEAGE       9043 non-null   float64\n",
            " 14  VEHICLE_TYPE         10000 non-null  object \n",
            " 15  SPEEDING_VIOLATIONS  10000 non-null  int64  \n",
            " 16  DUIS                 10000 non-null  int64  \n",
            " 17  PAST_ACCIDENTS       10000 non-null  int64  \n",
            " 18  OUTCOME              10000 non-null  int64  \n",
            "dtypes: float64(2), int64(9), object(8)\n",
            "memory usage: 1.4+ MB\n"
          ]
        }
      ]
    },
    {
      "cell_type": "code",
      "source": [
        "cid.describe(include='all')"
      ],
      "metadata": {
        "colab": {
          "base_uri": "https://localhost:8080/",
          "height": 476
        },
        "id": "eFK-ZHXKMI42",
        "outputId": "442d8033-2535-4fca-c9dc-1ad3127eb101"
      },
      "execution_count": 7,
      "outputs": [
        {
          "output_type": "execute_result",
          "data": {
            "text/plain": [
              "                   ID    AGE  GENDER      RACE DRIVING_EXPERIENCE  \\\n",
              "count    10000.000000  10000   10000     10000              10000   \n",
              "unique            NaN      4       2         2                  4   \n",
              "top               NaN  26-39  female  majority               0-9y   \n",
              "freq              NaN   3063    5010      9012               3530   \n",
              "mean    500521.906800    NaN     NaN       NaN                NaN   \n",
              "std     290030.768758    NaN     NaN       NaN                NaN   \n",
              "min        101.000000    NaN     NaN       NaN                NaN   \n",
              "25%     249638.500000    NaN     NaN       NaN                NaN   \n",
              "50%     501777.000000    NaN     NaN       NaN                NaN   \n",
              "75%     753974.500000    NaN     NaN       NaN                NaN   \n",
              "max     999976.000000    NaN     NaN       NaN                NaN   \n",
              "\n",
              "          EDUCATION       INCOME  CREDIT_SCORE  VEHICLE_OWNERSHIP  \\\n",
              "count         10000        10000   9018.000000       10000.000000   \n",
              "unique            3            4           NaN                NaN   \n",
              "top     high school  upper class           NaN                NaN   \n",
              "freq           4157         4336           NaN                NaN   \n",
              "mean            NaN          NaN      0.515813           0.697000   \n",
              "std             NaN          NaN      0.137688           0.459578   \n",
              "min             NaN          NaN      0.053358           0.000000   \n",
              "25%             NaN          NaN      0.417191           0.000000   \n",
              "50%             NaN          NaN      0.525033           1.000000   \n",
              "75%             NaN          NaN      0.618312           1.000000   \n",
              "max             NaN          NaN      0.960819           1.000000   \n",
              "\n",
              "       VEHICLE_YEAR       MARRIED      CHILDREN   POSTAL_CODE  ANNUAL_MILEAGE  \\\n",
              "count         10000  10000.000000  10000.000000  10000.000000     9043.000000   \n",
              "unique            2           NaN           NaN           NaN             NaN   \n",
              "top     before 2015           NaN           NaN           NaN             NaN   \n",
              "freq           6967           NaN           NaN           NaN             NaN   \n",
              "mean            NaN      0.498200      0.688800  19864.548400    11697.003207   \n",
              "std             NaN      0.500022      0.463008  18915.613855     2818.434528   \n",
              "min             NaN      0.000000      0.000000  10238.000000     2000.000000   \n",
              "25%             NaN      0.000000      0.000000  10238.000000    10000.000000   \n",
              "50%             NaN      0.000000      1.000000  10238.000000    12000.000000   \n",
              "75%             NaN      1.000000      1.000000  32765.000000    14000.000000   \n",
              "max             NaN      1.000000      1.000000  92101.000000    22000.000000   \n",
              "\n",
              "       VEHICLE_TYPE  SPEEDING_VIOLATIONS         DUIS  PAST_ACCIDENTS  \\\n",
              "count         10000         10000.000000  10000.00000    10000.000000   \n",
              "unique            2                  NaN          NaN             NaN   \n",
              "top           sedan                  NaN          NaN             NaN   \n",
              "freq           9523                  NaN          NaN             NaN   \n",
              "mean            NaN             1.482900      0.23920        1.056300   \n",
              "std             NaN             2.241966      0.55499        1.652454   \n",
              "min             NaN             0.000000      0.00000        0.000000   \n",
              "25%             NaN             0.000000      0.00000        0.000000   \n",
              "50%             NaN             0.000000      0.00000        0.000000   \n",
              "75%             NaN             2.000000      0.00000        2.000000   \n",
              "max             NaN            22.000000      6.00000       15.000000   \n",
              "\n",
              "             OUTCOME  \n",
              "count   10000.000000  \n",
              "unique           NaN  \n",
              "top              NaN  \n",
              "freq             NaN  \n",
              "mean        0.313300  \n",
              "std         0.463858  \n",
              "min         0.000000  \n",
              "25%         0.000000  \n",
              "50%         0.000000  \n",
              "75%         1.000000  \n",
              "max         1.000000  "
            ],
            "text/html": [
              "\n",
              "  <div id=\"df-e35fa46c-d554-46ad-a6ec-6aa260df8951\">\n",
              "    <div class=\"colab-df-container\">\n",
              "      <div>\n",
              "<style scoped>\n",
              "    .dataframe tbody tr th:only-of-type {\n",
              "        vertical-align: middle;\n",
              "    }\n",
              "\n",
              "    .dataframe tbody tr th {\n",
              "        vertical-align: top;\n",
              "    }\n",
              "\n",
              "    .dataframe thead th {\n",
              "        text-align: right;\n",
              "    }\n",
              "</style>\n",
              "<table border=\"1\" class=\"dataframe\">\n",
              "  <thead>\n",
              "    <tr style=\"text-align: right;\">\n",
              "      <th></th>\n",
              "      <th>ID</th>\n",
              "      <th>AGE</th>\n",
              "      <th>GENDER</th>\n",
              "      <th>RACE</th>\n",
              "      <th>DRIVING_EXPERIENCE</th>\n",
              "      <th>EDUCATION</th>\n",
              "      <th>INCOME</th>\n",
              "      <th>CREDIT_SCORE</th>\n",
              "      <th>VEHICLE_OWNERSHIP</th>\n",
              "      <th>VEHICLE_YEAR</th>\n",
              "      <th>MARRIED</th>\n",
              "      <th>CHILDREN</th>\n",
              "      <th>POSTAL_CODE</th>\n",
              "      <th>ANNUAL_MILEAGE</th>\n",
              "      <th>VEHICLE_TYPE</th>\n",
              "      <th>SPEEDING_VIOLATIONS</th>\n",
              "      <th>DUIS</th>\n",
              "      <th>PAST_ACCIDENTS</th>\n",
              "      <th>OUTCOME</th>\n",
              "    </tr>\n",
              "  </thead>\n",
              "  <tbody>\n",
              "    <tr>\n",
              "      <th>count</th>\n",
              "      <td>10000.000000</td>\n",
              "      <td>10000</td>\n",
              "      <td>10000</td>\n",
              "      <td>10000</td>\n",
              "      <td>10000</td>\n",
              "      <td>10000</td>\n",
              "      <td>10000</td>\n",
              "      <td>9018.000000</td>\n",
              "      <td>10000.000000</td>\n",
              "      <td>10000</td>\n",
              "      <td>10000.000000</td>\n",
              "      <td>10000.000000</td>\n",
              "      <td>10000.000000</td>\n",
              "      <td>9043.000000</td>\n",
              "      <td>10000</td>\n",
              "      <td>10000.000000</td>\n",
              "      <td>10000.00000</td>\n",
              "      <td>10000.000000</td>\n",
              "      <td>10000.000000</td>\n",
              "    </tr>\n",
              "    <tr>\n",
              "      <th>unique</th>\n",
              "      <td>NaN</td>\n",
              "      <td>4</td>\n",
              "      <td>2</td>\n",
              "      <td>2</td>\n",
              "      <td>4</td>\n",
              "      <td>3</td>\n",
              "      <td>4</td>\n",
              "      <td>NaN</td>\n",
              "      <td>NaN</td>\n",
              "      <td>2</td>\n",
              "      <td>NaN</td>\n",
              "      <td>NaN</td>\n",
              "      <td>NaN</td>\n",
              "      <td>NaN</td>\n",
              "      <td>2</td>\n",
              "      <td>NaN</td>\n",
              "      <td>NaN</td>\n",
              "      <td>NaN</td>\n",
              "      <td>NaN</td>\n",
              "    </tr>\n",
              "    <tr>\n",
              "      <th>top</th>\n",
              "      <td>NaN</td>\n",
              "      <td>26-39</td>\n",
              "      <td>female</td>\n",
              "      <td>majority</td>\n",
              "      <td>0-9y</td>\n",
              "      <td>high school</td>\n",
              "      <td>upper class</td>\n",
              "      <td>NaN</td>\n",
              "      <td>NaN</td>\n",
              "      <td>before 2015</td>\n",
              "      <td>NaN</td>\n",
              "      <td>NaN</td>\n",
              "      <td>NaN</td>\n",
              "      <td>NaN</td>\n",
              "      <td>sedan</td>\n",
              "      <td>NaN</td>\n",
              "      <td>NaN</td>\n",
              "      <td>NaN</td>\n",
              "      <td>NaN</td>\n",
              "    </tr>\n",
              "    <tr>\n",
              "      <th>freq</th>\n",
              "      <td>NaN</td>\n",
              "      <td>3063</td>\n",
              "      <td>5010</td>\n",
              "      <td>9012</td>\n",
              "      <td>3530</td>\n",
              "      <td>4157</td>\n",
              "      <td>4336</td>\n",
              "      <td>NaN</td>\n",
              "      <td>NaN</td>\n",
              "      <td>6967</td>\n",
              "      <td>NaN</td>\n",
              "      <td>NaN</td>\n",
              "      <td>NaN</td>\n",
              "      <td>NaN</td>\n",
              "      <td>9523</td>\n",
              "      <td>NaN</td>\n",
              "      <td>NaN</td>\n",
              "      <td>NaN</td>\n",
              "      <td>NaN</td>\n",
              "    </tr>\n",
              "    <tr>\n",
              "      <th>mean</th>\n",
              "      <td>500521.906800</td>\n",
              "      <td>NaN</td>\n",
              "      <td>NaN</td>\n",
              "      <td>NaN</td>\n",
              "      <td>NaN</td>\n",
              "      <td>NaN</td>\n",
              "      <td>NaN</td>\n",
              "      <td>0.515813</td>\n",
              "      <td>0.697000</td>\n",
              "      <td>NaN</td>\n",
              "      <td>0.498200</td>\n",
              "      <td>0.688800</td>\n",
              "      <td>19864.548400</td>\n",
              "      <td>11697.003207</td>\n",
              "      <td>NaN</td>\n",
              "      <td>1.482900</td>\n",
              "      <td>0.23920</td>\n",
              "      <td>1.056300</td>\n",
              "      <td>0.313300</td>\n",
              "    </tr>\n",
              "    <tr>\n",
              "      <th>std</th>\n",
              "      <td>290030.768758</td>\n",
              "      <td>NaN</td>\n",
              "      <td>NaN</td>\n",
              "      <td>NaN</td>\n",
              "      <td>NaN</td>\n",
              "      <td>NaN</td>\n",
              "      <td>NaN</td>\n",
              "      <td>0.137688</td>\n",
              "      <td>0.459578</td>\n",
              "      <td>NaN</td>\n",
              "      <td>0.500022</td>\n",
              "      <td>0.463008</td>\n",
              "      <td>18915.613855</td>\n",
              "      <td>2818.434528</td>\n",
              "      <td>NaN</td>\n",
              "      <td>2.241966</td>\n",
              "      <td>0.55499</td>\n",
              "      <td>1.652454</td>\n",
              "      <td>0.463858</td>\n",
              "    </tr>\n",
              "    <tr>\n",
              "      <th>min</th>\n",
              "      <td>101.000000</td>\n",
              "      <td>NaN</td>\n",
              "      <td>NaN</td>\n",
              "      <td>NaN</td>\n",
              "      <td>NaN</td>\n",
              "      <td>NaN</td>\n",
              "      <td>NaN</td>\n",
              "      <td>0.053358</td>\n",
              "      <td>0.000000</td>\n",
              "      <td>NaN</td>\n",
              "      <td>0.000000</td>\n",
              "      <td>0.000000</td>\n",
              "      <td>10238.000000</td>\n",
              "      <td>2000.000000</td>\n",
              "      <td>NaN</td>\n",
              "      <td>0.000000</td>\n",
              "      <td>0.00000</td>\n",
              "      <td>0.000000</td>\n",
              "      <td>0.000000</td>\n",
              "    </tr>\n",
              "    <tr>\n",
              "      <th>25%</th>\n",
              "      <td>249638.500000</td>\n",
              "      <td>NaN</td>\n",
              "      <td>NaN</td>\n",
              "      <td>NaN</td>\n",
              "      <td>NaN</td>\n",
              "      <td>NaN</td>\n",
              "      <td>NaN</td>\n",
              "      <td>0.417191</td>\n",
              "      <td>0.000000</td>\n",
              "      <td>NaN</td>\n",
              "      <td>0.000000</td>\n",
              "      <td>0.000000</td>\n",
              "      <td>10238.000000</td>\n",
              "      <td>10000.000000</td>\n",
              "      <td>NaN</td>\n",
              "      <td>0.000000</td>\n",
              "      <td>0.00000</td>\n",
              "      <td>0.000000</td>\n",
              "      <td>0.000000</td>\n",
              "    </tr>\n",
              "    <tr>\n",
              "      <th>50%</th>\n",
              "      <td>501777.000000</td>\n",
              "      <td>NaN</td>\n",
              "      <td>NaN</td>\n",
              "      <td>NaN</td>\n",
              "      <td>NaN</td>\n",
              "      <td>NaN</td>\n",
              "      <td>NaN</td>\n",
              "      <td>0.525033</td>\n",
              "      <td>1.000000</td>\n",
              "      <td>NaN</td>\n",
              "      <td>0.000000</td>\n",
              "      <td>1.000000</td>\n",
              "      <td>10238.000000</td>\n",
              "      <td>12000.000000</td>\n",
              "      <td>NaN</td>\n",
              "      <td>0.000000</td>\n",
              "      <td>0.00000</td>\n",
              "      <td>0.000000</td>\n",
              "      <td>0.000000</td>\n",
              "    </tr>\n",
              "    <tr>\n",
              "      <th>75%</th>\n",
              "      <td>753974.500000</td>\n",
              "      <td>NaN</td>\n",
              "      <td>NaN</td>\n",
              "      <td>NaN</td>\n",
              "      <td>NaN</td>\n",
              "      <td>NaN</td>\n",
              "      <td>NaN</td>\n",
              "      <td>0.618312</td>\n",
              "      <td>1.000000</td>\n",
              "      <td>NaN</td>\n",
              "      <td>1.000000</td>\n",
              "      <td>1.000000</td>\n",
              "      <td>32765.000000</td>\n",
              "      <td>14000.000000</td>\n",
              "      <td>NaN</td>\n",
              "      <td>2.000000</td>\n",
              "      <td>0.00000</td>\n",
              "      <td>2.000000</td>\n",
              "      <td>1.000000</td>\n",
              "    </tr>\n",
              "    <tr>\n",
              "      <th>max</th>\n",
              "      <td>999976.000000</td>\n",
              "      <td>NaN</td>\n",
              "      <td>NaN</td>\n",
              "      <td>NaN</td>\n",
              "      <td>NaN</td>\n",
              "      <td>NaN</td>\n",
              "      <td>NaN</td>\n",
              "      <td>0.960819</td>\n",
              "      <td>1.000000</td>\n",
              "      <td>NaN</td>\n",
              "      <td>1.000000</td>\n",
              "      <td>1.000000</td>\n",
              "      <td>92101.000000</td>\n",
              "      <td>22000.000000</td>\n",
              "      <td>NaN</td>\n",
              "      <td>22.000000</td>\n",
              "      <td>6.00000</td>\n",
              "      <td>15.000000</td>\n",
              "      <td>1.000000</td>\n",
              "    </tr>\n",
              "  </tbody>\n",
              "</table>\n",
              "</div>\n",
              "      <button class=\"colab-df-convert\" onclick=\"convertToInteractive('df-e35fa46c-d554-46ad-a6ec-6aa260df8951')\"\n",
              "              title=\"Convert this dataframe to an interactive table.\"\n",
              "              style=\"display:none;\">\n",
              "        \n",
              "  <svg xmlns=\"http://www.w3.org/2000/svg\" height=\"24px\"viewBox=\"0 0 24 24\"\n",
              "       width=\"24px\">\n",
              "    <path d=\"M0 0h24v24H0V0z\" fill=\"none\"/>\n",
              "    <path d=\"M18.56 5.44l.94 2.06.94-2.06 2.06-.94-2.06-.94-.94-2.06-.94 2.06-2.06.94zm-11 1L8.5 8.5l.94-2.06 2.06-.94-2.06-.94L8.5 2.5l-.94 2.06-2.06.94zm10 10l.94 2.06.94-2.06 2.06-.94-2.06-.94-.94-2.06-.94 2.06-2.06.94z\"/><path d=\"M17.41 7.96l-1.37-1.37c-.4-.4-.92-.59-1.43-.59-.52 0-1.04.2-1.43.59L10.3 9.45l-7.72 7.72c-.78.78-.78 2.05 0 2.83L4 21.41c.39.39.9.59 1.41.59.51 0 1.02-.2 1.41-.59l7.78-7.78 2.81-2.81c.8-.78.8-2.07 0-2.86zM5.41 20L4 18.59l7.72-7.72 1.47 1.35L5.41 20z\"/>\n",
              "  </svg>\n",
              "      </button>\n",
              "      \n",
              "  <style>\n",
              "    .colab-df-container {\n",
              "      display:flex;\n",
              "      flex-wrap:wrap;\n",
              "      gap: 12px;\n",
              "    }\n",
              "\n",
              "    .colab-df-convert {\n",
              "      background-color: #E8F0FE;\n",
              "      border: none;\n",
              "      border-radius: 50%;\n",
              "      cursor: pointer;\n",
              "      display: none;\n",
              "      fill: #1967D2;\n",
              "      height: 32px;\n",
              "      padding: 0 0 0 0;\n",
              "      width: 32px;\n",
              "    }\n",
              "\n",
              "    .colab-df-convert:hover {\n",
              "      background-color: #E2EBFA;\n",
              "      box-shadow: 0px 1px 2px rgba(60, 64, 67, 0.3), 0px 1px 3px 1px rgba(60, 64, 67, 0.15);\n",
              "      fill: #174EA6;\n",
              "    }\n",
              "\n",
              "    [theme=dark] .colab-df-convert {\n",
              "      background-color: #3B4455;\n",
              "      fill: #D2E3FC;\n",
              "    }\n",
              "\n",
              "    [theme=dark] .colab-df-convert:hover {\n",
              "      background-color: #434B5C;\n",
              "      box-shadow: 0px 1px 3px 1px rgba(0, 0, 0, 0.15);\n",
              "      filter: drop-shadow(0px 1px 2px rgba(0, 0, 0, 0.3));\n",
              "      fill: #FFFFFF;\n",
              "    }\n",
              "  </style>\n",
              "\n",
              "      <script>\n",
              "        const buttonEl =\n",
              "          document.querySelector('#df-e35fa46c-d554-46ad-a6ec-6aa260df8951 button.colab-df-convert');\n",
              "        buttonEl.style.display =\n",
              "          google.colab.kernel.accessAllowed ? 'block' : 'none';\n",
              "\n",
              "        async function convertToInteractive(key) {\n",
              "          const element = document.querySelector('#df-e35fa46c-d554-46ad-a6ec-6aa260df8951');\n",
              "          const dataTable =\n",
              "            await google.colab.kernel.invokeFunction('convertToInteractive',\n",
              "                                                     [key], {});\n",
              "          if (!dataTable) return;\n",
              "\n",
              "          const docLinkHtml = 'Like what you see? Visit the ' +\n",
              "            '<a target=\"_blank\" href=https://colab.research.google.com/notebooks/data_table.ipynb>data table notebook</a>'\n",
              "            + ' to learn more about interactive tables.';\n",
              "          element.innerHTML = '';\n",
              "          dataTable['output_type'] = 'display_data';\n",
              "          await google.colab.output.renderOutput(dataTable, element);\n",
              "          const docLink = document.createElement('div');\n",
              "          docLink.innerHTML = docLinkHtml;\n",
              "          element.appendChild(docLink);\n",
              "        }\n",
              "      </script>\n",
              "    </div>\n",
              "  </div>\n",
              "  "
            ]
          },
          "metadata": {},
          "execution_count": 7
        }
      ]
    },
    {
      "cell_type": "markdown",
      "source": [
        "###**Taking out Unecessary columns**"
      ],
      "metadata": {
        "id": "slKWEHSwEOZC"
      }
    },
    {
      "cell_type": "code",
      "source": [
        "#The 'ID' column is not relevant to our target, therefore we will get rid if it\n",
        "cid.drop('ID', axis=1, inplace=True)"
      ],
      "metadata": {
        "id": "zEU8n_ZIEc4T"
      },
      "execution_count": 8,
      "outputs": []
    },
    {
      "cell_type": "markdown",
      "source": [
        "###**Dropping Duplicate Rows**"
      ],
      "metadata": {
        "id": "JaIe1w_FFXWK"
      }
    },
    {
      "cell_type": "code",
      "source": [
        "# Display the number of duplicate rows in the dataset\n",
        "print(f'There are {cid.duplicated().sum()} duplicate rows.')"
      ],
      "metadata": {
        "colab": {
          "base_uri": "https://localhost:8080/"
        },
        "id": "cVJohpW2FcyD",
        "outputId": "0cdba7a3-81b4-4ff7-9449-0ef64fca4f6c"
      },
      "execution_count": 9,
      "outputs": [
        {
          "output_type": "stream",
          "name": "stdout",
          "text": [
            "There are 12 duplicate rows.\n"
          ]
        }
      ]
    },
    {
      "cell_type": "code",
      "source": [
        "#Dropping duplicated Rows\n",
        "cid = cid.drop_duplicates()"
      ],
      "metadata": {
        "id": "HtCSsPXXF5iB"
      },
      "execution_count": 10,
      "outputs": []
    },
    {
      "cell_type": "code",
      "source": [
        "# Comfirming there are no more duplicates \n",
        "print(f'There are {df.duplicated().sum()} duplicate rows.')"
      ],
      "metadata": {
        "colab": {
          "base_uri": "https://localhost:8080/"
        },
        "id": "97V28qgTGMEA",
        "outputId": "2907285f-b6ce-4c54-f81c-d86993c445ff"
      },
      "execution_count": 11,
      "outputs": [
        {
          "output_type": "stream",
          "name": "stdout",
          "text": [
            "There are 0 duplicate rows.\n"
          ]
        }
      ]
    },
    {
      "cell_type": "markdown",
      "source": [
        "##**Checking for Missing Values**"
      ],
      "metadata": {
        "id": "d9xtnQclHYRA"
      }
    },
    {
      "cell_type": "code",
      "source": [
        "#Checking for missing values\n",
        "cid[cid.isna().any(axis=1)].shape"
      ],
      "metadata": {
        "colab": {
          "base_uri": "https://localhost:8080/"
        },
        "id": "4rqHh8oNHcqy",
        "outputId": "8bb51155-b5f1-4b7f-e991-d85657afbcbb"
      },
      "execution_count": 12,
      "outputs": [
        {
          "output_type": "execute_result",
          "data": {
            "text/plain": [
              "(1839, 18)"
            ]
          },
          "metadata": {},
          "execution_count": 12
        }
      ]
    },
    {
      "cell_type": "code",
      "source": [
        "#Identifying the columns containing missing values\n",
        "cid.isna().sum()"
      ],
      "metadata": {
        "colab": {
          "base_uri": "https://localhost:8080/"
        },
        "id": "GKD7bPzUHnwo",
        "outputId": "f1a3c8c2-7e12-4cb5-83e3-b66f041f717c"
      },
      "execution_count": 13,
      "outputs": [
        {
          "output_type": "execute_result",
          "data": {
            "text/plain": [
              "AGE                      0\n",
              "GENDER                   0\n",
              "RACE                     0\n",
              "DRIVING_EXPERIENCE       0\n",
              "EDUCATION                0\n",
              "INCOME                   0\n",
              "CREDIT_SCORE           970\n",
              "VEHICLE_OWNERSHIP        0\n",
              "VEHICLE_YEAR             0\n",
              "MARRIED                  0\n",
              "CHILDREN                 0\n",
              "POSTAL_CODE              0\n",
              "ANNUAL_MILEAGE         954\n",
              "VEHICLE_TYPE             0\n",
              "SPEEDING_VIOLATIONS      0\n",
              "DUIS                     0\n",
              "PAST_ACCIDENTS           0\n",
              "OUTCOME                  0\n",
              "dtype: int64"
            ]
          },
          "metadata": {},
          "execution_count": 13
        }
      ]
    },
    {
      "cell_type": "markdown",
      "source": [
        "- These missing values can be imputed using a simple imputer strategy 'mean'"
      ],
      "metadata": {
        "id": "ru9n1BUcJFPR"
      }
    },
    {
      "cell_type": "code",
      "source": [
        "#Imputer\n",
        "imputer= SimpleImputer(strategy='mean')\n",
        "imputer"
      ],
      "metadata": {
        "colab": {
          "base_uri": "https://localhost:8080/",
          "height": 75
        },
        "id": "tmdsVdmHrnV9",
        "outputId": "050c4fb4-981f-4316-ca95-a908b4b7a299"
      },
      "execution_count": 14,
      "outputs": [
        {
          "output_type": "execute_result",
          "data": {
            "text/plain": [
              "SimpleImputer()"
            ],
            "text/html": [
              "<style>#sk-41358360-c73a-42c1-b8e7-ede36989398f {color: black;background-color: white;}#sk-41358360-c73a-42c1-b8e7-ede36989398f pre{padding: 0;}#sk-41358360-c73a-42c1-b8e7-ede36989398f div.sk-toggleable {background-color: white;}#sk-41358360-c73a-42c1-b8e7-ede36989398f label.sk-toggleable__label {cursor: pointer;display: block;width: 100%;margin-bottom: 0;padding: 0.3em;box-sizing: border-box;text-align: center;}#sk-41358360-c73a-42c1-b8e7-ede36989398f label.sk-toggleable__label-arrow:before {content: \"▸\";float: left;margin-right: 0.25em;color: #696969;}#sk-41358360-c73a-42c1-b8e7-ede36989398f label.sk-toggleable__label-arrow:hover:before {color: black;}#sk-41358360-c73a-42c1-b8e7-ede36989398f div.sk-estimator:hover label.sk-toggleable__label-arrow:before {color: black;}#sk-41358360-c73a-42c1-b8e7-ede36989398f div.sk-toggleable__content {max-height: 0;max-width: 0;overflow: hidden;text-align: left;background-color: #f0f8ff;}#sk-41358360-c73a-42c1-b8e7-ede36989398f div.sk-toggleable__content pre {margin: 0.2em;color: black;border-radius: 0.25em;background-color: #f0f8ff;}#sk-41358360-c73a-42c1-b8e7-ede36989398f input.sk-toggleable__control:checked~div.sk-toggleable__content {max-height: 200px;max-width: 100%;overflow: auto;}#sk-41358360-c73a-42c1-b8e7-ede36989398f input.sk-toggleable__control:checked~label.sk-toggleable__label-arrow:before {content: \"▾\";}#sk-41358360-c73a-42c1-b8e7-ede36989398f div.sk-estimator input.sk-toggleable__control:checked~label.sk-toggleable__label {background-color: #d4ebff;}#sk-41358360-c73a-42c1-b8e7-ede36989398f div.sk-label input.sk-toggleable__control:checked~label.sk-toggleable__label {background-color: #d4ebff;}#sk-41358360-c73a-42c1-b8e7-ede36989398f input.sk-hidden--visually {border: 0;clip: rect(1px 1px 1px 1px);clip: rect(1px, 1px, 1px, 1px);height: 1px;margin: -1px;overflow: hidden;padding: 0;position: absolute;width: 1px;}#sk-41358360-c73a-42c1-b8e7-ede36989398f div.sk-estimator {font-family: monospace;background-color: #f0f8ff;border: 1px dotted black;border-radius: 0.25em;box-sizing: border-box;margin-bottom: 0.5em;}#sk-41358360-c73a-42c1-b8e7-ede36989398f div.sk-estimator:hover {background-color: #d4ebff;}#sk-41358360-c73a-42c1-b8e7-ede36989398f div.sk-parallel-item::after {content: \"\";width: 100%;border-bottom: 1px solid gray;flex-grow: 1;}#sk-41358360-c73a-42c1-b8e7-ede36989398f div.sk-label:hover label.sk-toggleable__label {background-color: #d4ebff;}#sk-41358360-c73a-42c1-b8e7-ede36989398f div.sk-serial::before {content: \"\";position: absolute;border-left: 1px solid gray;box-sizing: border-box;top: 2em;bottom: 0;left: 50%;}#sk-41358360-c73a-42c1-b8e7-ede36989398f div.sk-serial {display: flex;flex-direction: column;align-items: center;background-color: white;padding-right: 0.2em;padding-left: 0.2em;}#sk-41358360-c73a-42c1-b8e7-ede36989398f div.sk-item {z-index: 1;}#sk-41358360-c73a-42c1-b8e7-ede36989398f div.sk-parallel {display: flex;align-items: stretch;justify-content: center;background-color: white;}#sk-41358360-c73a-42c1-b8e7-ede36989398f div.sk-parallel::before {content: \"\";position: absolute;border-left: 1px solid gray;box-sizing: border-box;top: 2em;bottom: 0;left: 50%;}#sk-41358360-c73a-42c1-b8e7-ede36989398f div.sk-parallel-item {display: flex;flex-direction: column;position: relative;background-color: white;}#sk-41358360-c73a-42c1-b8e7-ede36989398f div.sk-parallel-item:first-child::after {align-self: flex-end;width: 50%;}#sk-41358360-c73a-42c1-b8e7-ede36989398f div.sk-parallel-item:last-child::after {align-self: flex-start;width: 50%;}#sk-41358360-c73a-42c1-b8e7-ede36989398f div.sk-parallel-item:only-child::after {width: 0;}#sk-41358360-c73a-42c1-b8e7-ede36989398f div.sk-dashed-wrapped {border: 1px dashed gray;margin: 0 0.4em 0.5em 0.4em;box-sizing: border-box;padding-bottom: 0.4em;background-color: white;position: relative;}#sk-41358360-c73a-42c1-b8e7-ede36989398f div.sk-label label {font-family: monospace;font-weight: bold;background-color: white;display: inline-block;line-height: 1.2em;}#sk-41358360-c73a-42c1-b8e7-ede36989398f div.sk-label-container {position: relative;z-index: 2;text-align: center;}#sk-41358360-c73a-42c1-b8e7-ede36989398f div.sk-container {/* jupyter's `normalize.less` sets `[hidden] { display: none; }` but bootstrap.min.css set `[hidden] { display: none !important; }` so we also need the `!important` here to be able to override the default hidden behavior on the sphinx rendered scikit-learn.org. See: https://github.com/scikit-learn/scikit-learn/issues/21755 */display: inline-block !important;position: relative;}#sk-41358360-c73a-42c1-b8e7-ede36989398f div.sk-text-repr-fallback {display: none;}</style><div id=\"sk-41358360-c73a-42c1-b8e7-ede36989398f\" class=\"sk-top-container\"><div class=\"sk-text-repr-fallback\"><pre>SimpleImputer()</pre><b>Please rerun this cell to show the HTML repr or trust the notebook.</b></div><div class=\"sk-container\" hidden><div class=\"sk-item\"><div class=\"sk-estimator sk-toggleable\"><input class=\"sk-toggleable__control sk-hidden--visually\" id=\"8a7f2f9b-2b77-4ce1-b1bc-372c447df2ba\" type=\"checkbox\" checked><label for=\"8a7f2f9b-2b77-4ce1-b1bc-372c447df2ba\" class=\"sk-toggleable__label sk-toggleable__label-arrow\">SimpleImputer</label><div class=\"sk-toggleable__content\"><pre>SimpleImputer()</pre></div></div></div></div></div>"
            ]
          },
          "metadata": {},
          "execution_count": 14
        }
      ]
    },
    {
      "cell_type": "code",
      "source": [
        "cid.isna().sum()"
      ],
      "metadata": {
        "colab": {
          "base_uri": "https://localhost:8080/"
        },
        "id": "jpHZ4CVAFUdR",
        "outputId": "c3241581-55f0-4936-95a2-4d8f0c8a9b7c"
      },
      "execution_count": 15,
      "outputs": [
        {
          "output_type": "execute_result",
          "data": {
            "text/plain": [
              "AGE                      0\n",
              "GENDER                   0\n",
              "RACE                     0\n",
              "DRIVING_EXPERIENCE       0\n",
              "EDUCATION                0\n",
              "INCOME                   0\n",
              "CREDIT_SCORE           970\n",
              "VEHICLE_OWNERSHIP        0\n",
              "VEHICLE_YEAR             0\n",
              "MARRIED                  0\n",
              "CHILDREN                 0\n",
              "POSTAL_CODE              0\n",
              "ANNUAL_MILEAGE         954\n",
              "VEHICLE_TYPE             0\n",
              "SPEEDING_VIOLATIONS      0\n",
              "DUIS                     0\n",
              "PAST_ACCIDENTS           0\n",
              "OUTCOME                  0\n",
              "dtype: int64"
            ]
          },
          "metadata": {},
          "execution_count": 15
        }
      ]
    },
    {
      "cell_type": "markdown",
      "source": [
        "- Missing values have been addressed."
      ],
      "metadata": {
        "id": "dCXNr3viFYvk"
      }
    },
    {
      "cell_type": "markdown",
      "source": [
        "###**Checking Vaule Counts**"
      ],
      "metadata": {
        "id": "xBKp2JzaKLml"
      }
    },
    {
      "cell_type": "code",
      "source": [
        "for col in cid.columns:\n",
        "    print(cid[col].value_counts())"
      ],
      "metadata": {
        "colab": {
          "base_uri": "https://localhost:8080/"
        },
        "id": "k91eVAzrIv3t",
        "outputId": "d850adb8-df2f-43fd-d097-69b73a6ccebe"
      },
      "execution_count": 16,
      "outputs": [
        {
          "output_type": "stream",
          "name": "stdout",
          "text": [
            "26-39    3062\n",
            "40-64    2931\n",
            "16-25    2005\n",
            "65+      1990\n",
            "Name: AGE, dtype: int64\n",
            "female    5003\n",
            "male      4985\n",
            "Name: GENDER, dtype: int64\n",
            "majority    9000\n",
            "minority     988\n",
            "Name: RACE, dtype: int64\n",
            "0-9y      3519\n",
            "10-19y    3298\n",
            "20-29y    2119\n",
            "30y+      1052\n",
            "Name: DRIVING_EXPERIENCE, dtype: int64\n",
            "high school    4151\n",
            "university     3927\n",
            "none           1910\n",
            "Name: EDUCATION, dtype: int64\n",
            "upper class      4335\n",
            "middle class     2138\n",
            "poverty          1804\n",
            "working class    1711\n",
            "Name: INCOME, dtype: int64\n",
            "0.629027    1\n",
            "0.618094    1\n",
            "0.396540    1\n",
            "0.578306    1\n",
            "0.633275    1\n",
            "           ..\n",
            "0.309272    1\n",
            "0.847325    1\n",
            "0.432080    1\n",
            "0.527041    1\n",
            "0.435225    1\n",
            "Name: CREDIT_SCORE, Length: 9018, dtype: int64\n",
            "1    6967\n",
            "0    3021\n",
            "Name: VEHICLE_OWNERSHIP, dtype: int64\n",
            "before 2015    6955\n",
            "after 2015     3033\n",
            "Name: VEHICLE_YEAR, dtype: int64\n",
            "0    5007\n",
            "1    4981\n",
            "Name: MARRIED, dtype: int64\n",
            "1    6885\n",
            "0    3103\n",
            "Name: CHILDREN, dtype: int64\n",
            "10238    6929\n",
            "32765    2455\n",
            "92101     484\n",
            "21217     120\n",
            "Name: POSTAL_CODE, dtype: int64\n",
            "11000.0    1253\n",
            "12000.0    1218\n",
            "13000.0    1136\n",
            "10000.0    1071\n",
            "14000.0     891\n",
            "9000.0      855\n",
            "15000.0     630\n",
            "8000.0      557\n",
            "16000.0     418\n",
            "7000.0      322\n",
            "17000.0     245\n",
            "6000.0      165\n",
            "18000.0     103\n",
            "5000.0       65\n",
            "19000.0      48\n",
            "4000.0       27\n",
            "20000.0      13\n",
            "3000.0       10\n",
            "21000.0       3\n",
            "2000.0        2\n",
            "22000.0       2\n",
            "Name: ANNUAL_MILEAGE, dtype: int64\n",
            "sedan         9511\n",
            "sports car     477\n",
            "Name: VEHICLE_TYPE, dtype: int64\n",
            "0     5017\n",
            "1     1543\n",
            "2     1161\n",
            "3      830\n",
            "4      530\n",
            "5      319\n",
            "6      188\n",
            "7      140\n",
            "8       75\n",
            "10      50\n",
            "9       49\n",
            "11      30\n",
            "12      20\n",
            "13      12\n",
            "15       8\n",
            "14       5\n",
            "16       4\n",
            "17       3\n",
            "19       2\n",
            "18       1\n",
            "22       1\n",
            "Name: SPEEDING_VIOLATIONS, dtype: int64\n",
            "0    8106\n",
            "1    1470\n",
            "2     331\n",
            "3      68\n",
            "4      10\n",
            "5       2\n",
            "6       1\n",
            "Name: DUIS, dtype: int64\n",
            "0     5573\n",
            "1     1783\n",
            "2     1103\n",
            "3      646\n",
            "4      366\n",
            "5      232\n",
            "6      144\n",
            "7       61\n",
            "8       41\n",
            "9       19\n",
            "10       9\n",
            "11       7\n",
            "12       2\n",
            "14       1\n",
            "15       1\n",
            "Name: PAST_ACCIDENTS, dtype: int64\n",
            "0    6864\n",
            "1    3124\n",
            "Name: OUTCOME, dtype: int64\n"
          ]
        }
      ]
    },
    {
      "cell_type": "code",
      "source": [
        "value_counts = cid.apply(pd.value_counts).stack()"
      ],
      "metadata": {
        "id": "6Z3ymP67K4rd"
      },
      "execution_count": 17,
      "outputs": []
    },
    {
      "cell_type": "code",
      "source": [
        "cid.value_counts('CREDIT_SCORE')"
      ],
      "metadata": {
        "colab": {
          "base_uri": "https://localhost:8080/"
        },
        "id": "dorg9pVjMrAK",
        "outputId": "b087f250-faa3-4874-8e7d-71a732c65efc"
      },
      "execution_count": 18,
      "outputs": [
        {
          "output_type": "execute_result",
          "data": {
            "text/plain": [
              "CREDIT_SCORE\n",
              "0.053358    1\n",
              "0.586604    1\n",
              "0.586321    1\n",
              "0.586345    1\n",
              "0.586356    1\n",
              "           ..\n",
              "0.457110    1\n",
              "0.457073    1\n",
              "0.456999    1\n",
              "0.456883    1\n",
              "0.960819    1\n",
              "Length: 9018, dtype: int64"
            ]
          },
          "metadata": {},
          "execution_count": 18
        }
      ]
    },
    {
      "cell_type": "code",
      "source": [
        "cid['CREDIT_SCORE'] = cid['CREDIT_SCORE'] * 10**3"
      ],
      "metadata": {
        "id": "0qRNGh_ZNOj2"
      },
      "execution_count": 19,
      "outputs": []
    },
    {
      "cell_type": "code",
      "source": [
        "cid.value_counts('CREDIT_SCORE')"
      ],
      "metadata": {
        "colab": {
          "base_uri": "https://localhost:8080/"
        },
        "id": "VhOCKxFlNayt",
        "outputId": "32d9511f-4130-4118-cd1c-43b538141d09"
      },
      "execution_count": 20,
      "outputs": [
        {
          "output_type": "execute_result",
          "data": {
            "text/plain": [
              "CREDIT_SCORE\n",
              "53.357545     1\n",
              "586.603537    1\n",
              "586.320546    1\n",
              "586.344861    1\n",
              "586.355767    1\n",
              "             ..\n",
              "457.110218    1\n",
              "457.072833    1\n",
              "456.998546    1\n",
              "456.883465    1\n",
              "960.818828    1\n",
              "Length: 9018, dtype: int64"
            ]
          },
          "metadata": {},
          "execution_count": 20
        }
      ]
    },
    {
      "cell_type": "code",
      "source": [
        "X= cid.drop('OUTCOME', axis=1)\n",
        "y=cid['OUTCOME']"
      ],
      "metadata": {
        "id": "D2-CHe6Et4gz"
      },
      "execution_count": 21,
      "outputs": []
    },
    {
      "cell_type": "markdown",
      "source": [
        "##**Validation Split**"
      ],
      "metadata": {
        "id": "DTV6EEz_DTPo"
      }
    },
    {
      "cell_type": "code",
      "source": [
        "X_train, X_test, y_train, y_test = train_test_split(X, y, random_state= 42)"
      ],
      "metadata": {
        "id": "liIALOwbucxO"
      },
      "execution_count": 22,
      "outputs": []
    },
    {
      "cell_type": "code",
      "source": [
        "#OneHotEncoder\n",
        "ohe = OneHotEncoder(sparse= False, handle_unknown='ignore')"
      ],
      "metadata": {
        "id": "3rzty3GTDzNJ"
      },
      "execution_count": 23,
      "outputs": []
    },
    {
      "cell_type": "code",
      "source": [
        "#Standard Scaler\n",
        "scaler = StandardScaler()"
      ],
      "metadata": {
        "id": "hLQE8fJ_EDNS"
      },
      "execution_count": 24,
      "outputs": []
    },
    {
      "cell_type": "code",
      "source": [
        "#Instantiate the selectors \n",
        "num_selector = make_column_selector(dtype_include = 'number')\n",
        "cat_selector = make_column_selector(dtype_include = 'object')"
      ],
      "metadata": {
        "id": "XoSx0s75HJYt"
      },
      "execution_count": 25,
      "outputs": []
    },
    {
      "cell_type": "code",
      "source": [
        "#Forming pipelines\n",
        "num_pipe = make_pipeline(scaler, imputer)\n",
        "cat_pipe = make_pipeline(ohe)"
      ],
      "metadata": {
        "id": "PWgrvb5QHYb6"
      },
      "execution_count": 26,
      "outputs": []
    },
    {
      "cell_type": "code",
      "source": [
        "transformer1 = RandomForestClassifier()\n",
        "transformer1"
      ],
      "metadata": {
        "colab": {
          "base_uri": "https://localhost:8080/",
          "height": 75
        },
        "id": "HCO8SVcQd3fu",
        "outputId": "17ed9ea1-f0e0-4cc1-b5f4-221ad327b41d"
      },
      "execution_count": 27,
      "outputs": [
        {
          "output_type": "execute_result",
          "data": {
            "text/plain": [
              "RandomForestClassifier()"
            ],
            "text/html": [
              "<style>#sk-279d852e-efc1-4d6b-90be-9b571fb71a52 {color: black;background-color: white;}#sk-279d852e-efc1-4d6b-90be-9b571fb71a52 pre{padding: 0;}#sk-279d852e-efc1-4d6b-90be-9b571fb71a52 div.sk-toggleable {background-color: white;}#sk-279d852e-efc1-4d6b-90be-9b571fb71a52 label.sk-toggleable__label {cursor: pointer;display: block;width: 100%;margin-bottom: 0;padding: 0.3em;box-sizing: border-box;text-align: center;}#sk-279d852e-efc1-4d6b-90be-9b571fb71a52 label.sk-toggleable__label-arrow:before {content: \"▸\";float: left;margin-right: 0.25em;color: #696969;}#sk-279d852e-efc1-4d6b-90be-9b571fb71a52 label.sk-toggleable__label-arrow:hover:before {color: black;}#sk-279d852e-efc1-4d6b-90be-9b571fb71a52 div.sk-estimator:hover label.sk-toggleable__label-arrow:before {color: black;}#sk-279d852e-efc1-4d6b-90be-9b571fb71a52 div.sk-toggleable__content {max-height: 0;max-width: 0;overflow: hidden;text-align: left;background-color: #f0f8ff;}#sk-279d852e-efc1-4d6b-90be-9b571fb71a52 div.sk-toggleable__content pre {margin: 0.2em;color: black;border-radius: 0.25em;background-color: #f0f8ff;}#sk-279d852e-efc1-4d6b-90be-9b571fb71a52 input.sk-toggleable__control:checked~div.sk-toggleable__content {max-height: 200px;max-width: 100%;overflow: auto;}#sk-279d852e-efc1-4d6b-90be-9b571fb71a52 input.sk-toggleable__control:checked~label.sk-toggleable__label-arrow:before {content: \"▾\";}#sk-279d852e-efc1-4d6b-90be-9b571fb71a52 div.sk-estimator input.sk-toggleable__control:checked~label.sk-toggleable__label {background-color: #d4ebff;}#sk-279d852e-efc1-4d6b-90be-9b571fb71a52 div.sk-label input.sk-toggleable__control:checked~label.sk-toggleable__label {background-color: #d4ebff;}#sk-279d852e-efc1-4d6b-90be-9b571fb71a52 input.sk-hidden--visually {border: 0;clip: rect(1px 1px 1px 1px);clip: rect(1px, 1px, 1px, 1px);height: 1px;margin: -1px;overflow: hidden;padding: 0;position: absolute;width: 1px;}#sk-279d852e-efc1-4d6b-90be-9b571fb71a52 div.sk-estimator {font-family: monospace;background-color: #f0f8ff;border: 1px dotted black;border-radius: 0.25em;box-sizing: border-box;margin-bottom: 0.5em;}#sk-279d852e-efc1-4d6b-90be-9b571fb71a52 div.sk-estimator:hover {background-color: #d4ebff;}#sk-279d852e-efc1-4d6b-90be-9b571fb71a52 div.sk-parallel-item::after {content: \"\";width: 100%;border-bottom: 1px solid gray;flex-grow: 1;}#sk-279d852e-efc1-4d6b-90be-9b571fb71a52 div.sk-label:hover label.sk-toggleable__label {background-color: #d4ebff;}#sk-279d852e-efc1-4d6b-90be-9b571fb71a52 div.sk-serial::before {content: \"\";position: absolute;border-left: 1px solid gray;box-sizing: border-box;top: 2em;bottom: 0;left: 50%;}#sk-279d852e-efc1-4d6b-90be-9b571fb71a52 div.sk-serial {display: flex;flex-direction: column;align-items: center;background-color: white;padding-right: 0.2em;padding-left: 0.2em;}#sk-279d852e-efc1-4d6b-90be-9b571fb71a52 div.sk-item {z-index: 1;}#sk-279d852e-efc1-4d6b-90be-9b571fb71a52 div.sk-parallel {display: flex;align-items: stretch;justify-content: center;background-color: white;}#sk-279d852e-efc1-4d6b-90be-9b571fb71a52 div.sk-parallel::before {content: \"\";position: absolute;border-left: 1px solid gray;box-sizing: border-box;top: 2em;bottom: 0;left: 50%;}#sk-279d852e-efc1-4d6b-90be-9b571fb71a52 div.sk-parallel-item {display: flex;flex-direction: column;position: relative;background-color: white;}#sk-279d852e-efc1-4d6b-90be-9b571fb71a52 div.sk-parallel-item:first-child::after {align-self: flex-end;width: 50%;}#sk-279d852e-efc1-4d6b-90be-9b571fb71a52 div.sk-parallel-item:last-child::after {align-self: flex-start;width: 50%;}#sk-279d852e-efc1-4d6b-90be-9b571fb71a52 div.sk-parallel-item:only-child::after {width: 0;}#sk-279d852e-efc1-4d6b-90be-9b571fb71a52 div.sk-dashed-wrapped {border: 1px dashed gray;margin: 0 0.4em 0.5em 0.4em;box-sizing: border-box;padding-bottom: 0.4em;background-color: white;position: relative;}#sk-279d852e-efc1-4d6b-90be-9b571fb71a52 div.sk-label label {font-family: monospace;font-weight: bold;background-color: white;display: inline-block;line-height: 1.2em;}#sk-279d852e-efc1-4d6b-90be-9b571fb71a52 div.sk-label-container {position: relative;z-index: 2;text-align: center;}#sk-279d852e-efc1-4d6b-90be-9b571fb71a52 div.sk-container {/* jupyter's `normalize.less` sets `[hidden] { display: none; }` but bootstrap.min.css set `[hidden] { display: none !important; }` so we also need the `!important` here to be able to override the default hidden behavior on the sphinx rendered scikit-learn.org. See: https://github.com/scikit-learn/scikit-learn/issues/21755 */display: inline-block !important;position: relative;}#sk-279d852e-efc1-4d6b-90be-9b571fb71a52 div.sk-text-repr-fallback {display: none;}</style><div id=\"sk-279d852e-efc1-4d6b-90be-9b571fb71a52\" class=\"sk-top-container\"><div class=\"sk-text-repr-fallback\"><pre>RandomForestClassifier()</pre><b>Please rerun this cell to show the HTML repr or trust the notebook.</b></div><div class=\"sk-container\" hidden><div class=\"sk-item\"><div class=\"sk-estimator sk-toggleable\"><input class=\"sk-toggleable__control sk-hidden--visually\" id=\"1bc01520-73ef-4638-a62a-debe6ff90ddd\" type=\"checkbox\" checked><label for=\"1bc01520-73ef-4638-a62a-debe6ff90ddd\" class=\"sk-toggleable__label sk-toggleable__label-arrow\">RandomForestClassifier</label><div class=\"sk-toggleable__content\"><pre>RandomForestClassifier()</pre></div></div></div></div></div>"
            ]
          },
          "metadata": {},
          "execution_count": 27
        }
      ]
    },
    {
      "cell_type": "code",
      "source": [
        "#Create Tuples\n",
        "num_tuple = (num_pipe, num_selector)\n",
        "cat_tuple = (cat_pipe, cat_selector)"
      ],
      "metadata": {
        "id": "rHmH3FQ-IAT1"
      },
      "execution_count": 28,
      "outputs": []
    },
    {
      "cell_type": "code",
      "source": [
        "#Instantiate preprocessor Transformers\n",
        "preprocessor = make_column_transformer(num_tuple, cat_tuple, remainder='passthrough')\n",
        "preprocessor"
      ],
      "metadata": {
        "colab": {
          "base_uri": "https://localhost:8080/",
          "height": 152
        },
        "id": "C2vZYxXhIC9I",
        "outputId": "030d2700-e1f3-4e2c-b37c-656ea6b50851"
      },
      "execution_count": 29,
      "outputs": [
        {
          "output_type": "execute_result",
          "data": {
            "text/plain": [
              "ColumnTransformer(remainder='passthrough',\n",
              "                  transformers=[('pipeline-1',\n",
              "                                 Pipeline(steps=[('standardscaler',\n",
              "                                                  StandardScaler()),\n",
              "                                                 ('simpleimputer',\n",
              "                                                  SimpleImputer())]),\n",
              "                                 <sklearn.compose._column_transformer.make_column_selector object at 0x7fee0ee43b20>),\n",
              "                                ('pipeline-2',\n",
              "                                 Pipeline(steps=[('onehotencoder',\n",
              "                                                  OneHotEncoder(handle_unknown='ignore',\n",
              "                                                                sparse=False))]),\n",
              "                                 <sklearn.compose._column_transformer.make_column_selector object at 0x7fee0ee43df0>)])"
            ],
            "text/html": [
              "<style>#sk-4c428bde-7df5-43a1-b9c2-329285586023 {color: black;background-color: white;}#sk-4c428bde-7df5-43a1-b9c2-329285586023 pre{padding: 0;}#sk-4c428bde-7df5-43a1-b9c2-329285586023 div.sk-toggleable {background-color: white;}#sk-4c428bde-7df5-43a1-b9c2-329285586023 label.sk-toggleable__label {cursor: pointer;display: block;width: 100%;margin-bottom: 0;padding: 0.3em;box-sizing: border-box;text-align: center;}#sk-4c428bde-7df5-43a1-b9c2-329285586023 label.sk-toggleable__label-arrow:before {content: \"▸\";float: left;margin-right: 0.25em;color: #696969;}#sk-4c428bde-7df5-43a1-b9c2-329285586023 label.sk-toggleable__label-arrow:hover:before {color: black;}#sk-4c428bde-7df5-43a1-b9c2-329285586023 div.sk-estimator:hover label.sk-toggleable__label-arrow:before {color: black;}#sk-4c428bde-7df5-43a1-b9c2-329285586023 div.sk-toggleable__content {max-height: 0;max-width: 0;overflow: hidden;text-align: left;background-color: #f0f8ff;}#sk-4c428bde-7df5-43a1-b9c2-329285586023 div.sk-toggleable__content pre {margin: 0.2em;color: black;border-radius: 0.25em;background-color: #f0f8ff;}#sk-4c428bde-7df5-43a1-b9c2-329285586023 input.sk-toggleable__control:checked~div.sk-toggleable__content {max-height: 200px;max-width: 100%;overflow: auto;}#sk-4c428bde-7df5-43a1-b9c2-329285586023 input.sk-toggleable__control:checked~label.sk-toggleable__label-arrow:before {content: \"▾\";}#sk-4c428bde-7df5-43a1-b9c2-329285586023 div.sk-estimator input.sk-toggleable__control:checked~label.sk-toggleable__label {background-color: #d4ebff;}#sk-4c428bde-7df5-43a1-b9c2-329285586023 div.sk-label input.sk-toggleable__control:checked~label.sk-toggleable__label {background-color: #d4ebff;}#sk-4c428bde-7df5-43a1-b9c2-329285586023 input.sk-hidden--visually {border: 0;clip: rect(1px 1px 1px 1px);clip: rect(1px, 1px, 1px, 1px);height: 1px;margin: -1px;overflow: hidden;padding: 0;position: absolute;width: 1px;}#sk-4c428bde-7df5-43a1-b9c2-329285586023 div.sk-estimator {font-family: monospace;background-color: #f0f8ff;border: 1px dotted black;border-radius: 0.25em;box-sizing: border-box;margin-bottom: 0.5em;}#sk-4c428bde-7df5-43a1-b9c2-329285586023 div.sk-estimator:hover {background-color: #d4ebff;}#sk-4c428bde-7df5-43a1-b9c2-329285586023 div.sk-parallel-item::after {content: \"\";width: 100%;border-bottom: 1px solid gray;flex-grow: 1;}#sk-4c428bde-7df5-43a1-b9c2-329285586023 div.sk-label:hover label.sk-toggleable__label {background-color: #d4ebff;}#sk-4c428bde-7df5-43a1-b9c2-329285586023 div.sk-serial::before {content: \"\";position: absolute;border-left: 1px solid gray;box-sizing: border-box;top: 2em;bottom: 0;left: 50%;}#sk-4c428bde-7df5-43a1-b9c2-329285586023 div.sk-serial {display: flex;flex-direction: column;align-items: center;background-color: white;padding-right: 0.2em;padding-left: 0.2em;}#sk-4c428bde-7df5-43a1-b9c2-329285586023 div.sk-item {z-index: 1;}#sk-4c428bde-7df5-43a1-b9c2-329285586023 div.sk-parallel {display: flex;align-items: stretch;justify-content: center;background-color: white;}#sk-4c428bde-7df5-43a1-b9c2-329285586023 div.sk-parallel::before {content: \"\";position: absolute;border-left: 1px solid gray;box-sizing: border-box;top: 2em;bottom: 0;left: 50%;}#sk-4c428bde-7df5-43a1-b9c2-329285586023 div.sk-parallel-item {display: flex;flex-direction: column;position: relative;background-color: white;}#sk-4c428bde-7df5-43a1-b9c2-329285586023 div.sk-parallel-item:first-child::after {align-self: flex-end;width: 50%;}#sk-4c428bde-7df5-43a1-b9c2-329285586023 div.sk-parallel-item:last-child::after {align-self: flex-start;width: 50%;}#sk-4c428bde-7df5-43a1-b9c2-329285586023 div.sk-parallel-item:only-child::after {width: 0;}#sk-4c428bde-7df5-43a1-b9c2-329285586023 div.sk-dashed-wrapped {border: 1px dashed gray;margin: 0 0.4em 0.5em 0.4em;box-sizing: border-box;padding-bottom: 0.4em;background-color: white;position: relative;}#sk-4c428bde-7df5-43a1-b9c2-329285586023 div.sk-label label {font-family: monospace;font-weight: bold;background-color: white;display: inline-block;line-height: 1.2em;}#sk-4c428bde-7df5-43a1-b9c2-329285586023 div.sk-label-container {position: relative;z-index: 2;text-align: center;}#sk-4c428bde-7df5-43a1-b9c2-329285586023 div.sk-container {/* jupyter's `normalize.less` sets `[hidden] { display: none; }` but bootstrap.min.css set `[hidden] { display: none !important; }` so we also need the `!important` here to be able to override the default hidden behavior on the sphinx rendered scikit-learn.org. See: https://github.com/scikit-learn/scikit-learn/issues/21755 */display: inline-block !important;position: relative;}#sk-4c428bde-7df5-43a1-b9c2-329285586023 div.sk-text-repr-fallback {display: none;}</style><div id=\"sk-4c428bde-7df5-43a1-b9c2-329285586023\" class=\"sk-top-container\"><div class=\"sk-text-repr-fallback\"><pre>ColumnTransformer(remainder=&#x27;passthrough&#x27;,\n",
              "                  transformers=[(&#x27;pipeline-1&#x27;,\n",
              "                                 Pipeline(steps=[(&#x27;standardscaler&#x27;,\n",
              "                                                  StandardScaler()),\n",
              "                                                 (&#x27;simpleimputer&#x27;,\n",
              "                                                  SimpleImputer())]),\n",
              "                                 &lt;sklearn.compose._column_transformer.make_column_selector object at 0x7fee0ee43b20&gt;),\n",
              "                                (&#x27;pipeline-2&#x27;,\n",
              "                                 Pipeline(steps=[(&#x27;onehotencoder&#x27;,\n",
              "                                                  OneHotEncoder(handle_unknown=&#x27;ignore&#x27;,\n",
              "                                                                sparse=False))]),\n",
              "                                 &lt;sklearn.compose._column_transformer.make_column_selector object at 0x7fee0ee43df0&gt;)])</pre><b>Please rerun this cell to show the HTML repr or trust the notebook.</b></div><div class=\"sk-container\" hidden><div class=\"sk-item sk-dashed-wrapped\"><div class=\"sk-label-container\"><div class=\"sk-label sk-toggleable\"><input class=\"sk-toggleable__control sk-hidden--visually\" id=\"b9fb2953-9a7f-449d-9742-970ac2eb9b59\" type=\"checkbox\" ><label for=\"b9fb2953-9a7f-449d-9742-970ac2eb9b59\" class=\"sk-toggleable__label sk-toggleable__label-arrow\">ColumnTransformer</label><div class=\"sk-toggleable__content\"><pre>ColumnTransformer(remainder=&#x27;passthrough&#x27;,\n",
              "                  transformers=[(&#x27;pipeline-1&#x27;,\n",
              "                                 Pipeline(steps=[(&#x27;standardscaler&#x27;,\n",
              "                                                  StandardScaler()),\n",
              "                                                 (&#x27;simpleimputer&#x27;,\n",
              "                                                  SimpleImputer())]),\n",
              "                                 &lt;sklearn.compose._column_transformer.make_column_selector object at 0x7fee0ee43b20&gt;),\n",
              "                                (&#x27;pipeline-2&#x27;,\n",
              "                                 Pipeline(steps=[(&#x27;onehotencoder&#x27;,\n",
              "                                                  OneHotEncoder(handle_unknown=&#x27;ignore&#x27;,\n",
              "                                                                sparse=False))]),\n",
              "                                 &lt;sklearn.compose._column_transformer.make_column_selector object at 0x7fee0ee43df0&gt;)])</pre></div></div></div><div class=\"sk-parallel\"><div class=\"sk-parallel-item\"><div class=\"sk-item\"><div class=\"sk-label-container\"><div class=\"sk-label sk-toggleable\"><input class=\"sk-toggleable__control sk-hidden--visually\" id=\"a7d0859f-e35e-487e-8a62-626a7a2f8fab\" type=\"checkbox\" ><label for=\"a7d0859f-e35e-487e-8a62-626a7a2f8fab\" class=\"sk-toggleable__label sk-toggleable__label-arrow\">pipeline-1</label><div class=\"sk-toggleable__content\"><pre>&lt;sklearn.compose._column_transformer.make_column_selector object at 0x7fee0ee43b20&gt;</pre></div></div></div><div class=\"sk-serial\"><div class=\"sk-item\"><div class=\"sk-serial\"><div class=\"sk-item\"><div class=\"sk-estimator sk-toggleable\"><input class=\"sk-toggleable__control sk-hidden--visually\" id=\"5e104099-6009-403d-a29f-5c36f4f1986a\" type=\"checkbox\" ><label for=\"5e104099-6009-403d-a29f-5c36f4f1986a\" class=\"sk-toggleable__label sk-toggleable__label-arrow\">StandardScaler</label><div class=\"sk-toggleable__content\"><pre>StandardScaler()</pre></div></div></div><div class=\"sk-item\"><div class=\"sk-estimator sk-toggleable\"><input class=\"sk-toggleable__control sk-hidden--visually\" id=\"2843c111-8a83-4637-9d86-dafbac4fd973\" type=\"checkbox\" ><label for=\"2843c111-8a83-4637-9d86-dafbac4fd973\" class=\"sk-toggleable__label sk-toggleable__label-arrow\">SimpleImputer</label><div class=\"sk-toggleable__content\"><pre>SimpleImputer()</pre></div></div></div></div></div></div></div></div><div class=\"sk-parallel-item\"><div class=\"sk-item\"><div class=\"sk-label-container\"><div class=\"sk-label sk-toggleable\"><input class=\"sk-toggleable__control sk-hidden--visually\" id=\"444edfec-df7b-4be6-a844-d5a6026a0546\" type=\"checkbox\" ><label for=\"444edfec-df7b-4be6-a844-d5a6026a0546\" class=\"sk-toggleable__label sk-toggleable__label-arrow\">pipeline-2</label><div class=\"sk-toggleable__content\"><pre>&lt;sklearn.compose._column_transformer.make_column_selector object at 0x7fee0ee43df0&gt;</pre></div></div></div><div class=\"sk-serial\"><div class=\"sk-item\"><div class=\"sk-serial\"><div class=\"sk-item\"><div class=\"sk-estimator sk-toggleable\"><input class=\"sk-toggleable__control sk-hidden--visually\" id=\"0055525c-eeb9-4762-8b9a-0679f27420a9\" type=\"checkbox\" ><label for=\"0055525c-eeb9-4762-8b9a-0679f27420a9\" class=\"sk-toggleable__label sk-toggleable__label-arrow\">OneHotEncoder</label><div class=\"sk-toggleable__content\"><pre>OneHotEncoder(handle_unknown=&#x27;ignore&#x27;, sparse=False)</pre></div></div></div></div></div></div></div></div><div class=\"sk-parallel-item\"><div class=\"sk-item\"><div class=\"sk-label-container\"><div class=\"sk-label sk-toggleable\"><input class=\"sk-toggleable__control sk-hidden--visually\" id=\"c63db1b3-f1c2-4763-b8ce-c930f3154c74\" type=\"checkbox\" ><label for=\"c63db1b3-f1c2-4763-b8ce-c930f3154c74\" class=\"sk-toggleable__label sk-toggleable__label-arrow\">remainder</label><div class=\"sk-toggleable__content\"><pre></pre></div></div></div><div class=\"sk-serial\"><div class=\"sk-item\"><div class=\"sk-estimator sk-toggleable\"><input class=\"sk-toggleable__control sk-hidden--visually\" id=\"229f428f-f71b-48c4-b6bc-8d8840af8448\" type=\"checkbox\" ><label for=\"229f428f-f71b-48c4-b6bc-8d8840af8448\" class=\"sk-toggleable__label sk-toggleable__label-arrow\">passthrough</label><div class=\"sk-toggleable__content\"><pre>passthrough</pre></div></div></div></div></div></div></div></div></div></div>"
            ]
          },
          "metadata": {},
          "execution_count": 29
        }
      ]
    },
    {
      "cell_type": "code",
      "source": [
        "pipe = Pipeline([('preprocessor', preprocessor), ('transformer1', transformer1)])\n",
        "pipe"
      ],
      "metadata": {
        "colab": {
          "base_uri": "https://localhost:8080/",
          "height": 227
        },
        "id": "3REihqNzef2X",
        "outputId": "b2b2d9a3-eede-4642-b14d-5dfa3d8abb2b"
      },
      "execution_count": 30,
      "outputs": [
        {
          "output_type": "execute_result",
          "data": {
            "text/plain": [
              "Pipeline(steps=[('preprocessor',\n",
              "                 ColumnTransformer(remainder='passthrough',\n",
              "                                   transformers=[('pipeline-1',\n",
              "                                                  Pipeline(steps=[('standardscaler',\n",
              "                                                                   StandardScaler()),\n",
              "                                                                  ('simpleimputer',\n",
              "                                                                   SimpleImputer())]),\n",
              "                                                  <sklearn.compose._column_transformer.make_column_selector object at 0x7fee0ee43b20>),\n",
              "                                                 ('pipeline-2',\n",
              "                                                  Pipeline(steps=[('onehotencoder',\n",
              "                                                                   OneHotEncoder(handle_unknown='ignore',\n",
              "                                                                                 sparse=False))]),\n",
              "                                                  <sklearn.compose._column_transformer.make_column_selector object at 0x7fee0ee43df0>)])),\n",
              "                ('transformer1', RandomForestClassifier())])"
            ],
            "text/html": [
              "<style>#sk-dcffa71a-5d4c-4458-903d-59ac07bfe804 {color: black;background-color: white;}#sk-dcffa71a-5d4c-4458-903d-59ac07bfe804 pre{padding: 0;}#sk-dcffa71a-5d4c-4458-903d-59ac07bfe804 div.sk-toggleable {background-color: white;}#sk-dcffa71a-5d4c-4458-903d-59ac07bfe804 label.sk-toggleable__label {cursor: pointer;display: block;width: 100%;margin-bottom: 0;padding: 0.3em;box-sizing: border-box;text-align: center;}#sk-dcffa71a-5d4c-4458-903d-59ac07bfe804 label.sk-toggleable__label-arrow:before {content: \"▸\";float: left;margin-right: 0.25em;color: #696969;}#sk-dcffa71a-5d4c-4458-903d-59ac07bfe804 label.sk-toggleable__label-arrow:hover:before {color: black;}#sk-dcffa71a-5d4c-4458-903d-59ac07bfe804 div.sk-estimator:hover label.sk-toggleable__label-arrow:before {color: black;}#sk-dcffa71a-5d4c-4458-903d-59ac07bfe804 div.sk-toggleable__content {max-height: 0;max-width: 0;overflow: hidden;text-align: left;background-color: #f0f8ff;}#sk-dcffa71a-5d4c-4458-903d-59ac07bfe804 div.sk-toggleable__content pre {margin: 0.2em;color: black;border-radius: 0.25em;background-color: #f0f8ff;}#sk-dcffa71a-5d4c-4458-903d-59ac07bfe804 input.sk-toggleable__control:checked~div.sk-toggleable__content {max-height: 200px;max-width: 100%;overflow: auto;}#sk-dcffa71a-5d4c-4458-903d-59ac07bfe804 input.sk-toggleable__control:checked~label.sk-toggleable__label-arrow:before {content: \"▾\";}#sk-dcffa71a-5d4c-4458-903d-59ac07bfe804 div.sk-estimator input.sk-toggleable__control:checked~label.sk-toggleable__label {background-color: #d4ebff;}#sk-dcffa71a-5d4c-4458-903d-59ac07bfe804 div.sk-label input.sk-toggleable__control:checked~label.sk-toggleable__label {background-color: #d4ebff;}#sk-dcffa71a-5d4c-4458-903d-59ac07bfe804 input.sk-hidden--visually {border: 0;clip: rect(1px 1px 1px 1px);clip: rect(1px, 1px, 1px, 1px);height: 1px;margin: -1px;overflow: hidden;padding: 0;position: absolute;width: 1px;}#sk-dcffa71a-5d4c-4458-903d-59ac07bfe804 div.sk-estimator {font-family: monospace;background-color: #f0f8ff;border: 1px dotted black;border-radius: 0.25em;box-sizing: border-box;margin-bottom: 0.5em;}#sk-dcffa71a-5d4c-4458-903d-59ac07bfe804 div.sk-estimator:hover {background-color: #d4ebff;}#sk-dcffa71a-5d4c-4458-903d-59ac07bfe804 div.sk-parallel-item::after {content: \"\";width: 100%;border-bottom: 1px solid gray;flex-grow: 1;}#sk-dcffa71a-5d4c-4458-903d-59ac07bfe804 div.sk-label:hover label.sk-toggleable__label {background-color: #d4ebff;}#sk-dcffa71a-5d4c-4458-903d-59ac07bfe804 div.sk-serial::before {content: \"\";position: absolute;border-left: 1px solid gray;box-sizing: border-box;top: 2em;bottom: 0;left: 50%;}#sk-dcffa71a-5d4c-4458-903d-59ac07bfe804 div.sk-serial {display: flex;flex-direction: column;align-items: center;background-color: white;padding-right: 0.2em;padding-left: 0.2em;}#sk-dcffa71a-5d4c-4458-903d-59ac07bfe804 div.sk-item {z-index: 1;}#sk-dcffa71a-5d4c-4458-903d-59ac07bfe804 div.sk-parallel {display: flex;align-items: stretch;justify-content: center;background-color: white;}#sk-dcffa71a-5d4c-4458-903d-59ac07bfe804 div.sk-parallel::before {content: \"\";position: absolute;border-left: 1px solid gray;box-sizing: border-box;top: 2em;bottom: 0;left: 50%;}#sk-dcffa71a-5d4c-4458-903d-59ac07bfe804 div.sk-parallel-item {display: flex;flex-direction: column;position: relative;background-color: white;}#sk-dcffa71a-5d4c-4458-903d-59ac07bfe804 div.sk-parallel-item:first-child::after {align-self: flex-end;width: 50%;}#sk-dcffa71a-5d4c-4458-903d-59ac07bfe804 div.sk-parallel-item:last-child::after {align-self: flex-start;width: 50%;}#sk-dcffa71a-5d4c-4458-903d-59ac07bfe804 div.sk-parallel-item:only-child::after {width: 0;}#sk-dcffa71a-5d4c-4458-903d-59ac07bfe804 div.sk-dashed-wrapped {border: 1px dashed gray;margin: 0 0.4em 0.5em 0.4em;box-sizing: border-box;padding-bottom: 0.4em;background-color: white;position: relative;}#sk-dcffa71a-5d4c-4458-903d-59ac07bfe804 div.sk-label label {font-family: monospace;font-weight: bold;background-color: white;display: inline-block;line-height: 1.2em;}#sk-dcffa71a-5d4c-4458-903d-59ac07bfe804 div.sk-label-container {position: relative;z-index: 2;text-align: center;}#sk-dcffa71a-5d4c-4458-903d-59ac07bfe804 div.sk-container {/* jupyter's `normalize.less` sets `[hidden] { display: none; }` but bootstrap.min.css set `[hidden] { display: none !important; }` so we also need the `!important` here to be able to override the default hidden behavior on the sphinx rendered scikit-learn.org. See: https://github.com/scikit-learn/scikit-learn/issues/21755 */display: inline-block !important;position: relative;}#sk-dcffa71a-5d4c-4458-903d-59ac07bfe804 div.sk-text-repr-fallback {display: none;}</style><div id=\"sk-dcffa71a-5d4c-4458-903d-59ac07bfe804\" class=\"sk-top-container\"><div class=\"sk-text-repr-fallback\"><pre>Pipeline(steps=[(&#x27;preprocessor&#x27;,\n",
              "                 ColumnTransformer(remainder=&#x27;passthrough&#x27;,\n",
              "                                   transformers=[(&#x27;pipeline-1&#x27;,\n",
              "                                                  Pipeline(steps=[(&#x27;standardscaler&#x27;,\n",
              "                                                                   StandardScaler()),\n",
              "                                                                  (&#x27;simpleimputer&#x27;,\n",
              "                                                                   SimpleImputer())]),\n",
              "                                                  &lt;sklearn.compose._column_transformer.make_column_selector object at 0x7fee0ee43b20&gt;),\n",
              "                                                 (&#x27;pipeline-2&#x27;,\n",
              "                                                  Pipeline(steps=[(&#x27;onehotencoder&#x27;,\n",
              "                                                                   OneHotEncoder(handle_unknown=&#x27;ignore&#x27;,\n",
              "                                                                                 sparse=False))]),\n",
              "                                                  &lt;sklearn.compose._column_transformer.make_column_selector object at 0x7fee0ee43df0&gt;)])),\n",
              "                (&#x27;transformer1&#x27;, RandomForestClassifier())])</pre><b>Please rerun this cell to show the HTML repr or trust the notebook.</b></div><div class=\"sk-container\" hidden><div class=\"sk-item sk-dashed-wrapped\"><div class=\"sk-label-container\"><div class=\"sk-label sk-toggleable\"><input class=\"sk-toggleable__control sk-hidden--visually\" id=\"1d8909ef-a3e5-4388-911c-864ec4745355\" type=\"checkbox\" ><label for=\"1d8909ef-a3e5-4388-911c-864ec4745355\" class=\"sk-toggleable__label sk-toggleable__label-arrow\">Pipeline</label><div class=\"sk-toggleable__content\"><pre>Pipeline(steps=[(&#x27;preprocessor&#x27;,\n",
              "                 ColumnTransformer(remainder=&#x27;passthrough&#x27;,\n",
              "                                   transformers=[(&#x27;pipeline-1&#x27;,\n",
              "                                                  Pipeline(steps=[(&#x27;standardscaler&#x27;,\n",
              "                                                                   StandardScaler()),\n",
              "                                                                  (&#x27;simpleimputer&#x27;,\n",
              "                                                                   SimpleImputer())]),\n",
              "                                                  &lt;sklearn.compose._column_transformer.make_column_selector object at 0x7fee0ee43b20&gt;),\n",
              "                                                 (&#x27;pipeline-2&#x27;,\n",
              "                                                  Pipeline(steps=[(&#x27;onehotencoder&#x27;,\n",
              "                                                                   OneHotEncoder(handle_unknown=&#x27;ignore&#x27;,\n",
              "                                                                                 sparse=False))]),\n",
              "                                                  &lt;sklearn.compose._column_transformer.make_column_selector object at 0x7fee0ee43df0&gt;)])),\n",
              "                (&#x27;transformer1&#x27;, RandomForestClassifier())])</pre></div></div></div><div class=\"sk-serial\"><div class=\"sk-item sk-dashed-wrapped\"><div class=\"sk-label-container\"><div class=\"sk-label sk-toggleable\"><input class=\"sk-toggleable__control sk-hidden--visually\" id=\"8b4eb1ef-99de-43fa-bcb2-fb904726cc08\" type=\"checkbox\" ><label for=\"8b4eb1ef-99de-43fa-bcb2-fb904726cc08\" class=\"sk-toggleable__label sk-toggleable__label-arrow\">preprocessor: ColumnTransformer</label><div class=\"sk-toggleable__content\"><pre>ColumnTransformer(remainder=&#x27;passthrough&#x27;,\n",
              "                  transformers=[(&#x27;pipeline-1&#x27;,\n",
              "                                 Pipeline(steps=[(&#x27;standardscaler&#x27;,\n",
              "                                                  StandardScaler()),\n",
              "                                                 (&#x27;simpleimputer&#x27;,\n",
              "                                                  SimpleImputer())]),\n",
              "                                 &lt;sklearn.compose._column_transformer.make_column_selector object at 0x7fee0ee43b20&gt;),\n",
              "                                (&#x27;pipeline-2&#x27;,\n",
              "                                 Pipeline(steps=[(&#x27;onehotencoder&#x27;,\n",
              "                                                  OneHotEncoder(handle_unknown=&#x27;ignore&#x27;,\n",
              "                                                                sparse=False))]),\n",
              "                                 &lt;sklearn.compose._column_transformer.make_column_selector object at 0x7fee0ee43df0&gt;)])</pre></div></div></div><div class=\"sk-parallel\"><div class=\"sk-parallel-item\"><div class=\"sk-item\"><div class=\"sk-label-container\"><div class=\"sk-label sk-toggleable\"><input class=\"sk-toggleable__control sk-hidden--visually\" id=\"da164790-d51f-44ad-ab94-a80cd703dabb\" type=\"checkbox\" ><label for=\"da164790-d51f-44ad-ab94-a80cd703dabb\" class=\"sk-toggleable__label sk-toggleable__label-arrow\">pipeline-1</label><div class=\"sk-toggleable__content\"><pre>&lt;sklearn.compose._column_transformer.make_column_selector object at 0x7fee0ee43b20&gt;</pre></div></div></div><div class=\"sk-serial\"><div class=\"sk-item\"><div class=\"sk-serial\"><div class=\"sk-item\"><div class=\"sk-estimator sk-toggleable\"><input class=\"sk-toggleable__control sk-hidden--visually\" id=\"3f5d1e4e-941f-4738-b0d0-0e5cbab67e34\" type=\"checkbox\" ><label for=\"3f5d1e4e-941f-4738-b0d0-0e5cbab67e34\" class=\"sk-toggleable__label sk-toggleable__label-arrow\">StandardScaler</label><div class=\"sk-toggleable__content\"><pre>StandardScaler()</pre></div></div></div><div class=\"sk-item\"><div class=\"sk-estimator sk-toggleable\"><input class=\"sk-toggleable__control sk-hidden--visually\" id=\"f731ddd9-267a-48c7-bb56-8ace8c25c956\" type=\"checkbox\" ><label for=\"f731ddd9-267a-48c7-bb56-8ace8c25c956\" class=\"sk-toggleable__label sk-toggleable__label-arrow\">SimpleImputer</label><div class=\"sk-toggleable__content\"><pre>SimpleImputer()</pre></div></div></div></div></div></div></div></div><div class=\"sk-parallel-item\"><div class=\"sk-item\"><div class=\"sk-label-container\"><div class=\"sk-label sk-toggleable\"><input class=\"sk-toggleable__control sk-hidden--visually\" id=\"8a2c8273-627b-4e17-ba46-e544b0507bb3\" type=\"checkbox\" ><label for=\"8a2c8273-627b-4e17-ba46-e544b0507bb3\" class=\"sk-toggleable__label sk-toggleable__label-arrow\">pipeline-2</label><div class=\"sk-toggleable__content\"><pre>&lt;sklearn.compose._column_transformer.make_column_selector object at 0x7fee0ee43df0&gt;</pre></div></div></div><div class=\"sk-serial\"><div class=\"sk-item\"><div class=\"sk-serial\"><div class=\"sk-item\"><div class=\"sk-estimator sk-toggleable\"><input class=\"sk-toggleable__control sk-hidden--visually\" id=\"d9a1a93d-bf9f-441a-8ab8-6dfb6a0e9b2c\" type=\"checkbox\" ><label for=\"d9a1a93d-bf9f-441a-8ab8-6dfb6a0e9b2c\" class=\"sk-toggleable__label sk-toggleable__label-arrow\">OneHotEncoder</label><div class=\"sk-toggleable__content\"><pre>OneHotEncoder(handle_unknown=&#x27;ignore&#x27;, sparse=False)</pre></div></div></div></div></div></div></div></div><div class=\"sk-parallel-item\"><div class=\"sk-item\"><div class=\"sk-label-container\"><div class=\"sk-label sk-toggleable\"><input class=\"sk-toggleable__control sk-hidden--visually\" id=\"f95e52d5-75e6-461d-b3c1-15f1ce484c40\" type=\"checkbox\" ><label for=\"f95e52d5-75e6-461d-b3c1-15f1ce484c40\" class=\"sk-toggleable__label sk-toggleable__label-arrow\">remainder</label><div class=\"sk-toggleable__content\"><pre></pre></div></div></div><div class=\"sk-serial\"><div class=\"sk-item\"><div class=\"sk-estimator sk-toggleable\"><input class=\"sk-toggleable__control sk-hidden--visually\" id=\"777f762a-c8d4-428b-8d2f-ea8d5134c5be\" type=\"checkbox\" ><label for=\"777f762a-c8d4-428b-8d2f-ea8d5134c5be\" class=\"sk-toggleable__label sk-toggleable__label-arrow\">passthrough</label><div class=\"sk-toggleable__content\"><pre>passthrough</pre></div></div></div></div></div></div></div></div><div class=\"sk-item\"><div class=\"sk-estimator sk-toggleable\"><input class=\"sk-toggleable__control sk-hidden--visually\" id=\"96e642f1-eb91-4e76-a643-fdeb86b0321e\" type=\"checkbox\" ><label for=\"96e642f1-eb91-4e76-a643-fdeb86b0321e\" class=\"sk-toggleable__label sk-toggleable__label-arrow\">RandomForestClassifier</label><div class=\"sk-toggleable__content\"><pre>RandomForestClassifier()</pre></div></div></div></div></div></div></div>"
            ]
          },
          "metadata": {},
          "execution_count": 30
        }
      ]
    },
    {
      "cell_type": "code",
      "source": [
        "#Fit on the Train\n",
        "pipe.fit(X_train, y_train)"
      ],
      "metadata": {
        "colab": {
          "base_uri": "https://localhost:8080/",
          "height": 227
        },
        "id": "cDZURfnVIJdc",
        "outputId": "28ba2c44-1973-4c41-8935-3aa4006336b7"
      },
      "execution_count": 31,
      "outputs": [
        {
          "output_type": "execute_result",
          "data": {
            "text/plain": [
              "Pipeline(steps=[('preprocessor',\n",
              "                 ColumnTransformer(remainder='passthrough',\n",
              "                                   transformers=[('pipeline-1',\n",
              "                                                  Pipeline(steps=[('standardscaler',\n",
              "                                                                   StandardScaler()),\n",
              "                                                                  ('simpleimputer',\n",
              "                                                                   SimpleImputer())]),\n",
              "                                                  <sklearn.compose._column_transformer.make_column_selector object at 0x7fee0ee43b20>),\n",
              "                                                 ('pipeline-2',\n",
              "                                                  Pipeline(steps=[('onehotencoder',\n",
              "                                                                   OneHotEncoder(handle_unknown='ignore',\n",
              "                                                                                 sparse=False))]),\n",
              "                                                  <sklearn.compose._column_transformer.make_column_selector object at 0x7fee0ee43df0>)])),\n",
              "                ('transformer1', RandomForestClassifier())])"
            ],
            "text/html": [
              "<style>#sk-1e3a44c8-71f1-4850-8f32-c0ee6fc87018 {color: black;background-color: white;}#sk-1e3a44c8-71f1-4850-8f32-c0ee6fc87018 pre{padding: 0;}#sk-1e3a44c8-71f1-4850-8f32-c0ee6fc87018 div.sk-toggleable {background-color: white;}#sk-1e3a44c8-71f1-4850-8f32-c0ee6fc87018 label.sk-toggleable__label {cursor: pointer;display: block;width: 100%;margin-bottom: 0;padding: 0.3em;box-sizing: border-box;text-align: center;}#sk-1e3a44c8-71f1-4850-8f32-c0ee6fc87018 label.sk-toggleable__label-arrow:before {content: \"▸\";float: left;margin-right: 0.25em;color: #696969;}#sk-1e3a44c8-71f1-4850-8f32-c0ee6fc87018 label.sk-toggleable__label-arrow:hover:before {color: black;}#sk-1e3a44c8-71f1-4850-8f32-c0ee6fc87018 div.sk-estimator:hover label.sk-toggleable__label-arrow:before {color: black;}#sk-1e3a44c8-71f1-4850-8f32-c0ee6fc87018 div.sk-toggleable__content {max-height: 0;max-width: 0;overflow: hidden;text-align: left;background-color: #f0f8ff;}#sk-1e3a44c8-71f1-4850-8f32-c0ee6fc87018 div.sk-toggleable__content pre {margin: 0.2em;color: black;border-radius: 0.25em;background-color: #f0f8ff;}#sk-1e3a44c8-71f1-4850-8f32-c0ee6fc87018 input.sk-toggleable__control:checked~div.sk-toggleable__content {max-height: 200px;max-width: 100%;overflow: auto;}#sk-1e3a44c8-71f1-4850-8f32-c0ee6fc87018 input.sk-toggleable__control:checked~label.sk-toggleable__label-arrow:before {content: \"▾\";}#sk-1e3a44c8-71f1-4850-8f32-c0ee6fc87018 div.sk-estimator input.sk-toggleable__control:checked~label.sk-toggleable__label {background-color: #d4ebff;}#sk-1e3a44c8-71f1-4850-8f32-c0ee6fc87018 div.sk-label input.sk-toggleable__control:checked~label.sk-toggleable__label {background-color: #d4ebff;}#sk-1e3a44c8-71f1-4850-8f32-c0ee6fc87018 input.sk-hidden--visually {border: 0;clip: rect(1px 1px 1px 1px);clip: rect(1px, 1px, 1px, 1px);height: 1px;margin: -1px;overflow: hidden;padding: 0;position: absolute;width: 1px;}#sk-1e3a44c8-71f1-4850-8f32-c0ee6fc87018 div.sk-estimator {font-family: monospace;background-color: #f0f8ff;border: 1px dotted black;border-radius: 0.25em;box-sizing: border-box;margin-bottom: 0.5em;}#sk-1e3a44c8-71f1-4850-8f32-c0ee6fc87018 div.sk-estimator:hover {background-color: #d4ebff;}#sk-1e3a44c8-71f1-4850-8f32-c0ee6fc87018 div.sk-parallel-item::after {content: \"\";width: 100%;border-bottom: 1px solid gray;flex-grow: 1;}#sk-1e3a44c8-71f1-4850-8f32-c0ee6fc87018 div.sk-label:hover label.sk-toggleable__label {background-color: #d4ebff;}#sk-1e3a44c8-71f1-4850-8f32-c0ee6fc87018 div.sk-serial::before {content: \"\";position: absolute;border-left: 1px solid gray;box-sizing: border-box;top: 2em;bottom: 0;left: 50%;}#sk-1e3a44c8-71f1-4850-8f32-c0ee6fc87018 div.sk-serial {display: flex;flex-direction: column;align-items: center;background-color: white;padding-right: 0.2em;padding-left: 0.2em;}#sk-1e3a44c8-71f1-4850-8f32-c0ee6fc87018 div.sk-item {z-index: 1;}#sk-1e3a44c8-71f1-4850-8f32-c0ee6fc87018 div.sk-parallel {display: flex;align-items: stretch;justify-content: center;background-color: white;}#sk-1e3a44c8-71f1-4850-8f32-c0ee6fc87018 div.sk-parallel::before {content: \"\";position: absolute;border-left: 1px solid gray;box-sizing: border-box;top: 2em;bottom: 0;left: 50%;}#sk-1e3a44c8-71f1-4850-8f32-c0ee6fc87018 div.sk-parallel-item {display: flex;flex-direction: column;position: relative;background-color: white;}#sk-1e3a44c8-71f1-4850-8f32-c0ee6fc87018 div.sk-parallel-item:first-child::after {align-self: flex-end;width: 50%;}#sk-1e3a44c8-71f1-4850-8f32-c0ee6fc87018 div.sk-parallel-item:last-child::after {align-self: flex-start;width: 50%;}#sk-1e3a44c8-71f1-4850-8f32-c0ee6fc87018 div.sk-parallel-item:only-child::after {width: 0;}#sk-1e3a44c8-71f1-4850-8f32-c0ee6fc87018 div.sk-dashed-wrapped {border: 1px dashed gray;margin: 0 0.4em 0.5em 0.4em;box-sizing: border-box;padding-bottom: 0.4em;background-color: white;position: relative;}#sk-1e3a44c8-71f1-4850-8f32-c0ee6fc87018 div.sk-label label {font-family: monospace;font-weight: bold;background-color: white;display: inline-block;line-height: 1.2em;}#sk-1e3a44c8-71f1-4850-8f32-c0ee6fc87018 div.sk-label-container {position: relative;z-index: 2;text-align: center;}#sk-1e3a44c8-71f1-4850-8f32-c0ee6fc87018 div.sk-container {/* jupyter's `normalize.less` sets `[hidden] { display: none; }` but bootstrap.min.css set `[hidden] { display: none !important; }` so we also need the `!important` here to be able to override the default hidden behavior on the sphinx rendered scikit-learn.org. See: https://github.com/scikit-learn/scikit-learn/issues/21755 */display: inline-block !important;position: relative;}#sk-1e3a44c8-71f1-4850-8f32-c0ee6fc87018 div.sk-text-repr-fallback {display: none;}</style><div id=\"sk-1e3a44c8-71f1-4850-8f32-c0ee6fc87018\" class=\"sk-top-container\"><div class=\"sk-text-repr-fallback\"><pre>Pipeline(steps=[(&#x27;preprocessor&#x27;,\n",
              "                 ColumnTransformer(remainder=&#x27;passthrough&#x27;,\n",
              "                                   transformers=[(&#x27;pipeline-1&#x27;,\n",
              "                                                  Pipeline(steps=[(&#x27;standardscaler&#x27;,\n",
              "                                                                   StandardScaler()),\n",
              "                                                                  (&#x27;simpleimputer&#x27;,\n",
              "                                                                   SimpleImputer())]),\n",
              "                                                  &lt;sklearn.compose._column_transformer.make_column_selector object at 0x7fee0ee43b20&gt;),\n",
              "                                                 (&#x27;pipeline-2&#x27;,\n",
              "                                                  Pipeline(steps=[(&#x27;onehotencoder&#x27;,\n",
              "                                                                   OneHotEncoder(handle_unknown=&#x27;ignore&#x27;,\n",
              "                                                                                 sparse=False))]),\n",
              "                                                  &lt;sklearn.compose._column_transformer.make_column_selector object at 0x7fee0ee43df0&gt;)])),\n",
              "                (&#x27;transformer1&#x27;, RandomForestClassifier())])</pre><b>Please rerun this cell to show the HTML repr or trust the notebook.</b></div><div class=\"sk-container\" hidden><div class=\"sk-item sk-dashed-wrapped\"><div class=\"sk-label-container\"><div class=\"sk-label sk-toggleable\"><input class=\"sk-toggleable__control sk-hidden--visually\" id=\"cf8e3782-8e73-4adf-a70c-00d1e527b13c\" type=\"checkbox\" ><label for=\"cf8e3782-8e73-4adf-a70c-00d1e527b13c\" class=\"sk-toggleable__label sk-toggleable__label-arrow\">Pipeline</label><div class=\"sk-toggleable__content\"><pre>Pipeline(steps=[(&#x27;preprocessor&#x27;,\n",
              "                 ColumnTransformer(remainder=&#x27;passthrough&#x27;,\n",
              "                                   transformers=[(&#x27;pipeline-1&#x27;,\n",
              "                                                  Pipeline(steps=[(&#x27;standardscaler&#x27;,\n",
              "                                                                   StandardScaler()),\n",
              "                                                                  (&#x27;simpleimputer&#x27;,\n",
              "                                                                   SimpleImputer())]),\n",
              "                                                  &lt;sklearn.compose._column_transformer.make_column_selector object at 0x7fee0ee43b20&gt;),\n",
              "                                                 (&#x27;pipeline-2&#x27;,\n",
              "                                                  Pipeline(steps=[(&#x27;onehotencoder&#x27;,\n",
              "                                                                   OneHotEncoder(handle_unknown=&#x27;ignore&#x27;,\n",
              "                                                                                 sparse=False))]),\n",
              "                                                  &lt;sklearn.compose._column_transformer.make_column_selector object at 0x7fee0ee43df0&gt;)])),\n",
              "                (&#x27;transformer1&#x27;, RandomForestClassifier())])</pre></div></div></div><div class=\"sk-serial\"><div class=\"sk-item sk-dashed-wrapped\"><div class=\"sk-label-container\"><div class=\"sk-label sk-toggleable\"><input class=\"sk-toggleable__control sk-hidden--visually\" id=\"2526d6f9-d03b-4202-bf13-23c2e88e0230\" type=\"checkbox\" ><label for=\"2526d6f9-d03b-4202-bf13-23c2e88e0230\" class=\"sk-toggleable__label sk-toggleable__label-arrow\">preprocessor: ColumnTransformer</label><div class=\"sk-toggleable__content\"><pre>ColumnTransformer(remainder=&#x27;passthrough&#x27;,\n",
              "                  transformers=[(&#x27;pipeline-1&#x27;,\n",
              "                                 Pipeline(steps=[(&#x27;standardscaler&#x27;,\n",
              "                                                  StandardScaler()),\n",
              "                                                 (&#x27;simpleimputer&#x27;,\n",
              "                                                  SimpleImputer())]),\n",
              "                                 &lt;sklearn.compose._column_transformer.make_column_selector object at 0x7fee0ee43b20&gt;),\n",
              "                                (&#x27;pipeline-2&#x27;,\n",
              "                                 Pipeline(steps=[(&#x27;onehotencoder&#x27;,\n",
              "                                                  OneHotEncoder(handle_unknown=&#x27;ignore&#x27;,\n",
              "                                                                sparse=False))]),\n",
              "                                 &lt;sklearn.compose._column_transformer.make_column_selector object at 0x7fee0ee43df0&gt;)])</pre></div></div></div><div class=\"sk-parallel\"><div class=\"sk-parallel-item\"><div class=\"sk-item\"><div class=\"sk-label-container\"><div class=\"sk-label sk-toggleable\"><input class=\"sk-toggleable__control sk-hidden--visually\" id=\"6fa772ba-7e4f-4323-9bd8-620939c0af07\" type=\"checkbox\" ><label for=\"6fa772ba-7e4f-4323-9bd8-620939c0af07\" class=\"sk-toggleable__label sk-toggleable__label-arrow\">pipeline-1</label><div class=\"sk-toggleable__content\"><pre>&lt;sklearn.compose._column_transformer.make_column_selector object at 0x7fee0ee43b20&gt;</pre></div></div></div><div class=\"sk-serial\"><div class=\"sk-item\"><div class=\"sk-serial\"><div class=\"sk-item\"><div class=\"sk-estimator sk-toggleable\"><input class=\"sk-toggleable__control sk-hidden--visually\" id=\"3f5eed3f-b651-4939-a4e8-2ba000abcd68\" type=\"checkbox\" ><label for=\"3f5eed3f-b651-4939-a4e8-2ba000abcd68\" class=\"sk-toggleable__label sk-toggleable__label-arrow\">StandardScaler</label><div class=\"sk-toggleable__content\"><pre>StandardScaler()</pre></div></div></div><div class=\"sk-item\"><div class=\"sk-estimator sk-toggleable\"><input class=\"sk-toggleable__control sk-hidden--visually\" id=\"eb774a57-9d19-40f5-965b-5a26bb5099e3\" type=\"checkbox\" ><label for=\"eb774a57-9d19-40f5-965b-5a26bb5099e3\" class=\"sk-toggleable__label sk-toggleable__label-arrow\">SimpleImputer</label><div class=\"sk-toggleable__content\"><pre>SimpleImputer()</pre></div></div></div></div></div></div></div></div><div class=\"sk-parallel-item\"><div class=\"sk-item\"><div class=\"sk-label-container\"><div class=\"sk-label sk-toggleable\"><input class=\"sk-toggleable__control sk-hidden--visually\" id=\"1de9808c-6ccf-4fc4-87c3-5e60b0ced5f5\" type=\"checkbox\" ><label for=\"1de9808c-6ccf-4fc4-87c3-5e60b0ced5f5\" class=\"sk-toggleable__label sk-toggleable__label-arrow\">pipeline-2</label><div class=\"sk-toggleable__content\"><pre>&lt;sklearn.compose._column_transformer.make_column_selector object at 0x7fee0ee43df0&gt;</pre></div></div></div><div class=\"sk-serial\"><div class=\"sk-item\"><div class=\"sk-serial\"><div class=\"sk-item\"><div class=\"sk-estimator sk-toggleable\"><input class=\"sk-toggleable__control sk-hidden--visually\" id=\"9b7f51e0-45d7-4851-80a8-903228787476\" type=\"checkbox\" ><label for=\"9b7f51e0-45d7-4851-80a8-903228787476\" class=\"sk-toggleable__label sk-toggleable__label-arrow\">OneHotEncoder</label><div class=\"sk-toggleable__content\"><pre>OneHotEncoder(handle_unknown=&#x27;ignore&#x27;, sparse=False)</pre></div></div></div></div></div></div></div></div><div class=\"sk-parallel-item\"><div class=\"sk-item\"><div class=\"sk-label-container\"><div class=\"sk-label sk-toggleable\"><input class=\"sk-toggleable__control sk-hidden--visually\" id=\"68fe6d77-bc01-46b5-9288-1f57a2d7bab7\" type=\"checkbox\" ><label for=\"68fe6d77-bc01-46b5-9288-1f57a2d7bab7\" class=\"sk-toggleable__label sk-toggleable__label-arrow\">remainder</label><div class=\"sk-toggleable__content\"><pre>[]</pre></div></div></div><div class=\"sk-serial\"><div class=\"sk-item\"><div class=\"sk-estimator sk-toggleable\"><input class=\"sk-toggleable__control sk-hidden--visually\" id=\"c6875b51-6fad-4d4b-ada1-61b442e9d51c\" type=\"checkbox\" ><label for=\"c6875b51-6fad-4d4b-ada1-61b442e9d51c\" class=\"sk-toggleable__label sk-toggleable__label-arrow\">passthrough</label><div class=\"sk-toggleable__content\"><pre>passthrough</pre></div></div></div></div></div></div></div></div><div class=\"sk-item\"><div class=\"sk-estimator sk-toggleable\"><input class=\"sk-toggleable__control sk-hidden--visually\" id=\"ed40e894-d417-4065-8e7f-753be97ec97d\" type=\"checkbox\" ><label for=\"ed40e894-d417-4065-8e7f-753be97ec97d\" class=\"sk-toggleable__label sk-toggleable__label-arrow\">RandomForestClassifier</label><div class=\"sk-toggleable__content\"><pre>RandomForestClassifier()</pre></div></div></div></div></div></div></div>"
            ]
          },
          "metadata": {},
          "execution_count": 31
        }
      ]
    },
    {
      "cell_type": "code",
      "source": [
        "#Predictions\n",
        "y_pred = pipe.predict(X_test)\n",
        "y_pred"
      ],
      "metadata": {
        "colab": {
          "base_uri": "https://localhost:8080/"
        },
        "id": "99BL-TYnOM94",
        "outputId": "bca2f350-8bb4-4695-8a6e-c6e33e04ed40"
      },
      "execution_count": 32,
      "outputs": [
        {
          "output_type": "execute_result",
          "data": {
            "text/plain": [
              "array([0, 1, 0, ..., 0, 0, 0])"
            ]
          },
          "metadata": {},
          "execution_count": 32
        }
      ]
    },
    {
      "cell_type": "code",
      "source": [
        "#Accuracy score\n",
        "accuracy_score(y_test,y_pred)"
      ],
      "metadata": {
        "colab": {
          "base_uri": "https://localhost:8080/"
        },
        "id": "ofCvqY1dObI3",
        "outputId": "c470024d-b5e3-4d83-d776-5c5e91d0e488"
      },
      "execution_count": 33,
      "outputs": [
        {
          "output_type": "execute_result",
          "data": {
            "text/plain": [
              "0.8362034441329596"
            ]
          },
          "metadata": {},
          "execution_count": 33
        }
      ]
    },
    {
      "cell_type": "code",
      "source": [
        "#F1 Score\n",
        "f1_score(y_test,y_pred)"
      ],
      "metadata": {
        "colab": {
          "base_uri": "https://localhost:8080/"
        },
        "id": "Ii507UhWOf34",
        "outputId": "8cdb555a-7102-4ab3-8cc7-29168fd954c2"
      },
      "execution_count": 34,
      "outputs": [
        {
          "output_type": "execute_result",
          "data": {
            "text/plain": [
              "0.7256874580818243"
            ]
          },
          "metadata": {},
          "execution_count": 34
        }
      ]
    },
    {
      "cell_type": "code",
      "source": [],
      "metadata": {
        "id": "Sf4Etdrkb2YU"
      },
      "execution_count": 34,
      "outputs": []
    },
    {
      "cell_type": "markdown",
      "source": [
        "##**Univariate Visualizations of features**"
      ],
      "metadata": {
        "id": "eWUK9QLgOv7G"
      }
    },
    {
      "cell_type": "code",
      "source": [
        "sns.boxplot(data=cid, x='CREDIT_SCORE');"
      ],
      "metadata": {
        "colab": {
          "base_uri": "https://localhost:8080/",
          "height": 280
        },
        "id": "9OKJqVybPUZX",
        "outputId": "5ba8ce2b-0ed8-4b0f-92ba-237364149d3b"
      },
      "execution_count": 35,
      "outputs": [
        {
          "output_type": "display_data",
          "data": {
            "text/plain": [
              "<Figure size 432x288 with 1 Axes>"
            ],
            "image/png": "[encoded data removed]"
          },
          "metadata": {
            "needs_background": "light"
          }
        }
      ]
    },
    {
      "cell_type": "markdown",
      "source": [
        "- Above we see the median credit score is about 520"
      ],
      "metadata": {
        "id": "en20oKhtu-vp"
      }
    },
    {
      "cell_type": "code",
      "source": [
        "plt.figure(figsize=(20,10))\n",
        "plt.title('Number of Past Accidents')\n",
        "sns.countplot(data=cid, x ='PAST_ACCIDENTS');"
      ],
      "metadata": {
        "colab": {
          "base_uri": "https://localhost:8080/",
          "height": 622
        },
        "id": "PmsgVgWQwB6Q",
        "outputId": "23415062-0402-49d7-a1f6-c52be6529f68"
      },
      "execution_count": 36,
      "outputs": [
        {
          "output_type": "display_data",
          "data": {
            "text/plain": [
              "<Figure size 1440x720 with 1 Axes>"
            ],
            "image/png": "[encoded data removed]"
          },
          "metadata": {
            "needs_background": "light"
          }
        }
      ]
    },
    {
      "cell_type": "code",
      "source": [
        "plt.figure(figsize=(20,10))\n",
        "plt.title('DUI Count')\n",
        "sns.countplot(data=cid, x ='DUIS');"
      ],
      "metadata": {
        "colab": {
          "base_uri": "https://localhost:8080/",
          "height": 621
        },
        "id": "zxThuLDgv5Hi",
        "outputId": "8e76fd2d-9bc4-438c-cd38-79b49b666b95"
      },
      "execution_count": 37,
      "outputs": [
        {
          "output_type": "display_data",
          "data": {
            "text/plain": [
              "<Figure size 1440x720 with 1 Axes>"
            ],
            "image/png": "[encoded data removed]"
          },
          "metadata": {
            "needs_background": "light"
          }
        }
      ]
    },
    {
      "cell_type": "code",
      "source": [
        "plt.figure(figsize=(20,10))\n",
        "plt.title('Amount of Speeding Violations')\n",
        "sns.countplot(data=cid, x ='SPEEDING_VIOLATIONS');"
      ],
      "metadata": {
        "colab": {
          "base_uri": "https://localhost:8080/",
          "height": 622
        },
        "id": "MWSJFMIUvzOK",
        "outputId": "760491ce-33c8-4e13-89b6-518260645010"
      },
      "execution_count": 38,
      "outputs": [
        {
          "output_type": "display_data",
          "data": {
            "text/plain": [
              "<Figure size 1440x720 with 1 Axes>"
            ],
            "image/png": "[encoded data removed]"
          },
          "metadata": {
            "needs_background": "light"
          }
        }
      ]
    },
    {
      "cell_type": "code",
      "source": [
        "plt.figure(figsize=(20,10))\n",
        "plt.title('Vehicle Types')\n",
        "sns.countplot(data=cid, x ='VEHICLE_TYPE');"
      ],
      "metadata": {
        "colab": {
          "base_uri": "https://localhost:8080/",
          "height": 622
        },
        "id": "YzWFmd4lvnv1",
        "outputId": "c1f94293-712d-42a3-f934-843a1f5f764c"
      },
      "execution_count": 39,
      "outputs": [
        {
          "output_type": "display_data",
          "data": {
            "text/plain": [
              "<Figure size 1440x720 with 1 Axes>"
            ],
            "image/png": "[encoded data removed]"
          },
          "metadata": {
            "needs_background": "light"
          }
        }
      ]
    },
    {
      "cell_type": "code",
      "source": [
        "plt.figure(figsize=(20,10))\n",
        "plt.title('Annual Mileage Count')\n",
        "sns.countplot(data=cid, x ='ANNUAL_MILEAGE');"
      ],
      "metadata": {
        "colab": {
          "base_uri": "https://localhost:8080/",
          "height": 622
        },
        "id": "LXAk87B9vgpB",
        "outputId": "29bc1a88-8c76-41c5-8de2-81aa699aab78"
      },
      "execution_count": 40,
      "outputs": [
        {
          "output_type": "display_data",
          "data": {
            "text/plain": [
              "<Figure size 1440x720 with 1 Axes>"
            ],
            "image/png": "[encoded data removed]"
          },
          "metadata": {
            "needs_background": "light"
          }
        }
      ]
    },
    {
      "cell_type": "code",
      "source": [
        "plt.figure(figsize=(20,10))\n",
        "plt.title('Zipcode')\n",
        "sns.countplot(data=cid, x ='POSTAL_CODE');"
      ],
      "metadata": {
        "colab": {
          "base_uri": "https://localhost:8080/",
          "height": 622
        },
        "id": "cAxtu14surlH",
        "outputId": "ffb43c35-baec-4b84-eefa-9e1344b93603"
      },
      "execution_count": 41,
      "outputs": [
        {
          "output_type": "display_data",
          "data": {
            "text/plain": [
              "<Figure size 1440x720 with 1 Axes>"
            ],
            "image/png": "[encoded data removed]"
          },
          "metadata": {
            "needs_background": "light"
          }
        }
      ]
    },
    {
      "cell_type": "markdown",
      "source": [
        "This shows that the majority of the drivers came from the postal code 10238, and the smallest amount of our drivers came from 21217."
      ],
      "metadata": {
        "id": "dBkMXjRovAmB"
      }
    },
    {
      "cell_type": "code",
      "source": [
        "plt.figure(figsize=(20,10))\n",
        "plt.title('Drivers with Children')\n",
        "sns.countplot(data=cid, x ='CHILDREN');"
      ],
      "metadata": {
        "colab": {
          "base_uri": "https://localhost:8080/",
          "height": 621
        },
        "id": "twaYZZViubjl",
        "outputId": "d0b329e6-a920-43a7-8d4b-a545c50c0823"
      },
      "execution_count": 42,
      "outputs": [
        {
          "output_type": "display_data",
          "data": {
            "text/plain": [
              "<Figure size 1440x720 with 1 Axes>"
            ],
            "image/png": "[encoded data removed]"
          },
          "metadata": {
            "needs_background": "light"
          }
        }
      ]
    },
    {
      "cell_type": "code",
      "source": [
        "plt.figure(figsize=(20,10))\n",
        "plt.title('Married or Single')\n",
        "sns.countplot(data=cid, x ='MARRIED');"
      ],
      "metadata": {
        "colab": {
          "base_uri": "https://localhost:8080/",
          "height": 621
        },
        "id": "uIyHYcEXt7ct",
        "outputId": "640ba3b1-996f-465c-a5ae-739f1ff16973"
      },
      "execution_count": 43,
      "outputs": [
        {
          "output_type": "display_data",
          "data": {
            "text/plain": [
              "<Figure size 1440x720 with 1 Axes>"
            ],
            "image/png": "[encoded data removed]"
          },
          "metadata": {
            "needs_background": "light"
          }
        }
      ]
    },
    {
      "cell_type": "markdown",
      "source": [
        "- Our data is very close to being balanced as far as the marrage column."
      ],
      "metadata": {
        "id": "aSBwq664uSsl"
      }
    },
    {
      "cell_type": "code",
      "source": [
        "plt.figure(figsize=(20,10))\n",
        "plt.title('Vehicle Year before/after 2015')\n",
        "sns.countplot(data=cid, x ='VEHICLE_YEAR');"
      ],
      "metadata": {
        "colab": {
          "base_uri": "https://localhost:8080/",
          "height": 622
        },
        "id": "OVR0WPUgtizI",
        "outputId": "23913fd6-f19d-4e7d-f728-72dba7008fd1"
      },
      "execution_count": 44,
      "outputs": [
        {
          "output_type": "display_data",
          "data": {
            "text/plain": [
              "<Figure size 1440x720 with 1 Axes>"
            ],
            "image/png": "[encoded data removed]"
          },
          "metadata": {
            "needs_background": "light"
          }
        }
      ]
    },
    {
      "cell_type": "markdown",
      "source": [
        "- The majority of the vehicles in our data are from before 2015."
      ],
      "metadata": {
        "id": "Ikzd4zUmtzV_"
      }
    },
    {
      "cell_type": "code",
      "source": [
        "plt.figure(figsize=(20,10))\n",
        "plt.title('Vehicle Ownership')\n",
        "sns.countplot(data=cid, x ='VEHICLE_OWNERSHIP');"
      ],
      "metadata": {
        "colab": {
          "base_uri": "https://localhost:8080/",
          "height": 622
        },
        "id": "NcOHwXLjtBSS",
        "outputId": "a5682085-56fe-442d-bb10-3b9b45117064"
      },
      "execution_count": 45,
      "outputs": [
        {
          "output_type": "display_data",
          "data": {
            "text/plain": [
              "<Figure size 1440x720 with 1 Axes>"
            ],
            "image/png": "[encoded data removed]"
          },
          "metadata": {
            "needs_background": "light"
          }
        }
      ]
    },
    {
      "cell_type": "markdown",
      "source": [
        "- This shows us that the majority of people own their vehicle."
      ],
      "metadata": {
        "id": "wbFLKVP_tcPY"
      }
    },
    {
      "cell_type": "code",
      "source": [
        "plt.figure(figsize=(20,10))\n",
        "plt.title('Income Classes')\n",
        "sns.countplot(data=cid, x ='INCOME');"
      ],
      "metadata": {
        "colab": {
          "base_uri": "https://localhost:8080/",
          "height": 621
        },
        "id": "IZQqiFtGrd0q",
        "outputId": "07fdc5d6-543c-4785-94c4-0a8969226edc"
      },
      "execution_count": 46,
      "outputs": [
        {
          "output_type": "display_data",
          "data": {
            "text/plain": [
              "<Figure size 1440x720 with 1 Axes>"
            ],
            "image/png": "[encoded data removed]"
          },
          "metadata": {
            "needs_background": "light"
          }
        }
      ]
    },
    {
      "cell_type": "markdown",
      "source": [
        "- This shows us that the upper class is dominant but quite a large margin. \n",
        "- Working class and poverty are definately the smallest out of the four classes."
      ],
      "metadata": {
        "id": "UCKF6-j1sMPZ"
      }
    },
    {
      "cell_type": "code",
      "source": [
        "plt.figure(figsize=(20,10))\n",
        "plt.title('Level of Education')\n",
        "sns.countplot(data=cid, x ='EDUCATION');"
      ],
      "metadata": {
        "colab": {
          "base_uri": "https://localhost:8080/",
          "height": 621
        },
        "id": "ftPKNDxVqWgX",
        "outputId": "137afd27-685c-49f2-eee1-871bf4637ca5"
      },
      "execution_count": 47,
      "outputs": [
        {
          "output_type": "display_data",
          "data": {
            "text/plain": [
              "<Figure size 1440x720 with 1 Axes>"
            ],
            "image/png": "[encoded data removed]"
          },
          "metadata": {
            "needs_background": "light"
          }
        }
      ]
    },
    {
      "cell_type": "markdown",
      "source": [
        "- This shows us that most of the people in our data set have at least high school level education. There is only a small difference in the amount of people who have a high school education, and people who have a university level education."
      ],
      "metadata": {
        "id": "OHQ3qpNFqkWW"
      }
    },
    {
      "cell_type": "code",
      "source": [
        "plt.figure(figsize=(20,10))\n",
        "plt.title('Amount of Driving Experience')\n",
        "sns.countplot(data=cid, x ='DRIVING_EXPERIENCE');"
      ],
      "metadata": {
        "colab": {
          "base_uri": "https://localhost:8080/",
          "height": 622
        },
        "id": "ZIeODWoMpwQV",
        "outputId": "50f3644b-880c-4bcd-8296-6e54d89300fb"
      },
      "execution_count": 48,
      "outputs": [
        {
          "output_type": "display_data",
          "data": {
            "text/plain": [
              "<Figure size 1440x720 with 1 Axes>"
            ],
            "image/png": "[encoded data removed]"
          },
          "metadata": {
            "needs_background": "light"
          }
        }
      ]
    },
    {
      "cell_type": "markdown",
      "source": [
        "- This shows that the majority of people have less than 9 years driving experience. The smallest category of people had 30+ years of driving experience."
      ],
      "metadata": {
        "id": "YI9kMzeZp5a6"
      }
    },
    {
      "cell_type": "code",
      "source": [
        "plt.figure(figsize=(20,10))\n",
        "plt.title('Gender Counts')\n",
        "sns.countplot(data=cid, x ='GENDER');"
      ],
      "metadata": {
        "colab": {
          "base_uri": "https://localhost:8080/",
          "height": 621
        },
        "id": "CpUv8OlppMi7",
        "outputId": "4c080823-1ff9-4050-a583-1e8626110309"
      },
      "execution_count": 49,
      "outputs": [
        {
          "output_type": "display_data",
          "data": {
            "text/plain": [
              "<Figure size 1440x720 with 1 Axes>"
            ],
            "image/png": "[encoded data removed]"
          },
          "metadata": {
            "needs_background": "light"
          }
        }
      ]
    },
    {
      "cell_type": "markdown",
      "source": [
        "-Our data seems to be balanced as far as the amounts of males and females."
      ],
      "metadata": {
        "id": "i2ZQbnuVpWPq"
      }
    },
    {
      "cell_type": "code",
      "source": [
        "plt.figure(figsize=(20,10))\n",
        "plt.title('Age Count')\n",
        "sns.countplot(data=cid, x ='AGE');"
      ],
      "metadata": {
        "colab": {
          "base_uri": "https://localhost:8080/",
          "height": 621
        },
        "id": "tBZJGmQDo1Ss",
        "outputId": "e9a8428c-b3c1-4888-ae18-0080b1c513ea"
      },
      "execution_count": 50,
      "outputs": [
        {
          "output_type": "display_data",
          "data": {
            "text/plain": [
              "<Figure size 1440x720 with 1 Axes>"
            ],
            "image/png": "[encoded data removed]"
          },
          "metadata": {
            "needs_background": "light"
          }
        }
      ]
    },
    {
      "cell_type": "markdown",
      "source": [
        "-This shows us our biggest age group is 26-39, the two smallest groups are 16-25& 65+."
      ],
      "metadata": {
        "id": "pmJsColDo-7D"
      }
    },
    {
      "cell_type": "markdown",
      "source": [
        "##**Correlation Heatmap**"
      ],
      "metadata": {
        "id": "U0UdI5zz7DKk"
      }
    },
    {
      "cell_type": "code",
      "source": [
        "def correlation_heatmap(cid):\n",
        "    _ , ax = plt.subplots(figsize =(14, 12))\n",
        "    colormap = sns.diverging_palette(220, 10, as_cmap = True)\n",
        "    \n",
        "    _ = sns.heatmap(\n",
        "        df.corr(), \n",
        "        cmap = \"YlGn\",\n",
        "        square=True, \n",
        "        cbar_kws={'shrink':.9 }, \n",
        "        ax=ax,\n",
        "        annot=True, \n",
        "        linewidths=0.1,vmax=1.0, linecolor='white',\n",
        "        annot_kws={'fontsize':12 }\n",
        "    )\n",
        "    \n",
        "    plt.title('Person Correlation of Features', y=1.05, size=15)\n",
        "\n",
        "correlation_heatmap(cid)"
      ],
      "metadata": {
        "colab": {
          "base_uri": "https://localhost:8080/",
          "height": 796
        },
        "id": "TenyGIuyPimo",
        "outputId": "a67d69ae-79b3-4075-8a7a-76ee4546fe92"
      },
      "execution_count": 51,
      "outputs": [
        {
          "output_type": "display_data",
          "data": {
            "text/plain": [
              "<Figure size 1008x864 with 2 Axes>"
            ],
            "image/png": "[encoded data removed]"
          },
          "metadata": {
            "needs_background": "light"
          }
        }
      ]
    },
    {
      "cell_type": "markdown",
      "source": [
        "###**Multivariate Visualizations**"
      ],
      "metadata": {
        "id": "5pmwS5KsP7kE"
      }
    },
    {
      "cell_type": "markdown",
      "source": [],
      "metadata": {
        "id": "H6jpv6LT-Opi"
      }
    },
    {
      "cell_type": "code",
      "source": [
        "# Set the figure size\n",
        "plt.figure(figsize=(25, 10));\n",
        "#Make Barplot\n",
        "sns.barplot(\n",
        "    x=\"SPEEDING_VIOLATIONS\", \n",
        "    y=\"ANNUAL_MILEAGE\", \n",
        "    data=cid, \n",
        "    estimator=np.mean, \n",
        "    ci=None)\n",
        "# Add title and axis names\n",
        "plt.xticks(rotation=45, fontsize = 12, fontweight = 'bold', ha = 'right');\n",
        "plt.title('Annual Mileage for Speeding Violations',fontweight='bold', color = 'Black', fontsize='30', horizontalalignment='center');\n",
        "plt.xlabel('Speeding Violations',fontweight='bold', fontsize='17', horizontalalignment='right');\n",
        "plt.ylabel('Annual Mileage',fontweight='bold', fontsize='17', horizontalalignment='right');\n",
        "plt.show()"
      ],
      "metadata": {
        "colab": {
          "base_uri": "https://localhost:8080/",
          "height": 556
        },
        "id": "yyptK4PX9CBE",
        "outputId": "a471f411-f182-4e4d-8a67-41695d3184a9"
      },
      "execution_count": 52,
      "outputs": [
        {
          "output_type": "display_data",
          "data": {
            "text/plain": [
              "<Figure size 1800x720 with 1 Axes>"
            ],
            "image/png": "[encoded data removed]"
          },
          "metadata": {
            "needs_background": "light"
          }
        }
      ]
    },
    {
      "cell_type": "markdown",
      "source": [
        "- This is showing us the annual mileage of the different amount of speeding violations."
      ],
      "metadata": {
        "id": "50UkYCCrffDY"
      }
    },
    {
      "cell_type": "code",
      "source": [
        "sns.barplot(\n",
        "    x=\"INCOME\", \n",
        "    y=\"OUTCOME\",\n",
        "    data=cid,\n",
        "    estimator=np.mean, \n",
        "    ci=None);\n",
        "plt.xticks(rotation=45, fontsize = 12, fontweight = 'bold')\n",
        "plt.xlabel('Income',fontweight='bold', fontsize='15')\n",
        "plt.ylabel('Filed Claims percentage',fontweight='bold', fontsize='12')\n",
        "plt.title('Claims filed for different Income levels',fontweight='bold', color = 'Black', fontsize='30');"
      ],
      "metadata": {
        "colab": {
          "base_uri": "https://localhost:8080/",
          "height": 378
        },
        "id": "QXPG9ZqbgLg2",
        "outputId": "1e7ad3b5-25a0-40df-8b93-b33f9699b542"
      },
      "execution_count": 53,
      "outputs": [
        {
          "output_type": "display_data",
          "data": {
            "text/plain": [
              "<Figure size 432x288 with 1 Axes>"
            ],
            "image/png": "[encoded data removed]"
          },
          "metadata": {
            "needs_background": "light"
          }
        }
      ]
    },
    {
      "cell_type": "markdown",
      "source": [
        "- This shows the different percentage of people in each income class that filed a claim."
      ],
      "metadata": {
        "id": "oOKPs8KmjGgW"
      }
    },
    {
      "cell_type": "code",
      "source": [
        "sns.barplot(\n",
        "    x=\"INCOME\", \n",
        "    y=\"VEHICLE_OWNERSHIP\", \n",
        "    data=cid, \n",
        "    estimator=np.mean, \n",
        "    ci=None);\n",
        "plt.xticks(rotation=45, fontsize = 12, fontweight = 'bold');\n",
        "plt.title('Vehicle Ownsership of Income classes',fontweight='bold', color = 'Black', fontsize='26');\n",
        "plt.xlabel('Income Class',fontweight='bold', fontsize='17');\n",
        "plt.ylabel('Percentage of Ownership   ',fontweight='bold', fontsize='17');"
      ],
      "metadata": {
        "colab": {
          "base_uri": "https://localhost:8080/",
          "height": 378
        },
        "id": "EXgJWi0v7fvT",
        "outputId": "c35d81f7-9212-460f-b12b-427f0e8ce8ff"
      },
      "execution_count": 54,
      "outputs": [
        {
          "output_type": "display_data",
          "data": {
            "text/plain": [
              "<Figure size 432x288 with 1 Axes>"
            ],
            "image/png": "[encoded data removed]"
          },
          "metadata": {
            "needs_background": "light"
          }
        }
      ]
    },
    {
      "cell_type": "markdown",
      "source": [
        "- This shows us the percentage of people in each imcome class who own their own car.\n",
        "- The people who do not own their own car are most likely easing their vehicle.\n",
        "- The trend we are clearly able to see here is that the higher income class someone is in, the better chance there is that they own their own car."
      ],
      "metadata": {
        "id": "fjn9EPsBAAIC"
      }
    },
    {
      "cell_type": "code",
      "source": [
        "plt.figure(figsize=(20,10))\n",
        "plt.title('DUIS count colored by outcome')\n",
        "sns.countplot(data=cid, x='DUIS',hue='OUTCOME');"
      ],
      "metadata": {
        "colab": {
          "base_uri": "https://localhost:8080/",
          "height": 621
        },
        "id": "q-DzHseBeCbC",
        "outputId": "2fface0b-68b6-4513-93d1-a72c504f5c90"
      },
      "execution_count": 55,
      "outputs": [
        {
          "output_type": "display_data",
          "data": {
            "text/plain": [
              "<Figure size 1440x720 with 1 Axes>"
            ],
            "image/png": "[encoded data removed]"
          },
          "metadata": {
            "needs_background": "light"
          }
        }
      ]
    },
    {
      "cell_type": "markdown",
      "source": [
        "-This is the second visualization I'm choosing to show a trend occurring in the data.\n",
        "- This shows us the number of people who had Dui's for each possible outcome result(1 or 0)\n",
        "- There seems to be somewhat of a trend with the people who have no Dui's are more prone to make a claim on their insurance. This is most likely because the people who have at least one Dui went to jail and their insurance company more than likely dropped their coverage, or at the least they did not make a claim on their insurance because they don't offer coverage for people who are in an accident under the influence."
      ],
      "metadata": {
        "id": "OtnoIXz7eIbh"
      }
    },
    {
      "cell_type": "markdown",
      "source": [
        "##**Machine Learning Models**"
      ],
      "metadata": {
        "id": "coWUHieb97C0"
      }
    },
    {
      "cell_type": "markdown",
      "source": [
        "###**Logistic Regression Model**"
      ],
      "metadata": {
        "id": "EEzcTxXg9_Qd"
      }
    },
    {
      "cell_type": "code",
      "source": [
        "# Create a logistic regression object\n",
        "lr = LogisticRegression(random_state=42)"
      ],
      "metadata": {
        "id": "iPDhPgnj-DYt"
      },
      "execution_count": 56,
      "outputs": []
    },
    {
      "cell_type": "code",
      "source": [
        "#Make Logistic Regression Model\n",
        "lr_pipe= make_pipeline(preprocessor, lr)"
      ],
      "metadata": {
        "id": "ma9G2jesM-rj"
      },
      "execution_count": 57,
      "outputs": []
    },
    {
      "cell_type": "code",
      "source": [
        "#Fitting Logistic Regrerssion Model\n",
        "lr_pipe.fit(X_train, y_train)"
      ],
      "metadata": {
        "colab": {
          "base_uri": "https://localhost:8080/",
          "height": 227
        },
        "id": "zOWpnWgNgNdi",
        "outputId": "4f474031-5d32-4ab7-d5aa-bcc037a1d036"
      },
      "execution_count": 58,
      "outputs": [
        {
          "output_type": "execute_result",
          "data": {
            "text/plain": [
              "Pipeline(steps=[('columntransformer',\n",
              "                 ColumnTransformer(remainder='passthrough',\n",
              "                                   transformers=[('pipeline-1',\n",
              "                                                  Pipeline(steps=[('standardscaler',\n",
              "                                                                   StandardScaler()),\n",
              "                                                                  ('simpleimputer',\n",
              "                                                                   SimpleImputer())]),\n",
              "                                                  <sklearn.compose._column_transformer.make_column_selector object at 0x7fee0ee43b20>),\n",
              "                                                 ('pipeline-2',\n",
              "                                                  Pipeline(steps=[('onehotencoder',\n",
              "                                                                   OneHotEncoder(handle_unknown='ignore',\n",
              "                                                                                 sparse=False))]),\n",
              "                                                  <sklearn.compose._column_transformer.make_column_selector object at 0x7fee0ee43df0>)])),\n",
              "                ('logisticregression', LogisticRegression(random_state=42))])"
            ],
            "text/html": [
              "<style>#sk-f0f613e5-bec0-4e8d-818b-872ce856d8db {color: black;background-color: white;}#sk-f0f613e5-bec0-4e8d-818b-872ce856d8db pre{padding: 0;}#sk-f0f613e5-bec0-4e8d-818b-872ce856d8db div.sk-toggleable {background-color: white;}#sk-f0f613e5-bec0-4e8d-818b-872ce856d8db label.sk-toggleable__label {cursor: pointer;display: block;width: 100%;margin-bottom: 0;padding: 0.3em;box-sizing: border-box;text-align: center;}#sk-f0f613e5-bec0-4e8d-818b-872ce856d8db label.sk-toggleable__label-arrow:before {content: \"▸\";float: left;margin-right: 0.25em;color: #696969;}#sk-f0f613e5-bec0-4e8d-818b-872ce856d8db label.sk-toggleable__label-arrow:hover:before {color: black;}#sk-f0f613e5-bec0-4e8d-818b-872ce856d8db div.sk-estimator:hover label.sk-toggleable__label-arrow:before {color: black;}#sk-f0f613e5-bec0-4e8d-818b-872ce856d8db div.sk-toggleable__content {max-height: 0;max-width: 0;overflow: hidden;text-align: left;background-color: #f0f8ff;}#sk-f0f613e5-bec0-4e8d-818b-872ce856d8db div.sk-toggleable__content pre {margin: 0.2em;color: black;border-radius: 0.25em;background-color: #f0f8ff;}#sk-f0f613e5-bec0-4e8d-818b-872ce856d8db input.sk-toggleable__control:checked~div.sk-toggleable__content {max-height: 200px;max-width: 100%;overflow: auto;}#sk-f0f613e5-bec0-4e8d-818b-872ce856d8db input.sk-toggleable__control:checked~label.sk-toggleable__label-arrow:before {content: \"▾\";}#sk-f0f613e5-bec0-4e8d-818b-872ce856d8db div.sk-estimator input.sk-toggleable__control:checked~label.sk-toggleable__label {background-color: #d4ebff;}#sk-f0f613e5-bec0-4e8d-818b-872ce856d8db div.sk-label input.sk-toggleable__control:checked~label.sk-toggleable__label {background-color: #d4ebff;}#sk-f0f613e5-bec0-4e8d-818b-872ce856d8db input.sk-hidden--visually {border: 0;clip: rect(1px 1px 1px 1px);clip: rect(1px, 1px, 1px, 1px);height: 1px;margin: -1px;overflow: hidden;padding: 0;position: absolute;width: 1px;}#sk-f0f613e5-bec0-4e8d-818b-872ce856d8db div.sk-estimator {font-family: monospace;background-color: #f0f8ff;border: 1px dotted black;border-radius: 0.25em;box-sizing: border-box;margin-bottom: 0.5em;}#sk-f0f613e5-bec0-4e8d-818b-872ce856d8db div.sk-estimator:hover {background-color: #d4ebff;}#sk-f0f613e5-bec0-4e8d-818b-872ce856d8db div.sk-parallel-item::after {content: \"\";width: 100%;border-bottom: 1px solid gray;flex-grow: 1;}#sk-f0f613e5-bec0-4e8d-818b-872ce856d8db div.sk-label:hover label.sk-toggleable__label {background-color: #d4ebff;}#sk-f0f613e5-bec0-4e8d-818b-872ce856d8db div.sk-serial::before {content: \"\";position: absolute;border-left: 1px solid gray;box-sizing: border-box;top: 2em;bottom: 0;left: 50%;}#sk-f0f613e5-bec0-4e8d-818b-872ce856d8db div.sk-serial {display: flex;flex-direction: column;align-items: center;background-color: white;padding-right: 0.2em;padding-left: 0.2em;}#sk-f0f613e5-bec0-4e8d-818b-872ce856d8db div.sk-item {z-index: 1;}#sk-f0f613e5-bec0-4e8d-818b-872ce856d8db div.sk-parallel {display: flex;align-items: stretch;justify-content: center;background-color: white;}#sk-f0f613e5-bec0-4e8d-818b-872ce856d8db div.sk-parallel::before {content: \"\";position: absolute;border-left: 1px solid gray;box-sizing: border-box;top: 2em;bottom: 0;left: 50%;}#sk-f0f613e5-bec0-4e8d-818b-872ce856d8db div.sk-parallel-item {display: flex;flex-direction: column;position: relative;background-color: white;}#sk-f0f613e5-bec0-4e8d-818b-872ce856d8db div.sk-parallel-item:first-child::after {align-self: flex-end;width: 50%;}#sk-f0f613e5-bec0-4e8d-818b-872ce856d8db div.sk-parallel-item:last-child::after {align-self: flex-start;width: 50%;}#sk-f0f613e5-bec0-4e8d-818b-872ce856d8db div.sk-parallel-item:only-child::after {width: 0;}#sk-f0f613e5-bec0-4e8d-818b-872ce856d8db div.sk-dashed-wrapped {border: 1px dashed gray;margin: 0 0.4em 0.5em 0.4em;box-sizing: border-box;padding-bottom: 0.4em;background-color: white;position: relative;}#sk-f0f613e5-bec0-4e8d-818b-872ce856d8db div.sk-label label {font-family: monospace;font-weight: bold;background-color: white;display: inline-block;line-height: 1.2em;}#sk-f0f613e5-bec0-4e8d-818b-872ce856d8db div.sk-label-container {position: relative;z-index: 2;text-align: center;}#sk-f0f613e5-bec0-4e8d-818b-872ce856d8db div.sk-container {/* jupyter's `normalize.less` sets `[hidden] { display: none; }` but bootstrap.min.css set `[hidden] { display: none !important; }` so we also need the `!important` here to be able to override the default hidden behavior on the sphinx rendered scikit-learn.org. See: https://github.com/scikit-learn/scikit-learn/issues/21755 */display: inline-block !important;position: relative;}#sk-f0f613e5-bec0-4e8d-818b-872ce856d8db div.sk-text-repr-fallback {display: none;}</style><div id=\"sk-f0f613e5-bec0-4e8d-818b-872ce856d8db\" class=\"sk-top-container\"><div class=\"sk-text-repr-fallback\"><pre>Pipeline(steps=[(&#x27;columntransformer&#x27;,\n",
              "                 ColumnTransformer(remainder=&#x27;passthrough&#x27;,\n",
              "                                   transformers=[(&#x27;pipeline-1&#x27;,\n",
              "                                                  Pipeline(steps=[(&#x27;standardscaler&#x27;,\n",
              "                                                                   StandardScaler()),\n",
              "                                                                  (&#x27;simpleimputer&#x27;,\n",
              "                                                                   SimpleImputer())]),\n",
              "                                                  &lt;sklearn.compose._column_transformer.make_column_selector object at 0x7fee0ee43b20&gt;),\n",
              "                                                 (&#x27;pipeline-2&#x27;,\n",
              "                                                  Pipeline(steps=[(&#x27;onehotencoder&#x27;,\n",
              "                                                                   OneHotEncoder(handle_unknown=&#x27;ignore&#x27;,\n",
              "                                                                                 sparse=False))]),\n",
              "                                                  &lt;sklearn.compose._column_transformer.make_column_selector object at 0x7fee0ee43df0&gt;)])),\n",
              "                (&#x27;logisticregression&#x27;, LogisticRegression(random_state=42))])</pre><b>Please rerun this cell to show the HTML repr or trust the notebook.</b></div><div class=\"sk-container\" hidden><div class=\"sk-item sk-dashed-wrapped\"><div class=\"sk-label-container\"><div class=\"sk-label sk-toggleable\"><input class=\"sk-toggleable__control sk-hidden--visually\" id=\"23d6bb31-08fb-48fa-ae56-7f6564a56ca0\" type=\"checkbox\" ><label for=\"23d6bb31-08fb-48fa-ae56-7f6564a56ca0\" class=\"sk-toggleable__label sk-toggleable__label-arrow\">Pipeline</label><div class=\"sk-toggleable__content\"><pre>Pipeline(steps=[(&#x27;columntransformer&#x27;,\n",
              "                 ColumnTransformer(remainder=&#x27;passthrough&#x27;,\n",
              "                                   transformers=[(&#x27;pipeline-1&#x27;,\n",
              "                                                  Pipeline(steps=[(&#x27;standardscaler&#x27;,\n",
              "                                                                   StandardScaler()),\n",
              "                                                                  (&#x27;simpleimputer&#x27;,\n",
              "                                                                   SimpleImputer())]),\n",
              "                                                  &lt;sklearn.compose._column_transformer.make_column_selector object at 0x7fee0ee43b20&gt;),\n",
              "                                                 (&#x27;pipeline-2&#x27;,\n",
              "                                                  Pipeline(steps=[(&#x27;onehotencoder&#x27;,\n",
              "                                                                   OneHotEncoder(handle_unknown=&#x27;ignore&#x27;,\n",
              "                                                                                 sparse=False))]),\n",
              "                                                  &lt;sklearn.compose._column_transformer.make_column_selector object at 0x7fee0ee43df0&gt;)])),\n",
              "                (&#x27;logisticregression&#x27;, LogisticRegression(random_state=42))])</pre></div></div></div><div class=\"sk-serial\"><div class=\"sk-item sk-dashed-wrapped\"><div class=\"sk-label-container\"><div class=\"sk-label sk-toggleable\"><input class=\"sk-toggleable__control sk-hidden--visually\" id=\"41ada434-10ec-480f-91c4-37e399906264\" type=\"checkbox\" ><label for=\"41ada434-10ec-480f-91c4-37e399906264\" class=\"sk-toggleable__label sk-toggleable__label-arrow\">columntransformer: ColumnTransformer</label><div class=\"sk-toggleable__content\"><pre>ColumnTransformer(remainder=&#x27;passthrough&#x27;,\n",
              "                  transformers=[(&#x27;pipeline-1&#x27;,\n",
              "                                 Pipeline(steps=[(&#x27;standardscaler&#x27;,\n",
              "                                                  StandardScaler()),\n",
              "                                                 (&#x27;simpleimputer&#x27;,\n",
              "                                                  SimpleImputer())]),\n",
              "                                 &lt;sklearn.compose._column_transformer.make_column_selector object at 0x7fee0ee43b20&gt;),\n",
              "                                (&#x27;pipeline-2&#x27;,\n",
              "                                 Pipeline(steps=[(&#x27;onehotencoder&#x27;,\n",
              "                                                  OneHotEncoder(handle_unknown=&#x27;ignore&#x27;,\n",
              "                                                                sparse=False))]),\n",
              "                                 &lt;sklearn.compose._column_transformer.make_column_selector object at 0x7fee0ee43df0&gt;)])</pre></div></div></div><div class=\"sk-parallel\"><div class=\"sk-parallel-item\"><div class=\"sk-item\"><div class=\"sk-label-container\"><div class=\"sk-label sk-toggleable\"><input class=\"sk-toggleable__control sk-hidden--visually\" id=\"b2b5eb2d-bf0d-46c9-b667-1f9566ba141d\" type=\"checkbox\" ><label for=\"b2b5eb2d-bf0d-46c9-b667-1f9566ba141d\" class=\"sk-toggleable__label sk-toggleable__label-arrow\">pipeline-1</label><div class=\"sk-toggleable__content\"><pre>&lt;sklearn.compose._column_transformer.make_column_selector object at 0x7fee0ee43b20&gt;</pre></div></div></div><div class=\"sk-serial\"><div class=\"sk-item\"><div class=\"sk-serial\"><div class=\"sk-item\"><div class=\"sk-estimator sk-toggleable\"><input class=\"sk-toggleable__control sk-hidden--visually\" id=\"a2d0cc56-f2bc-42fe-bd29-ad7d68acc47b\" type=\"checkbox\" ><label for=\"a2d0cc56-f2bc-42fe-bd29-ad7d68acc47b\" class=\"sk-toggleable__label sk-toggleable__label-arrow\">StandardScaler</label><div class=\"sk-toggleable__content\"><pre>StandardScaler()</pre></div></div></div><div class=\"sk-item\"><div class=\"sk-estimator sk-toggleable\"><input class=\"sk-toggleable__control sk-hidden--visually\" id=\"e89967c8-f96c-4e5a-817c-8df63c07e592\" type=\"checkbox\" ><label for=\"e89967c8-f96c-4e5a-817c-8df63c07e592\" class=\"sk-toggleable__label sk-toggleable__label-arrow\">SimpleImputer</label><div class=\"sk-toggleable__content\"><pre>SimpleImputer()</pre></div></div></div></div></div></div></div></div><div class=\"sk-parallel-item\"><div class=\"sk-item\"><div class=\"sk-label-container\"><div class=\"sk-label sk-toggleable\"><input class=\"sk-toggleable__control sk-hidden--visually\" id=\"929cbde5-c251-4952-a6f3-e8f6982510fe\" type=\"checkbox\" ><label for=\"929cbde5-c251-4952-a6f3-e8f6982510fe\" class=\"sk-toggleable__label sk-toggleable__label-arrow\">pipeline-2</label><div class=\"sk-toggleable__content\"><pre>&lt;sklearn.compose._column_transformer.make_column_selector object at 0x7fee0ee43df0&gt;</pre></div></div></div><div class=\"sk-serial\"><div class=\"sk-item\"><div class=\"sk-serial\"><div class=\"sk-item\"><div class=\"sk-estimator sk-toggleable\"><input class=\"sk-toggleable__control sk-hidden--visually\" id=\"b1c082a2-eeec-448b-985b-c213382c47a4\" type=\"checkbox\" ><label for=\"b1c082a2-eeec-448b-985b-c213382c47a4\" class=\"sk-toggleable__label sk-toggleable__label-arrow\">OneHotEncoder</label><div class=\"sk-toggleable__content\"><pre>OneHotEncoder(handle_unknown=&#x27;ignore&#x27;, sparse=False)</pre></div></div></div></div></div></div></div></div><div class=\"sk-parallel-item\"><div class=\"sk-item\"><div class=\"sk-label-container\"><div class=\"sk-label sk-toggleable\"><input class=\"sk-toggleable__control sk-hidden--visually\" id=\"1eceefae-6874-424f-8b1d-b87188245d01\" type=\"checkbox\" ><label for=\"1eceefae-6874-424f-8b1d-b87188245d01\" class=\"sk-toggleable__label sk-toggleable__label-arrow\">remainder</label><div class=\"sk-toggleable__content\"><pre>[]</pre></div></div></div><div class=\"sk-serial\"><div class=\"sk-item\"><div class=\"sk-estimator sk-toggleable\"><input class=\"sk-toggleable__control sk-hidden--visually\" id=\"d1654129-b0f3-4b0f-b0e7-dd6175491150\" type=\"checkbox\" ><label for=\"d1654129-b0f3-4b0f-b0e7-dd6175491150\" class=\"sk-toggleable__label sk-toggleable__label-arrow\">passthrough</label><div class=\"sk-toggleable__content\"><pre>passthrough</pre></div></div></div></div></div></div></div></div><div class=\"sk-item\"><div class=\"sk-estimator sk-toggleable\"><input class=\"sk-toggleable__control sk-hidden--visually\" id=\"4bdc4701-85ab-458c-8e8e-76060dc06c7f\" type=\"checkbox\" ><label for=\"4bdc4701-85ab-458c-8e8e-76060dc06c7f\" class=\"sk-toggleable__label sk-toggleable__label-arrow\">LogisticRegression</label><div class=\"sk-toggleable__content\"><pre>LogisticRegression(random_state=42)</pre></div></div></div></div></div></div></div>"
            ]
          },
          "metadata": {},
          "execution_count": 58
        }
      ]
    },
    {
      "cell_type": "code",
      "source": [
        "_# Make predictions on the test data\n",
        "X_pred = lr_pipe.predict(X_test)\n",
        "X_pred"
      ],
      "metadata": {
        "colab": {
          "base_uri": "https://localhost:8080/"
        },
        "id": "1IFlMtAe-Lbi",
        "outputId": "fea489a4-1a62-497f-ec2f-221783c8dcd2"
      },
      "execution_count": 59,
      "outputs": [
        {
          "output_type": "execute_result",
          "data": {
            "text/plain": [
              "array([0, 1, 0, ..., 0, 0, 0])"
            ]
          },
          "metadata": {},
          "execution_count": 59
        }
      ]
    },
    {
      "cell_type": "code",
      "source": [
        "print('Train accuracy score for LG:', lr_pipe.score(X_train, y_train))\n",
        "print('Test accuracy score for LG:', lr_pipe.score(X_test, y_test))"
      ],
      "metadata": {
        "colab": {
          "base_uri": "https://localhost:8080/"
        },
        "id": "EmkEi-bEY2z5",
        "outputId": "645766b1-8cc7-421e-b452-c12b3bd94e95"
      },
      "execution_count": 60,
      "outputs": [
        {
          "output_type": "stream",
          "name": "stdout",
          "text": [
            "Train accuracy score for LG: 0.8463489520758243\n",
            "Test accuracy score for LG: 0.8414096916299559\n"
          ]
        }
      ]
    },
    {
      "cell_type": "markdown",
      "source": [
        "###**Tuning Logistic Regression Model**"
      ],
      "metadata": {
        "id": "VFW69pZMiMwN"
      }
    },
    {
      "cell_type": "code",
      "source": [
        "#Looking at possible hyperparameters to tune\n",
        "lr_pipe.get_params()"
      ],
      "metadata": {
        "colab": {
          "base_uri": "https://localhost:8080/"
        },
        "id": "w4nh6sbJdtxy",
        "outputId": "b23bbed8-af1b-4ec5-ec87-e93ebf9098dd"
      },
      "execution_count": 61,
      "outputs": [
        {
          "output_type": "execute_result",
          "data": {
            "text/plain": [
              "{'memory': None,\n",
              " 'steps': [('columntransformer', ColumnTransformer(remainder='passthrough',\n",
              "                     transformers=[('pipeline-1',\n",
              "                                    Pipeline(steps=[('standardscaler',\n",
              "                                                     StandardScaler()),\n",
              "                                                    ('simpleimputer',\n",
              "                                                     SimpleImputer())]),\n",
              "                                    <sklearn.compose._column_transformer.make_column_selector object at 0x7fee0ee43b20>),\n",
              "                                   ('pipeline-2',\n",
              "                                    Pipeline(steps=[('onehotencoder',\n",
              "                                                     OneHotEncoder(handle_unknown='ignore',\n",
              "                                                                   sparse=False))]),\n",
              "                                    <sklearn.compose._column_transformer.make_column_selector object at 0x7fee0ee43df0>)])),\n",
              "  ('logisticregression', LogisticRegression(random_state=42))],\n",
              " 'verbose': False,\n",
              " 'columntransformer': ColumnTransformer(remainder='passthrough',\n",
              "                   transformers=[('pipeline-1',\n",
              "                                  Pipeline(steps=[('standardscaler',\n",
              "                                                   StandardScaler()),\n",
              "                                                  ('simpleimputer',\n",
              "                                                   SimpleImputer())]),\n",
              "                                  <sklearn.compose._column_transformer.make_column_selector object at 0x7fee0ee43b20>),\n",
              "                                 ('pipeline-2',\n",
              "                                  Pipeline(steps=[('onehotencoder',\n",
              "                                                   OneHotEncoder(handle_unknown='ignore',\n",
              "                                                                 sparse=False))]),\n",
              "                                  <sklearn.compose._column_transformer.make_column_selector object at 0x7fee0ee43df0>)]),\n",
              " 'logisticregression': LogisticRegression(random_state=42),\n",
              " 'columntransformer__n_jobs': None,\n",
              " 'columntransformer__remainder': 'passthrough',\n",
              " 'columntransformer__sparse_threshold': 0.3,\n",
              " 'columntransformer__transformer_weights': None,\n",
              " 'columntransformer__transformers': [('pipeline-1',\n",
              "   Pipeline(steps=[('standardscaler', StandardScaler()),\n",
              "                   ('simpleimputer', SimpleImputer())]),\n",
              "   <sklearn.compose._column_transformer.make_column_selector at 0x7fee0ee43b20>),\n",
              "  ('pipeline-2', Pipeline(steps=[('onehotencoder',\n",
              "                    OneHotEncoder(handle_unknown='ignore', sparse=False))]), <sklearn.compose._column_transformer.make_column_selector at 0x7fee0ee43df0>)],\n",
              " 'columntransformer__verbose': False,\n",
              " 'columntransformer__verbose_feature_names_out': True,\n",
              " 'columntransformer__pipeline-1': Pipeline(steps=[('standardscaler', StandardScaler()),\n",
              "                 ('simpleimputer', SimpleImputer())]),\n",
              " 'columntransformer__pipeline-2': Pipeline(steps=[('onehotencoder',\n",
              "                  OneHotEncoder(handle_unknown='ignore', sparse=False))]),\n",
              " 'columntransformer__pipeline-1__memory': None,\n",
              " 'columntransformer__pipeline-1__steps': [('standardscaler', StandardScaler()),\n",
              "  ('simpleimputer', SimpleImputer())],\n",
              " 'columntransformer__pipeline-1__verbose': False,\n",
              " 'columntransformer__pipeline-1__standardscaler': StandardScaler(),\n",
              " 'columntransformer__pipeline-1__simpleimputer': SimpleImputer(),\n",
              " 'columntransformer__pipeline-1__standardscaler__copy': True,\n",
              " 'columntransformer__pipeline-1__standardscaler__with_mean': True,\n",
              " 'columntransformer__pipeline-1__standardscaler__with_std': True,\n",
              " 'columntransformer__pipeline-1__simpleimputer__add_indicator': False,\n",
              " 'columntransformer__pipeline-1__simpleimputer__copy': True,\n",
              " 'columntransformer__pipeline-1__simpleimputer__fill_value': None,\n",
              " 'columntransformer__pipeline-1__simpleimputer__missing_values': nan,\n",
              " 'columntransformer__pipeline-1__simpleimputer__strategy': 'mean',\n",
              " 'columntransformer__pipeline-1__simpleimputer__verbose': 0,\n",
              " 'columntransformer__pipeline-2__memory': None,\n",
              " 'columntransformer__pipeline-2__steps': [('onehotencoder',\n",
              "   OneHotEncoder(handle_unknown='ignore', sparse=False))],\n",
              " 'columntransformer__pipeline-2__verbose': False,\n",
              " 'columntransformer__pipeline-2__onehotencoder': OneHotEncoder(handle_unknown='ignore', sparse=False),\n",
              " 'columntransformer__pipeline-2__onehotencoder__categories': 'auto',\n",
              " 'columntransformer__pipeline-2__onehotencoder__drop': None,\n",
              " 'columntransformer__pipeline-2__onehotencoder__dtype': numpy.float64,\n",
              " 'columntransformer__pipeline-2__onehotencoder__handle_unknown': 'ignore',\n",
              " 'columntransformer__pipeline-2__onehotencoder__sparse': False,\n",
              " 'logisticregression__C': 1.0,\n",
              " 'logisticregression__class_weight': None,\n",
              " 'logisticregression__dual': False,\n",
              " 'logisticregression__fit_intercept': True,\n",
              " 'logisticregression__intercept_scaling': 1,\n",
              " 'logisticregression__l1_ratio': None,\n",
              " 'logisticregression__max_iter': 100,\n",
              " 'logisticregression__multi_class': 'auto',\n",
              " 'logisticregression__n_jobs': None,\n",
              " 'logisticregression__penalty': 'l2',\n",
              " 'logisticregression__random_state': 42,\n",
              " 'logisticregression__solver': 'lbfgs',\n",
              " 'logisticregression__tol': 0.0001,\n",
              " 'logisticregression__verbose': 0,\n",
              " 'logisticregression__warm_start': False}"
            ]
          },
          "metadata": {},
          "execution_count": 61
        }
      ]
    },
    {
      "cell_type": "code",
      "source": [
        "#lr_param_grid = {'logisticregression__C': 1000,\n",
        "                 #'logisticregression__max_iter': 1000,\n",
        "                 #'logisticregression__penalty': 'l2',\n",
        "                 #'logisticregression__solver': 'liblinear'}\n",
        "\n",
        "#pd.DataFrame(lr_param_grid).T"
      ],
      "metadata": {
        "id": "b1hfLPcKeW5h"
      },
      "execution_count": 62,
      "outputs": []
    },
    {
      "cell_type": "code",
      "source": [],
      "metadata": {
        "id": "n-N42IV3rPH_"
      },
      "execution_count": 62,
      "outputs": []
    },
    {
      "cell_type": "markdown",
      "source": [],
      "metadata": {
        "id": "v2N8fXsHr5Wt"
      }
    },
    {
      "cell_type": "code",
      "source": [
        "#lr_gs = GridSearchCV(lr_pipe, lr_param_grid)"
      ],
      "metadata": {
        "id": "yULHo5OsgGbV"
      },
      "execution_count": 63,
      "outputs": []
    },
    {
      "cell_type": "markdown",
      "source": [
        "##**Random forrest Classifier**"
      ],
      "metadata": {
        "id": "i35sL8J7jIhx"
      }
    },
    {
      "cell_type": "code",
      "source": [
        "#Random forest Classifier\n",
        "rfc = RandomForestClassifier(random_state=42)"
      ],
      "metadata": {
        "id": "yoMRbJvLjNTD"
      },
      "execution_count": 64,
      "outputs": []
    },
    {
      "cell_type": "code",
      "source": [
        "#Create Pipeline\n",
        "rf_pipe = make_pipeline(preprocessor, rfc)"
      ],
      "metadata": {
        "id": "zCMThDKZm4lC"
      },
      "execution_count": 65,
      "outputs": []
    },
    {
      "cell_type": "code",
      "source": [
        "# Fitting the classifier to the dataset\n",
        "rf_pipe.fit(X_train, y_train)"
      ],
      "metadata": {
        "colab": {
          "base_uri": "https://localhost:8080/",
          "height": 227
        },
        "id": "k-f_2frPkKzk",
        "outputId": "8b6abdc8-026e-41a0-d900-8564d727c1ed"
      },
      "execution_count": 66,
      "outputs": [
        {
          "output_type": "execute_result",
          "data": {
            "text/plain": [
              "Pipeline(steps=[('columntransformer',\n",
              "                 ColumnTransformer(remainder='passthrough',\n",
              "                                   transformers=[('pipeline-1',\n",
              "                                                  Pipeline(steps=[('standardscaler',\n",
              "                                                                   StandardScaler()),\n",
              "                                                                  ('simpleimputer',\n",
              "                                                                   SimpleImputer())]),\n",
              "                                                  <sklearn.compose._column_transformer.make_column_selector object at 0x7fee0ee43b20>),\n",
              "                                                 ('pipeline-2',\n",
              "                                                  Pipeline(steps=[('onehotencoder',\n",
              "                                                                   OneHotEncoder(handle_unknown='ignore',\n",
              "                                                                                 sparse=False))]),\n",
              "                                                  <sklearn.compose._column_transformer.make_column_selector object at 0x7fee0ee43df0>)])),\n",
              "                ('randomforestclassifier',\n",
              "                 RandomForestClassifier(random_state=42))])"
            ],
            "text/html": [
              "<style>#sk-3760e32f-9952-4ba9-8e92-8d8879bc0c2b {color: black;background-color: white;}#sk-3760e32f-9952-4ba9-8e92-8d8879bc0c2b pre{padding: 0;}#sk-3760e32f-9952-4ba9-8e92-8d8879bc0c2b div.sk-toggleable {background-color: white;}#sk-3760e32f-9952-4ba9-8e92-8d8879bc0c2b label.sk-toggleable__label {cursor: pointer;display: block;width: 100%;margin-bottom: 0;padding: 0.3em;box-sizing: border-box;text-align: center;}#sk-3760e32f-9952-4ba9-8e92-8d8879bc0c2b label.sk-toggleable__label-arrow:before {content: \"▸\";float: left;margin-right: 0.25em;color: #696969;}#sk-3760e32f-9952-4ba9-8e92-8d8879bc0c2b label.sk-toggleable__label-arrow:hover:before {color: black;}#sk-3760e32f-9952-4ba9-8e92-8d8879bc0c2b div.sk-estimator:hover label.sk-toggleable__label-arrow:before {color: black;}#sk-3760e32f-9952-4ba9-8e92-8d8879bc0c2b div.sk-toggleable__content {max-height: 0;max-width: 0;overflow: hidden;text-align: left;background-color: #f0f8ff;}#sk-3760e32f-9952-4ba9-8e92-8d8879bc0c2b div.sk-toggleable__content pre {margin: 0.2em;color: black;border-radius: 0.25em;background-color: #f0f8ff;}#sk-3760e32f-9952-4ba9-8e92-8d8879bc0c2b input.sk-toggleable__control:checked~div.sk-toggleable__content {max-height: 200px;max-width: 100%;overflow: auto;}#sk-3760e32f-9952-4ba9-8e92-8d8879bc0c2b input.sk-toggleable__control:checked~label.sk-toggleable__label-arrow:before {content: \"▾\";}#sk-3760e32f-9952-4ba9-8e92-8d8879bc0c2b div.sk-estimator input.sk-toggleable__control:checked~label.sk-toggleable__label {background-color: #d4ebff;}#sk-3760e32f-9952-4ba9-8e92-8d8879bc0c2b div.sk-label input.sk-toggleable__control:checked~label.sk-toggleable__label {background-color: #d4ebff;}#sk-3760e32f-9952-4ba9-8e92-8d8879bc0c2b input.sk-hidden--visually {border: 0;clip: rect(1px 1px 1px 1px);clip: rect(1px, 1px, 1px, 1px);height: 1px;margin: -1px;overflow: hidden;padding: 0;position: absolute;width: 1px;}#sk-3760e32f-9952-4ba9-8e92-8d8879bc0c2b div.sk-estimator {font-family: monospace;background-color: #f0f8ff;border: 1px dotted black;border-radius: 0.25em;box-sizing: border-box;margin-bottom: 0.5em;}#sk-3760e32f-9952-4ba9-8e92-8d8879bc0c2b div.sk-estimator:hover {background-color: #d4ebff;}#sk-3760e32f-9952-4ba9-8e92-8d8879bc0c2b div.sk-parallel-item::after {content: \"\";width: 100%;border-bottom: 1px solid gray;flex-grow: 1;}#sk-3760e32f-9952-4ba9-8e92-8d8879bc0c2b div.sk-label:hover label.sk-toggleable__label {background-color: #d4ebff;}#sk-3760e32f-9952-4ba9-8e92-8d8879bc0c2b div.sk-serial::before {content: \"\";position: absolute;border-left: 1px solid gray;box-sizing: border-box;top: 2em;bottom: 0;left: 50%;}#sk-3760e32f-9952-4ba9-8e92-8d8879bc0c2b div.sk-serial {display: flex;flex-direction: column;align-items: center;background-color: white;padding-right: 0.2em;padding-left: 0.2em;}#sk-3760e32f-9952-4ba9-8e92-8d8879bc0c2b div.sk-item {z-index: 1;}#sk-3760e32f-9952-4ba9-8e92-8d8879bc0c2b div.sk-parallel {display: flex;align-items: stretch;justify-content: center;background-color: white;}#sk-3760e32f-9952-4ba9-8e92-8d8879bc0c2b div.sk-parallel::before {content: \"\";position: absolute;border-left: 1px solid gray;box-sizing: border-box;top: 2em;bottom: 0;left: 50%;}#sk-3760e32f-9952-4ba9-8e92-8d8879bc0c2b div.sk-parallel-item {display: flex;flex-direction: column;position: relative;background-color: white;}#sk-3760e32f-9952-4ba9-8e92-8d8879bc0c2b div.sk-parallel-item:first-child::after {align-self: flex-end;width: 50%;}#sk-3760e32f-9952-4ba9-8e92-8d8879bc0c2b div.sk-parallel-item:last-child::after {align-self: flex-start;width: 50%;}#sk-3760e32f-9952-4ba9-8e92-8d8879bc0c2b div.sk-parallel-item:only-child::after {width: 0;}#sk-3760e32f-9952-4ba9-8e92-8d8879bc0c2b div.sk-dashed-wrapped {border: 1px dashed gray;margin: 0 0.4em 0.5em 0.4em;box-sizing: border-box;padding-bottom: 0.4em;background-color: white;position: relative;}#sk-3760e32f-9952-4ba9-8e92-8d8879bc0c2b div.sk-label label {font-family: monospace;font-weight: bold;background-color: white;display: inline-block;line-height: 1.2em;}#sk-3760e32f-9952-4ba9-8e92-8d8879bc0c2b div.sk-label-container {position: relative;z-index: 2;text-align: center;}#sk-3760e32f-9952-4ba9-8e92-8d8879bc0c2b div.sk-container {/* jupyter's `normalize.less` sets `[hidden] { display: none; }` but bootstrap.min.css set `[hidden] { display: none !important; }` so we also need the `!important` here to be able to override the default hidden behavior on the sphinx rendered scikit-learn.org. See: https://github.com/scikit-learn/scikit-learn/issues/21755 */display: inline-block !important;position: relative;}#sk-3760e32f-9952-4ba9-8e92-8d8879bc0c2b div.sk-text-repr-fallback {display: none;}</style><div id=\"sk-3760e32f-9952-4ba9-8e92-8d8879bc0c2b\" class=\"sk-top-container\"><div class=\"sk-text-repr-fallback\"><pre>Pipeline(steps=[(&#x27;columntransformer&#x27;,\n",
              "                 ColumnTransformer(remainder=&#x27;passthrough&#x27;,\n",
              "                                   transformers=[(&#x27;pipeline-1&#x27;,\n",
              "                                                  Pipeline(steps=[(&#x27;standardscaler&#x27;,\n",
              "                                                                   StandardScaler()),\n",
              "                                                                  (&#x27;simpleimputer&#x27;,\n",
              "                                                                   SimpleImputer())]),\n",
              "                                                  &lt;sklearn.compose._column_transformer.make_column_selector object at 0x7fee0ee43b20&gt;),\n",
              "                                                 (&#x27;pipeline-2&#x27;,\n",
              "                                                  Pipeline(steps=[(&#x27;onehotencoder&#x27;,\n",
              "                                                                   OneHotEncoder(handle_unknown=&#x27;ignore&#x27;,\n",
              "                                                                                 sparse=False))]),\n",
              "                                                  &lt;sklearn.compose._column_transformer.make_column_selector object at 0x7fee0ee43df0&gt;)])),\n",
              "                (&#x27;randomforestclassifier&#x27;,\n",
              "                 RandomForestClassifier(random_state=42))])</pre><b>Please rerun this cell to show the HTML repr or trust the notebook.</b></div><div class=\"sk-container\" hidden><div class=\"sk-item sk-dashed-wrapped\"><div class=\"sk-label-container\"><div class=\"sk-label sk-toggleable\"><input class=\"sk-toggleable__control sk-hidden--visually\" id=\"de51deb1-9ddc-4ada-af1e-30bfa5aca25c\" type=\"checkbox\" ><label for=\"de51deb1-9ddc-4ada-af1e-30bfa5aca25c\" class=\"sk-toggleable__label sk-toggleable__label-arrow\">Pipeline</label><div class=\"sk-toggleable__content\"><pre>Pipeline(steps=[(&#x27;columntransformer&#x27;,\n",
              "                 ColumnTransformer(remainder=&#x27;passthrough&#x27;,\n",
              "                                   transformers=[(&#x27;pipeline-1&#x27;,\n",
              "                                                  Pipeline(steps=[(&#x27;standardscaler&#x27;,\n",
              "                                                                   StandardScaler()),\n",
              "                                                                  (&#x27;simpleimputer&#x27;,\n",
              "                                                                   SimpleImputer())]),\n",
              "                                                  &lt;sklearn.compose._column_transformer.make_column_selector object at 0x7fee0ee43b20&gt;),\n",
              "                                                 (&#x27;pipeline-2&#x27;,\n",
              "                                                  Pipeline(steps=[(&#x27;onehotencoder&#x27;,\n",
              "                                                                   OneHotEncoder(handle_unknown=&#x27;ignore&#x27;,\n",
              "                                                                                 sparse=False))]),\n",
              "                                                  &lt;sklearn.compose._column_transformer.make_column_selector object at 0x7fee0ee43df0&gt;)])),\n",
              "                (&#x27;randomforestclassifier&#x27;,\n",
              "                 RandomForestClassifier(random_state=42))])</pre></div></div></div><div class=\"sk-serial\"><div class=\"sk-item sk-dashed-wrapped\"><div class=\"sk-label-container\"><div class=\"sk-label sk-toggleable\"><input class=\"sk-toggleable__control sk-hidden--visually\" id=\"aa459e99-b32e-4955-bb5b-fc899e807973\" type=\"checkbox\" ><label for=\"aa459e99-b32e-4955-bb5b-fc899e807973\" class=\"sk-toggleable__label sk-toggleable__label-arrow\">columntransformer: ColumnTransformer</label><div class=\"sk-toggleable__content\"><pre>ColumnTransformer(remainder=&#x27;passthrough&#x27;,\n",
              "                  transformers=[(&#x27;pipeline-1&#x27;,\n",
              "                                 Pipeline(steps=[(&#x27;standardscaler&#x27;,\n",
              "                                                  StandardScaler()),\n",
              "                                                 (&#x27;simpleimputer&#x27;,\n",
              "                                                  SimpleImputer())]),\n",
              "                                 &lt;sklearn.compose._column_transformer.make_column_selector object at 0x7fee0ee43b20&gt;),\n",
              "                                (&#x27;pipeline-2&#x27;,\n",
              "                                 Pipeline(steps=[(&#x27;onehotencoder&#x27;,\n",
              "                                                  OneHotEncoder(handle_unknown=&#x27;ignore&#x27;,\n",
              "                                                                sparse=False))]),\n",
              "                                 &lt;sklearn.compose._column_transformer.make_column_selector object at 0x7fee0ee43df0&gt;)])</pre></div></div></div><div class=\"sk-parallel\"><div class=\"sk-parallel-item\"><div class=\"sk-item\"><div class=\"sk-label-container\"><div class=\"sk-label sk-toggleable\"><input class=\"sk-toggleable__control sk-hidden--visually\" id=\"ef8f87e4-f96d-44c7-882e-a8de9f69050f\" type=\"checkbox\" ><label for=\"ef8f87e4-f96d-44c7-882e-a8de9f69050f\" class=\"sk-toggleable__label sk-toggleable__label-arrow\">pipeline-1</label><div class=\"sk-toggleable__content\"><pre>&lt;sklearn.compose._column_transformer.make_column_selector object at 0x7fee0ee43b20&gt;</pre></div></div></div><div class=\"sk-serial\"><div class=\"sk-item\"><div class=\"sk-serial\"><div class=\"sk-item\"><div class=\"sk-estimator sk-toggleable\"><input class=\"sk-toggleable__control sk-hidden--visually\" id=\"208bc89d-3b9f-448f-acd0-e580eaeef77e\" type=\"checkbox\" ><label for=\"208bc89d-3b9f-448f-acd0-e580eaeef77e\" class=\"sk-toggleable__label sk-toggleable__label-arrow\">StandardScaler</label><div class=\"sk-toggleable__content\"><pre>StandardScaler()</pre></div></div></div><div class=\"sk-item\"><div class=\"sk-estimator sk-toggleable\"><input class=\"sk-toggleable__control sk-hidden--visually\" id=\"050a3f7d-2661-4856-9a76-659179ea1a62\" type=\"checkbox\" ><label for=\"050a3f7d-2661-4856-9a76-659179ea1a62\" class=\"sk-toggleable__label sk-toggleable__label-arrow\">SimpleImputer</label><div class=\"sk-toggleable__content\"><pre>SimpleImputer()</pre></div></div></div></div></div></div></div></div><div class=\"sk-parallel-item\"><div class=\"sk-item\"><div class=\"sk-label-container\"><div class=\"sk-label sk-toggleable\"><input class=\"sk-toggleable__control sk-hidden--visually\" id=\"5123c6c3-f5dd-4085-bb70-754916693e70\" type=\"checkbox\" ><label for=\"5123c6c3-f5dd-4085-bb70-754916693e70\" class=\"sk-toggleable__label sk-toggleable__label-arrow\">pipeline-2</label><div class=\"sk-toggleable__content\"><pre>&lt;sklearn.compose._column_transformer.make_column_selector object at 0x7fee0ee43df0&gt;</pre></div></div></div><div class=\"sk-serial\"><div class=\"sk-item\"><div class=\"sk-serial\"><div class=\"sk-item\"><div class=\"sk-estimator sk-toggleable\"><input class=\"sk-toggleable__control sk-hidden--visually\" id=\"3876e1f9-bf50-4b50-b1c7-c48e21040e3e\" type=\"checkbox\" ><label for=\"3876e1f9-bf50-4b50-b1c7-c48e21040e3e\" class=\"sk-toggleable__label sk-toggleable__label-arrow\">OneHotEncoder</label><div class=\"sk-toggleable__content\"><pre>OneHotEncoder(handle_unknown=&#x27;ignore&#x27;, sparse=False)</pre></div></div></div></div></div></div></div></div><div class=\"sk-parallel-item\"><div class=\"sk-item\"><div class=\"sk-label-container\"><div class=\"sk-label sk-toggleable\"><input class=\"sk-toggleable__control sk-hidden--visually\" id=\"b404bc42-495d-4746-bb14-1eee3a1fcf74\" type=\"checkbox\" ><label for=\"b404bc42-495d-4746-bb14-1eee3a1fcf74\" class=\"sk-toggleable__label sk-toggleable__label-arrow\">remainder</label><div class=\"sk-toggleable__content\"><pre>[]</pre></div></div></div><div class=\"sk-serial\"><div class=\"sk-item\"><div class=\"sk-estimator sk-toggleable\"><input class=\"sk-toggleable__control sk-hidden--visually\" id=\"8069a04d-89c6-471c-9ede-8e68ed90c52f\" type=\"checkbox\" ><label for=\"8069a04d-89c6-471c-9ede-8e68ed90c52f\" class=\"sk-toggleable__label sk-toggleable__label-arrow\">passthrough</label><div class=\"sk-toggleable__content\"><pre>passthrough</pre></div></div></div></div></div></div></div></div><div class=\"sk-item\"><div class=\"sk-estimator sk-toggleable\"><input class=\"sk-toggleable__control sk-hidden--visually\" id=\"fc1a0ba3-b7f6-4341-b273-a55d16ed7acb\" type=\"checkbox\" ><label for=\"fc1a0ba3-b7f6-4341-b273-a55d16ed7acb\" class=\"sk-toggleable__label sk-toggleable__label-arrow\">RandomForestClassifier</label><div class=\"sk-toggleable__content\"><pre>RandomForestClassifier(random_state=42)</pre></div></div></div></div></div></div></div>"
            ]
          },
          "metadata": {},
          "execution_count": 66
        }
      ]
    },
    {
      "cell_type": "code",
      "source": [
        "#Make predictions using the training and testing data\n",
        "train_pred = rf_pipe.predict(X_train)\n",
        "test_pred = rf_pipe.predict(X_test)\n",
        "train_pred[:10]"
      ],
      "metadata": {
        "colab": {
          "base_uri": "https://localhost:8080/"
        },
        "id": "pyeyjFTpnRuE",
        "outputId": "542824d0-d36c-4ea6-d6e3-3c357cf22794"
      },
      "execution_count": 67,
      "outputs": [
        {
          "output_type": "execute_result",
          "data": {
            "text/plain": [
              "array([1, 0, 1, 0, 0, 1, 0, 0, 0, 1])"
            ]
          },
          "metadata": {},
          "execution_count": 67
        }
      ]
    },
    {
      "cell_type": "code",
      "source": [
        "#Evaulate the model\n",
        "train_score = rf_pipe.score(X_train, y_train)\n",
        "test_score = rf_pipe.score(X_test, y_test)\n",
        "print(train_score)\n",
        "print(test_score)"
      ],
      "metadata": {
        "colab": {
          "base_uri": "https://localhost:8080/"
        },
        "id": "9rWXY-L8nrHA",
        "outputId": "c403dccc-1c92-4360-9231-f14b0899c0c4"
      },
      "execution_count": 68,
      "outputs": [
        {
          "output_type": "stream",
          "name": "stdout",
          "text": [
            "0.999866506474436\n",
            "0.8350020024028835\n"
          ]
        }
      ]
    },
    {
      "cell_type": "markdown",
      "source": [
        "###**Grid Search CV**"
      ],
      "metadata": {
        "id": "p_YnKl-Xpf00"
      }
    },
    {
      "cell_type": "code",
      "source": [
        "#create and visualize our parameter grid\n",
        "param_grid = {'max_depth': [1,2,3],\n",
        "              'min_samples_leaf': [3,15,20],\n",
        "              'min_samples_split': [2, 10, 100]}\n",
        " \n",
        "pd.DataFrame(param_grid).T"
      ],
      "metadata": {
        "colab": {
          "base_uri": "https://localhost:8080/",
          "height": 143
        },
        "id": "Ft3U0Rugn_hT",
        "outputId": "eee8cee3-3bcb-4385-8c9a-ac82f73bec8f"
      },
      "execution_count": 69,
      "outputs": [
        {
          "output_type": "execute_result",
          "data": {
            "text/plain": [
              "                   0   1    2\n",
              "max_depth          1   2    3\n",
              "min_samples_leaf   3  15   20\n",
              "min_samples_split  2  10  100"
            ],
            "text/html": [
              "\n",
              "  <div id=\"df-8e18f291-7033-47d4-bbd4-8dc579286549\">\n",
              "    <div class=\"colab-df-container\">\n",
              "      <div>\n",
              "<style scoped>\n",
              "    .dataframe tbody tr th:only-of-type {\n",
              "        vertical-align: middle;\n",
              "    }\n",
              "\n",
              "    .dataframe tbody tr th {\n",
              "        vertical-align: top;\n",
              "    }\n",
              "\n",
              "    .dataframe thead th {\n",
              "        text-align: right;\n",
              "    }\n",
              "</style>\n",
              "<table border=\"1\" class=\"dataframe\">\n",
              "  <thead>\n",
              "    <tr style=\"text-align: right;\">\n",
              "      <th></th>\n",
              "      <th>0</th>\n",
              "      <th>1</th>\n",
              "      <th>2</th>\n",
              "    </tr>\n",
              "  </thead>\n",
              "  <tbody>\n",
              "    <tr>\n",
              "      <th>max_depth</th>\n",
              "      <td>1</td>\n",
              "      <td>2</td>\n",
              "      <td>3</td>\n",
              "    </tr>\n",
              "    <tr>\n",
              "      <th>min_samples_leaf</th>\n",
              "      <td>3</td>\n",
              "      <td>15</td>\n",
              "      <td>20</td>\n",
              "    </tr>\n",
              "    <tr>\n",
              "      <th>min_samples_split</th>\n",
              "      <td>2</td>\n",
              "      <td>10</td>\n",
              "      <td>100</td>\n",
              "    </tr>\n",
              "  </tbody>\n",
              "</table>\n",
              "</div>\n",
              "      <button class=\"colab-df-convert\" onclick=\"convertToInteractive('df-8e18f291-7033-47d4-bbd4-8dc579286549')\"\n",
              "              title=\"Convert this dataframe to an interactive table.\"\n",
              "              style=\"display:none;\">\n",
              "        \n",
              "  <svg xmlns=\"http://www.w3.org/2000/svg\" height=\"24px\"viewBox=\"0 0 24 24\"\n",
              "       width=\"24px\">\n",
              "    <path d=\"M0 0h24v24H0V0z\" fill=\"none\"/>\n",
              "    <path d=\"M18.56 5.44l.94 2.06.94-2.06 2.06-.94-2.06-.94-.94-2.06-.94 2.06-2.06.94zm-11 1L8.5 8.5l.94-2.06 2.06-.94-2.06-.94L8.5 2.5l-.94 2.06-2.06.94zm10 10l.94 2.06.94-2.06 2.06-.94-2.06-.94-.94-2.06-.94 2.06-2.06.94z\"/><path d=\"M17.41 7.96l-1.37-1.37c-.4-.4-.92-.59-1.43-.59-.52 0-1.04.2-1.43.59L10.3 9.45l-7.72 7.72c-.78.78-.78 2.05 0 2.83L4 21.41c.39.39.9.59 1.41.59.51 0 1.02-.2 1.41-.59l7.78-7.78 2.81-2.81c.8-.78.8-2.07 0-2.86zM5.41 20L4 18.59l7.72-7.72 1.47 1.35L5.41 20z\"/>\n",
              "  </svg>\n",
              "      </button>\n",
              "      \n",
              "  <style>\n",
              "    .colab-df-container {\n",
              "      display:flex;\n",
              "      flex-wrap:wrap;\n",
              "      gap: 12px;\n",
              "    }\n",
              "\n",
              "    .colab-df-convert {\n",
              "      background-color: #E8F0FE;\n",
              "      border: none;\n",
              "      border-radius: 50%;\n",
              "      cursor: pointer;\n",
              "      display: none;\n",
              "      fill: #1967D2;\n",
              "      height: 32px;\n",
              "      padding: 0 0 0 0;\n",
              "      width: 32px;\n",
              "    }\n",
              "\n",
              "    .colab-df-convert:hover {\n",
              "      background-color: #E2EBFA;\n",
              "      box-shadow: 0px 1px 2px rgba(60, 64, 67, 0.3), 0px 1px 3px 1px rgba(60, 64, 67, 0.15);\n",
              "      fill: #174EA6;\n",
              "    }\n",
              "\n",
              "    [theme=dark] .colab-df-convert {\n",
              "      background-color: #3B4455;\n",
              "      fill: #D2E3FC;\n",
              "    }\n",
              "\n",
              "    [theme=dark] .colab-df-convert:hover {\n",
              "      background-color: #434B5C;\n",
              "      box-shadow: 0px 1px 3px 1px rgba(0, 0, 0, 0.15);\n",
              "      filter: drop-shadow(0px 1px 2px rgba(0, 0, 0, 0.3));\n",
              "      fill: #FFFFFF;\n",
              "    }\n",
              "  </style>\n",
              "\n",
              "      <script>\n",
              "        const buttonEl =\n",
              "          document.querySelector('#df-8e18f291-7033-47d4-bbd4-8dc579286549 button.colab-df-convert');\n",
              "        buttonEl.style.display =\n",
              "          google.colab.kernel.accessAllowed ? 'block' : 'none';\n",
              "\n",
              "        async function convertToInteractive(key) {\n",
              "          const element = document.querySelector('#df-8e18f291-7033-47d4-bbd4-8dc579286549');\n",
              "          const dataTable =\n",
              "            await google.colab.kernel.invokeFunction('convertToInteractive',\n",
              "                                                     [key], {});\n",
              "          if (!dataTable) return;\n",
              "\n",
              "          const docLinkHtml = 'Like what you see? Visit the ' +\n",
              "            '<a target=\"_blank\" href=https://colab.research.google.com/notebooks/data_table.ipynb>data table notebook</a>'\n",
              "            + ' to learn more about interactive tables.';\n",
              "          element.innerHTML = '';\n",
              "          dataTable['output_type'] = 'display_data';\n",
              "          await google.colab.output.renderOutput(dataTable, element);\n",
              "          const docLink = document.createElement('div');\n",
              "          docLink.innerHTML = docLinkHtml;\n",
              "          element.appendChild(docLink);\n",
              "        }\n",
              "      </script>\n",
              "    </div>\n",
              "  </div>\n",
              "  "
            ]
          },
          "metadata": {},
          "execution_count": 69
        }
      ]
    },
    {
      "cell_type": "code",
      "source": [
        "scores = {}\n",
        " \n",
        "#loop through all combinations of values for all hyperparameters\n",
        "for d in param_grid['max_depth']:\n",
        "  for l in param_grid['min_samples_leaf']:\n",
        "    for s in param_grid['min_samples_split']:\n",
        "      #fit a model for each combination of hyperparameter values\n",
        "      model = RandomForestClassifier(max_depth=d,\n",
        "                                     min_samples_leaf=l,\n",
        "                                     min_samples_split=s)\n",
        "      model = rf_pipe.fit(X_train, y_train)\n",
        "      score = model.score(X_test, y_test)\n",
        "      #add the model accuracy to a dictionary with the parameter settings as the\n",
        "      #keys and the accuracies as the values.\n",
        "      scores[f'depth {d}, min_samples_leaf {l}, min_samples_split {s} accuracy'] = score.round(6) * 100\n",
        " \n",
        "#Display dictionary of scores\n",
        "scores"
      ],
      "metadata": {
        "colab": {
          "base_uri": "https://localhost:8080/"
        },
        "id": "c0xMx6gYyosA",
        "outputId": "d9cd1265-9320-48ee-fae9-f44d1d34f1dc"
      },
      "execution_count": 70,
      "outputs": [
        {
          "output_type": "execute_result",
          "data": {
            "text/plain": [
              "{'depth 1, min_samples_leaf 3, min_samples_split 2 accuracy': 83.5002,\n",
              " 'depth 1, min_samples_leaf 3, min_samples_split 10 accuracy': 83.5002,\n",
              " 'depth 1, min_samples_leaf 3, min_samples_split 100 accuracy': 83.5002,\n",
              " 'depth 1, min_samples_leaf 15, min_samples_split 2 accuracy': 83.5002,\n",
              " 'depth 1, min_samples_leaf 15, min_samples_split 10 accuracy': 83.5002,\n",
              " 'depth 1, min_samples_leaf 15, min_samples_split 100 accuracy': 83.5002,\n",
              " 'depth 1, min_samples_leaf 20, min_samples_split 2 accuracy': 83.5002,\n",
              " 'depth 1, min_samples_leaf 20, min_samples_split 10 accuracy': 83.5002,\n",
              " 'depth 1, min_samples_leaf 20, min_samples_split 100 accuracy': 83.5002,\n",
              " 'depth 2, min_samples_leaf 3, min_samples_split 2 accuracy': 83.5002,\n",
              " 'depth 2, min_samples_leaf 3, min_samples_split 10 accuracy': 83.5002,\n",
              " 'depth 2, min_samples_leaf 3, min_samples_split 100 accuracy': 83.5002,\n",
              " 'depth 2, min_samples_leaf 15, min_samples_split 2 accuracy': 83.5002,\n",
              " 'depth 2, min_samples_leaf 15, min_samples_split 10 accuracy': 83.5002,\n",
              " 'depth 2, min_samples_leaf 15, min_samples_split 100 accuracy': 83.5002,\n",
              " 'depth 2, min_samples_leaf 20, min_samples_split 2 accuracy': 83.5002,\n",
              " 'depth 2, min_samples_leaf 20, min_samples_split 10 accuracy': 83.5002,\n",
              " 'depth 2, min_samples_leaf 20, min_samples_split 100 accuracy': 83.5002,\n",
              " 'depth 3, min_samples_leaf 3, min_samples_split 2 accuracy': 83.5002,\n",
              " 'depth 3, min_samples_leaf 3, min_samples_split 10 accuracy': 83.5002,\n",
              " 'depth 3, min_samples_leaf 3, min_samples_split 100 accuracy': 83.5002,\n",
              " 'depth 3, min_samples_leaf 15, min_samples_split 2 accuracy': 83.5002,\n",
              " 'depth 3, min_samples_leaf 15, min_samples_split 10 accuracy': 83.5002,\n",
              " 'depth 3, min_samples_leaf 15, min_samples_split 100 accuracy': 83.5002,\n",
              " 'depth 3, min_samples_leaf 20, min_samples_split 2 accuracy': 83.5002,\n",
              " 'depth 3, min_samples_leaf 20, min_samples_split 10 accuracy': 83.5002,\n",
              " 'depth 3, min_samples_leaf 20, min_samples_split 100 accuracy': 83.5002}"
            ]
          },
          "metadata": {},
          "execution_count": 70
        }
      ]
    },
    {
      "cell_type": "code",
      "source": [
        "dt_grid_search = GridSearchCV(estimator= rf_pipe, param_grid = param_grid, cv = 3)"
      ],
      "metadata": {
        "id": "czvHvFWlyAsP"
      },
      "execution_count": 77,
      "outputs": []
    },
    {
      "cell_type": "code",
      "source": [
        "dt_grid_search.fit(X_train, y_train)"
      ],
      "metadata": {
        "colab": {
          "base_uri": "https://localhost:8080/",
          "height": 554
        },
        "id": "SLyRQrxnyKXH",
        "outputId": "b31be58c-f890-49ed-df0e-a488e2308072"
      },
      "execution_count": 78,
      "outputs": [
        {
          "output_type": "error",
          "ename": "ValueError",
          "evalue": "ignored",
          "traceback": [
            "\u001b[0;31m---------------------------------------------------------------------------\u001b[0m",
            "\u001b[0;31mValueError\u001b[0m                                Traceback (most recent call last)",
            "\u001b[0;32m<ipython-input-78-025bb167962a>\u001b[0m in \u001b[0;36m<module>\u001b[0;34m\u001b[0m\n\u001b[0;32m----> 1\u001b[0;31m \u001b[0mdt_grid_search\u001b[0m\u001b[0;34m.\u001b[0m\u001b[0mfit\u001b[0m\u001b[0;34m(\u001b[0m\u001b[0mX_train\u001b[0m\u001b[0;34m,\u001b[0m \u001b[0my_train\u001b[0m\u001b[0;34m)\u001b[0m\u001b[0;34m\u001b[0m\u001b[0;34m\u001b[0m\u001b[0m\n\u001b[0m",
            "\u001b[0;32m/usr/local/lib/python3.8/dist-packages/sklearn/model_selection/_search.py\u001b[0m in \u001b[0;36mfit\u001b[0;34m(self, X, y, groups, **fit_params)\u001b[0m\n\u001b[1;32m    889\u001b[0m                 \u001b[0;32mreturn\u001b[0m \u001b[0mresults\u001b[0m\u001b[0;34m\u001b[0m\u001b[0;34m\u001b[0m\u001b[0m\n\u001b[1;32m    890\u001b[0m \u001b[0;34m\u001b[0m\u001b[0m\n\u001b[0;32m--> 891\u001b[0;31m             \u001b[0mself\u001b[0m\u001b[0;34m.\u001b[0m\u001b[0m_run_search\u001b[0m\u001b[0;34m(\u001b[0m\u001b[0mevaluate_candidates\u001b[0m\u001b[0;34m)\u001b[0m\u001b[0;34m\u001b[0m\u001b[0;34m\u001b[0m\u001b[0m\n\u001b[0m\u001b[1;32m    892\u001b[0m \u001b[0;34m\u001b[0m\u001b[0m\n\u001b[1;32m    893\u001b[0m             \u001b[0;31m# multimetric is determined here because in the case of a callable\u001b[0m\u001b[0;34m\u001b[0m\u001b[0;34m\u001b[0m\u001b[0;34m\u001b[0m\u001b[0m\n",
            "\u001b[0;32m/usr/local/lib/python3.8/dist-packages/sklearn/model_selection/_search.py\u001b[0m in \u001b[0;36m_run_search\u001b[0;34m(self, evaluate_candidates)\u001b[0m\n\u001b[1;32m   1390\u001b[0m     \u001b[0;32mdef\u001b[0m \u001b[0m_run_search\u001b[0m\u001b[0;34m(\u001b[0m\u001b[0mself\u001b[0m\u001b[0;34m,\u001b[0m \u001b[0mevaluate_candidates\u001b[0m\u001b[0;34m)\u001b[0m\u001b[0;34m:\u001b[0m\u001b[0;34m\u001b[0m\u001b[0;34m\u001b[0m\u001b[0m\n\u001b[1;32m   1391\u001b[0m         \u001b[0;34m\"\"\"Search all candidates in param_grid\"\"\"\u001b[0m\u001b[0;34m\u001b[0m\u001b[0;34m\u001b[0m\u001b[0m\n\u001b[0;32m-> 1392\u001b[0;31m         \u001b[0mevaluate_candidates\u001b[0m\u001b[0;34m(\u001b[0m\u001b[0mParameterGrid\u001b[0m\u001b[0;34m(\u001b[0m\u001b[0mself\u001b[0m\u001b[0;34m.\u001b[0m\u001b[0mparam_grid\u001b[0m\u001b[0;34m)\u001b[0m\u001b[0;34m)\u001b[0m\u001b[0;34m\u001b[0m\u001b[0;34m\u001b[0m\u001b[0m\n\u001b[0m\u001b[1;32m   1393\u001b[0m \u001b[0;34m\u001b[0m\u001b[0m\n\u001b[1;32m   1394\u001b[0m \u001b[0;34m\u001b[0m\u001b[0m\n",
            "\u001b[0;32m/usr/local/lib/python3.8/dist-packages/sklearn/model_selection/_search.py\u001b[0m in \u001b[0;36mevaluate_candidates\u001b[0;34m(candidate_params, cv, more_results)\u001b[0m\n\u001b[1;32m    836\u001b[0m                     )\n\u001b[1;32m    837\u001b[0m \u001b[0;34m\u001b[0m\u001b[0m\n\u001b[0;32m--> 838\u001b[0;31m                 out = parallel(\n\u001b[0m\u001b[1;32m    839\u001b[0m                     delayed(_fit_and_score)(\n\u001b[1;32m    840\u001b[0m                         \u001b[0mclone\u001b[0m\u001b[0;34m(\u001b[0m\u001b[0mbase_estimator\u001b[0m\u001b[0;34m)\u001b[0m\u001b[0;34m,\u001b[0m\u001b[0;34m\u001b[0m\u001b[0;34m\u001b[0m\u001b[0m\n",
            "\u001b[0;32m/usr/local/lib/python3.8/dist-packages/joblib/parallel.py\u001b[0m in \u001b[0;36m__call__\u001b[0;34m(self, iterable)\u001b[0m\n\u001b[1;32m   1083\u001b[0m             \u001b[0;31m# remaining jobs.\u001b[0m\u001b[0;34m\u001b[0m\u001b[0;34m\u001b[0m\u001b[0;34m\u001b[0m\u001b[0m\n\u001b[1;32m   1084\u001b[0m             \u001b[0mself\u001b[0m\u001b[0;34m.\u001b[0m\u001b[0m_iterating\u001b[0m \u001b[0;34m=\u001b[0m \u001b[0;32mFalse\u001b[0m\u001b[0;34m\u001b[0m\u001b[0;34m\u001b[0m\u001b[0m\n\u001b[0;32m-> 1085\u001b[0;31m             \u001b[0;32mif\u001b[0m \u001b[0mself\u001b[0m\u001b[0;34m.\u001b[0m\u001b[0mdispatch_one_batch\u001b[0m\u001b[0;34m(\u001b[0m\u001b[0miterator\u001b[0m\u001b[0;34m)\u001b[0m\u001b[0;34m:\u001b[0m\u001b[0;34m\u001b[0m\u001b[0;34m\u001b[0m\u001b[0m\n\u001b[0m\u001b[1;32m   1086\u001b[0m                 \u001b[0mself\u001b[0m\u001b[0;34m.\u001b[0m\u001b[0m_iterating\u001b[0m \u001b[0;34m=\u001b[0m \u001b[0mself\u001b[0m\u001b[0;34m.\u001b[0m\u001b[0m_original_iterator\u001b[0m \u001b[0;32mis\u001b[0m \u001b[0;32mnot\u001b[0m \u001b[0;32mNone\u001b[0m\u001b[0;34m\u001b[0m\u001b[0;34m\u001b[0m\u001b[0m\n\u001b[1;32m   1087\u001b[0m \u001b[0;34m\u001b[0m\u001b[0m\n",
            "\u001b[0;32m/usr/local/lib/python3.8/dist-packages/joblib/parallel.py\u001b[0m in \u001b[0;36mdispatch_one_batch\u001b[0;34m(self, iterator)\u001b[0m\n\u001b[1;32m    899\u001b[0m                 \u001b[0;32mreturn\u001b[0m \u001b[0;32mFalse\u001b[0m\u001b[0;34m\u001b[0m\u001b[0;34m\u001b[0m\u001b[0m\n\u001b[1;32m    900\u001b[0m             \u001b[0;32melse\u001b[0m\u001b[0;34m:\u001b[0m\u001b[0;34m\u001b[0m\u001b[0;34m\u001b[0m\u001b[0m\n\u001b[0;32m--> 901\u001b[0;31m                 \u001b[0mself\u001b[0m\u001b[0;34m.\u001b[0m\u001b[0m_dispatch\u001b[0m\u001b[0;34m(\u001b[0m\u001b[0mtasks\u001b[0m\u001b[0;34m)\u001b[0m\u001b[0;34m\u001b[0m\u001b[0;34m\u001b[0m\u001b[0m\n\u001b[0m\u001b[1;32m    902\u001b[0m                 \u001b[0;32mreturn\u001b[0m \u001b[0;32mTrue\u001b[0m\u001b[0;34m\u001b[0m\u001b[0;34m\u001b[0m\u001b[0m\n\u001b[1;32m    903\u001b[0m \u001b[0;34m\u001b[0m\u001b[0m\n",
            "\u001b[0;32m/usr/local/lib/python3.8/dist-packages/joblib/parallel.py\u001b[0m in \u001b[0;36m_dispatch\u001b[0;34m(self, batch)\u001b[0m\n\u001b[1;32m    817\u001b[0m         \u001b[0;32mwith\u001b[0m \u001b[0mself\u001b[0m\u001b[0;34m.\u001b[0m\u001b[0m_lock\u001b[0m\u001b[0;34m:\u001b[0m\u001b[0;34m\u001b[0m\u001b[0;34m\u001b[0m\u001b[0m\n\u001b[1;32m    818\u001b[0m             \u001b[0mjob_idx\u001b[0m \u001b[0;34m=\u001b[0m \u001b[0mlen\u001b[0m\u001b[0;34m(\u001b[0m\u001b[0mself\u001b[0m\u001b[0;34m.\u001b[0m\u001b[0m_jobs\u001b[0m\u001b[0;34m)\u001b[0m\u001b[0;34m\u001b[0m\u001b[0;34m\u001b[0m\u001b[0m\n\u001b[0;32m--> 819\u001b[0;31m             \u001b[0mjob\u001b[0m \u001b[0;34m=\u001b[0m \u001b[0mself\u001b[0m\u001b[0;34m.\u001b[0m\u001b[0m_backend\u001b[0m\u001b[0;34m.\u001b[0m\u001b[0mapply_async\u001b[0m\u001b[0;34m(\u001b[0m\u001b[0mbatch\u001b[0m\u001b[0;34m,\u001b[0m \u001b[0mcallback\u001b[0m\u001b[0;34m=\u001b[0m\u001b[0mcb\u001b[0m\u001b[0;34m)\u001b[0m\u001b[0;34m\u001b[0m\u001b[0;34m\u001b[0m\u001b[0m\n\u001b[0m\u001b[1;32m    820\u001b[0m             \u001b[0;31m# A job can complete so quickly than its callback is\u001b[0m\u001b[0;34m\u001b[0m\u001b[0;34m\u001b[0m\u001b[0;34m\u001b[0m\u001b[0m\n\u001b[1;32m    821\u001b[0m             \u001b[0;31m# called before we get here, causing self._jobs to\u001b[0m\u001b[0;34m\u001b[0m\u001b[0;34m\u001b[0m\u001b[0;34m\u001b[0m\u001b[0m\n",
            "\u001b[0;32m/usr/local/lib/python3.8/dist-packages/joblib/_parallel_backends.py\u001b[0m in \u001b[0;36mapply_async\u001b[0;34m(self, func, callback)\u001b[0m\n\u001b[1;32m    206\u001b[0m     \u001b[0;32mdef\u001b[0m \u001b[0mapply_async\u001b[0m\u001b[0;34m(\u001b[0m\u001b[0mself\u001b[0m\u001b[0;34m,\u001b[0m \u001b[0mfunc\u001b[0m\u001b[0;34m,\u001b[0m \u001b[0mcallback\u001b[0m\u001b[0;34m=\u001b[0m\u001b[0;32mNone\u001b[0m\u001b[0;34m)\u001b[0m\u001b[0;34m:\u001b[0m\u001b[0;34m\u001b[0m\u001b[0;34m\u001b[0m\u001b[0m\n\u001b[1;32m    207\u001b[0m         \u001b[0;34m\"\"\"Schedule a func to be run\"\"\"\u001b[0m\u001b[0;34m\u001b[0m\u001b[0;34m\u001b[0m\u001b[0m\n\u001b[0;32m--> 208\u001b[0;31m         \u001b[0mresult\u001b[0m \u001b[0;34m=\u001b[0m \u001b[0mImmediateResult\u001b[0m\u001b[0;34m(\u001b[0m\u001b[0mfunc\u001b[0m\u001b[0;34m)\u001b[0m\u001b[0;34m\u001b[0m\u001b[0;34m\u001b[0m\u001b[0m\n\u001b[0m\u001b[1;32m    209\u001b[0m         \u001b[0;32mif\u001b[0m \u001b[0mcallback\u001b[0m\u001b[0;34m:\u001b[0m\u001b[0;34m\u001b[0m\u001b[0;34m\u001b[0m\u001b[0m\n\u001b[1;32m    210\u001b[0m             \u001b[0mcallback\u001b[0m\u001b[0;34m(\u001b[0m\u001b[0mresult\u001b[0m\u001b[0;34m)\u001b[0m\u001b[0;34m\u001b[0m\u001b[0;34m\u001b[0m\u001b[0m\n",
            "\u001b[0;32m/usr/local/lib/python3.8/dist-packages/joblib/_parallel_backends.py\u001b[0m in \u001b[0;36m__init__\u001b[0;34m(self, batch)\u001b[0m\n\u001b[1;32m    595\u001b[0m         \u001b[0;31m# Don't delay the application, to avoid keeping the input\u001b[0m\u001b[0;34m\u001b[0m\u001b[0;34m\u001b[0m\u001b[0;34m\u001b[0m\u001b[0m\n\u001b[1;32m    596\u001b[0m         \u001b[0;31m# arguments in memory\u001b[0m\u001b[0;34m\u001b[0m\u001b[0;34m\u001b[0m\u001b[0;34m\u001b[0m\u001b[0m\n\u001b[0;32m--> 597\u001b[0;31m         \u001b[0mself\u001b[0m\u001b[0;34m.\u001b[0m\u001b[0mresults\u001b[0m \u001b[0;34m=\u001b[0m \u001b[0mbatch\u001b[0m\u001b[0;34m(\u001b[0m\u001b[0;34m)\u001b[0m\u001b[0;34m\u001b[0m\u001b[0;34m\u001b[0m\u001b[0m\n\u001b[0m\u001b[1;32m    598\u001b[0m \u001b[0;34m\u001b[0m\u001b[0m\n\u001b[1;32m    599\u001b[0m     \u001b[0;32mdef\u001b[0m \u001b[0mget\u001b[0m\u001b[0;34m(\u001b[0m\u001b[0mself\u001b[0m\u001b[0;34m)\u001b[0m\u001b[0;34m:\u001b[0m\u001b[0;34m\u001b[0m\u001b[0;34m\u001b[0m\u001b[0m\n",
            "\u001b[0;32m/usr/local/lib/python3.8/dist-packages/joblib/parallel.py\u001b[0m in \u001b[0;36m__call__\u001b[0;34m(self)\u001b[0m\n\u001b[1;32m    286\u001b[0m         \u001b[0;31m# change the default number of processes to -1\u001b[0m\u001b[0;34m\u001b[0m\u001b[0;34m\u001b[0m\u001b[0;34m\u001b[0m\u001b[0m\n\u001b[1;32m    287\u001b[0m         \u001b[0;32mwith\u001b[0m \u001b[0mparallel_backend\u001b[0m\u001b[0;34m(\u001b[0m\u001b[0mself\u001b[0m\u001b[0;34m.\u001b[0m\u001b[0m_backend\u001b[0m\u001b[0;34m,\u001b[0m \u001b[0mn_jobs\u001b[0m\u001b[0;34m=\u001b[0m\u001b[0mself\u001b[0m\u001b[0;34m.\u001b[0m\u001b[0m_n_jobs\u001b[0m\u001b[0;34m)\u001b[0m\u001b[0;34m:\u001b[0m\u001b[0;34m\u001b[0m\u001b[0;34m\u001b[0m\u001b[0m\n\u001b[0;32m--> 288\u001b[0;31m             return [func(*args, **kwargs)\n\u001b[0m\u001b[1;32m    289\u001b[0m                     for func, args, kwargs in self.items]\n\u001b[1;32m    290\u001b[0m \u001b[0;34m\u001b[0m\u001b[0m\n",
            "\u001b[0;32m/usr/local/lib/python3.8/dist-packages/joblib/parallel.py\u001b[0m in \u001b[0;36m<listcomp>\u001b[0;34m(.0)\u001b[0m\n\u001b[1;32m    286\u001b[0m         \u001b[0;31m# change the default number of processes to -1\u001b[0m\u001b[0;34m\u001b[0m\u001b[0;34m\u001b[0m\u001b[0;34m\u001b[0m\u001b[0m\n\u001b[1;32m    287\u001b[0m         \u001b[0;32mwith\u001b[0m \u001b[0mparallel_backend\u001b[0m\u001b[0;34m(\u001b[0m\u001b[0mself\u001b[0m\u001b[0;34m.\u001b[0m\u001b[0m_backend\u001b[0m\u001b[0;34m,\u001b[0m \u001b[0mn_jobs\u001b[0m\u001b[0;34m=\u001b[0m\u001b[0mself\u001b[0m\u001b[0;34m.\u001b[0m\u001b[0m_n_jobs\u001b[0m\u001b[0;34m)\u001b[0m\u001b[0;34m:\u001b[0m\u001b[0;34m\u001b[0m\u001b[0;34m\u001b[0m\u001b[0m\n\u001b[0;32m--> 288\u001b[0;31m             return [func(*args, **kwargs)\n\u001b[0m\u001b[1;32m    289\u001b[0m                     for func, args, kwargs in self.items]\n\u001b[1;32m    290\u001b[0m \u001b[0;34m\u001b[0m\u001b[0m\n",
            "\u001b[0;32m/usr/local/lib/python3.8/dist-packages/sklearn/utils/fixes.py\u001b[0m in \u001b[0;36m__call__\u001b[0;34m(self, *args, **kwargs)\u001b[0m\n\u001b[1;32m    214\u001b[0m     \u001b[0;32mdef\u001b[0m \u001b[0m__call__\u001b[0m\u001b[0;34m(\u001b[0m\u001b[0mself\u001b[0m\u001b[0;34m,\u001b[0m \u001b[0;34m*\u001b[0m\u001b[0margs\u001b[0m\u001b[0;34m,\u001b[0m \u001b[0;34m**\u001b[0m\u001b[0mkwargs\u001b[0m\u001b[0;34m)\u001b[0m\u001b[0;34m:\u001b[0m\u001b[0;34m\u001b[0m\u001b[0;34m\u001b[0m\u001b[0m\n\u001b[1;32m    215\u001b[0m         \u001b[0;32mwith\u001b[0m \u001b[0mconfig_context\u001b[0m\u001b[0;34m(\u001b[0m\u001b[0;34m**\u001b[0m\u001b[0mself\u001b[0m\u001b[0;34m.\u001b[0m\u001b[0mconfig\u001b[0m\u001b[0;34m)\u001b[0m\u001b[0;34m:\u001b[0m\u001b[0;34m\u001b[0m\u001b[0;34m\u001b[0m\u001b[0m\n\u001b[0;32m--> 216\u001b[0;31m             \u001b[0;32mreturn\u001b[0m \u001b[0mself\u001b[0m\u001b[0;34m.\u001b[0m\u001b[0mfunction\u001b[0m\u001b[0;34m(\u001b[0m\u001b[0;34m*\u001b[0m\u001b[0margs\u001b[0m\u001b[0;34m,\u001b[0m \u001b[0;34m**\u001b[0m\u001b[0mkwargs\u001b[0m\u001b[0;34m)\u001b[0m\u001b[0;34m\u001b[0m\u001b[0;34m\u001b[0m\u001b[0m\n\u001b[0m\u001b[1;32m    217\u001b[0m \u001b[0;34m\u001b[0m\u001b[0m\n\u001b[1;32m    218\u001b[0m \u001b[0;34m\u001b[0m\u001b[0m\n",
            "\u001b[0;32m/usr/local/lib/python3.8/dist-packages/sklearn/model_selection/_validation.py\u001b[0m in \u001b[0;36m_fit_and_score\u001b[0;34m(estimator, X, y, scorer, train, test, verbose, parameters, fit_params, return_train_score, return_parameters, return_n_test_samples, return_times, return_estimator, split_progress, candidate_progress, error_score)\u001b[0m\n\u001b[1;32m    666\u001b[0m             \u001b[0mcloned_parameters\u001b[0m\u001b[0;34m[\u001b[0m\u001b[0mk\u001b[0m\u001b[0;34m]\u001b[0m \u001b[0;34m=\u001b[0m \u001b[0mclone\u001b[0m\u001b[0;34m(\u001b[0m\u001b[0mv\u001b[0m\u001b[0;34m,\u001b[0m \u001b[0msafe\u001b[0m\u001b[0;34m=\u001b[0m\u001b[0;32mFalse\u001b[0m\u001b[0;34m)\u001b[0m\u001b[0;34m\u001b[0m\u001b[0;34m\u001b[0m\u001b[0m\n\u001b[1;32m    667\u001b[0m \u001b[0;34m\u001b[0m\u001b[0m\n\u001b[0;32m--> 668\u001b[0;31m         \u001b[0mestimator\u001b[0m \u001b[0;34m=\u001b[0m \u001b[0mestimator\u001b[0m\u001b[0;34m.\u001b[0m\u001b[0mset_params\u001b[0m\u001b[0;34m(\u001b[0m\u001b[0;34m**\u001b[0m\u001b[0mcloned_parameters\u001b[0m\u001b[0;34m)\u001b[0m\u001b[0;34m\u001b[0m\u001b[0;34m\u001b[0m\u001b[0m\n\u001b[0m\u001b[1;32m    669\u001b[0m \u001b[0;34m\u001b[0m\u001b[0m\n\u001b[1;32m    670\u001b[0m     \u001b[0mstart_time\u001b[0m \u001b[0;34m=\u001b[0m \u001b[0mtime\u001b[0m\u001b[0;34m.\u001b[0m\u001b[0mtime\u001b[0m\u001b[0;34m(\u001b[0m\u001b[0;34m)\u001b[0m\u001b[0;34m\u001b[0m\u001b[0;34m\u001b[0m\u001b[0m\n",
            "\u001b[0;32m/usr/local/lib/python3.8/dist-packages/sklearn/pipeline.py\u001b[0m in \u001b[0;36mset_params\u001b[0;34m(self, **kwargs)\u001b[0m\n\u001b[1;32m    186\u001b[0m             \u001b[0mPipeline\u001b[0m \u001b[0;32mclass\u001b[0m \u001b[0minstance\u001b[0m\u001b[0;34m.\u001b[0m\u001b[0;34m\u001b[0m\u001b[0;34m\u001b[0m\u001b[0m\n\u001b[1;32m    187\u001b[0m         \"\"\"\n\u001b[0;32m--> 188\u001b[0;31m         \u001b[0mself\u001b[0m\u001b[0;34m.\u001b[0m\u001b[0m_set_params\u001b[0m\u001b[0;34m(\u001b[0m\u001b[0;34m\"steps\"\u001b[0m\u001b[0;34m,\u001b[0m \u001b[0;34m**\u001b[0m\u001b[0mkwargs\u001b[0m\u001b[0;34m)\u001b[0m\u001b[0;34m\u001b[0m\u001b[0;34m\u001b[0m\u001b[0m\n\u001b[0m\u001b[1;32m    189\u001b[0m         \u001b[0;32mreturn\u001b[0m \u001b[0mself\u001b[0m\u001b[0;34m\u001b[0m\u001b[0;34m\u001b[0m\u001b[0m\n\u001b[1;32m    190\u001b[0m \u001b[0;34m\u001b[0m\u001b[0m\n",
            "\u001b[0;32m/usr/local/lib/python3.8/dist-packages/sklearn/utils/metaestimators.py\u001b[0m in \u001b[0;36m_set_params\u001b[0;34m(self, attr, **params)\u001b[0m\n\u001b[1;32m     52\u001b[0m                 \u001b[0mself\u001b[0m\u001b[0;34m.\u001b[0m\u001b[0m_replace_estimator\u001b[0m\u001b[0;34m(\u001b[0m\u001b[0mattr\u001b[0m\u001b[0;34m,\u001b[0m \u001b[0mname\u001b[0m\u001b[0;34m,\u001b[0m \u001b[0mparams\u001b[0m\u001b[0;34m.\u001b[0m\u001b[0mpop\u001b[0m\u001b[0;34m(\u001b[0m\u001b[0mname\u001b[0m\u001b[0;34m)\u001b[0m\u001b[0;34m)\u001b[0m\u001b[0;34m\u001b[0m\u001b[0;34m\u001b[0m\u001b[0m\n\u001b[1;32m     53\u001b[0m         \u001b[0;31m# 3. Step parameters and other initialisation arguments\u001b[0m\u001b[0;34m\u001b[0m\u001b[0;34m\u001b[0m\u001b[0;34m\u001b[0m\u001b[0m\n\u001b[0;32m---> 54\u001b[0;31m         \u001b[0msuper\u001b[0m\u001b[0;34m(\u001b[0m\u001b[0;34m)\u001b[0m\u001b[0;34m.\u001b[0m\u001b[0mset_params\u001b[0m\u001b[0;34m(\u001b[0m\u001b[0;34m**\u001b[0m\u001b[0mparams\u001b[0m\u001b[0;34m)\u001b[0m\u001b[0;34m\u001b[0m\u001b[0;34m\u001b[0m\u001b[0m\n\u001b[0m\u001b[1;32m     55\u001b[0m         \u001b[0;32mreturn\u001b[0m \u001b[0mself\u001b[0m\u001b[0;34m\u001b[0m\u001b[0;34m\u001b[0m\u001b[0m\n\u001b[1;32m     56\u001b[0m \u001b[0;34m\u001b[0m\u001b[0m\n",
            "\u001b[0;32m/usr/local/lib/python3.8/dist-packages/sklearn/base.py\u001b[0m in \u001b[0;36mset_params\u001b[0;34m(self, **params)\u001b[0m\n\u001b[1;32m    243\u001b[0m             \u001b[0mkey\u001b[0m\u001b[0;34m,\u001b[0m \u001b[0mdelim\u001b[0m\u001b[0;34m,\u001b[0m \u001b[0msub_key\u001b[0m \u001b[0;34m=\u001b[0m \u001b[0mkey\u001b[0m\u001b[0;34m.\u001b[0m\u001b[0mpartition\u001b[0m\u001b[0;34m(\u001b[0m\u001b[0;34m\"__\"\u001b[0m\u001b[0;34m)\u001b[0m\u001b[0;34m\u001b[0m\u001b[0;34m\u001b[0m\u001b[0m\n\u001b[1;32m    244\u001b[0m             \u001b[0;32mif\u001b[0m \u001b[0mkey\u001b[0m \u001b[0;32mnot\u001b[0m \u001b[0;32min\u001b[0m \u001b[0mvalid_params\u001b[0m\u001b[0;34m:\u001b[0m\u001b[0;34m\u001b[0m\u001b[0;34m\u001b[0m\u001b[0m\n\u001b[0;32m--> 245\u001b[0;31m                 raise ValueError(\n\u001b[0m\u001b[1;32m    246\u001b[0m                     \u001b[0;34m\"Invalid parameter %s for estimator %s. \"\u001b[0m\u001b[0;34m\u001b[0m\u001b[0;34m\u001b[0m\u001b[0m\n\u001b[1;32m    247\u001b[0m                     \u001b[0;34m\"Check the list of available parameters \"\u001b[0m\u001b[0;34m\u001b[0m\u001b[0;34m\u001b[0m\u001b[0m\n",
            "\u001b[0;31mValueError\u001b[0m: Invalid parameter max_depth for estimator Pipeline(steps=[('columntransformer',\n                 ColumnTransformer(remainder='passthrough',\n                                   transformers=[('pipeline-1',\n                                                  Pipeline(steps=[('standardscaler',\n                                                                   StandardScaler()),\n                                                                  ('simpleimputer',\n                                                                   SimpleImputer())]),\n                                                  <sklearn.compose._column_transformer.make_column_selector object at 0x7fee0e6c51f0>),\n                                                 ('pipeline-2',\n                                                  Pipeline(steps=[('onehotencoder',\n                                                                   OneHotEncoder(handle_unknown='ignore',\n                                                                                 sparse=False))]),\n                                                  <sklearn.compose._column_transformer.make_column_selector object at 0x7fee0e6c5880>)])),\n                ('randomforestclassifier',\n                 RandomForestClassifier(random_state=42))]). Check the list of available parameters with `estimator.get_params().keys()`."
          ]
        }
      ]
    }
  ]
}